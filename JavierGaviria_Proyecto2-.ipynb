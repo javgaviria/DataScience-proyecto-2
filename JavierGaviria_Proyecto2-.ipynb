{
 "cells": [
  {
   "cell_type": "code",
   "execution_count": 1,
   "metadata": {
    "scrolled": false
   },
   "outputs": [],
   "source": [
    "# Librerías para la importación de archivos\n",
    "import pandas as pd\n",
    "import numpy as np\n",
    "\n",
    "# Liberías para el tratamiento de los datos\n",
    "import feature_engine\n",
    "from feature_engine.imputation import AddMissingIndicator, CategoricalImputer, MeanMedianImputer, ArbitraryNumberImputer\n",
    "from feature_engine.encoding import RareLabelEncoder, MeanEncoder\n",
    "from feature_engine.outliers import Winsorizer, ArbitraryOutlierCapper, OutlierTrimmer\n",
    "from feature_engine.selection import DropConstantFeatures, DropCorrelatedFeatures, SmartCorrelatedSelection\n",
    "import category_encoders as ce\n",
    "from sklearn.base import BaseEstimator, TransformerMixin\n",
    "from sklearn.metrics import mean_squared_error\n",
    "from sklearn.metrics import r2_score\n",
    "from sklearn import linear_model\n",
    "from sklearn.tree import DecisionTreeRegressor\n",
    "from sklearn.linear_model import LinearRegression\n",
    "from sklearn.utils.validation import check_is_fitted\n",
    "from sklearn.model_selection import train_test_split\n",
    "from imblearn.pipeline import Pipeline\n",
    "from funpymodeling.exploratory import freq_tbl\n",
    "from sklearn.ensemble import RandomForestRegressor\n",
    "from sklearn.model_selection import RandomizedSearchCV\n",
    "from skopt.space import Real, Integer, Categorical\n",
    "\n",
    "\n",
    "\n",
    "# Liberías para graficos\n",
    "import seaborn as sns\n",
    "import matplotlib.pyplot  as plt\n",
    "\n"
   ]
  },
  {
   "cell_type": "code",
   "execution_count": 2,
   "metadata": {},
   "outputs": [
    {
     "data": {
      "text/html": [
       "<style>.container { width:100% !important; }</style>"
      ],
      "text/plain": [
       "<IPython.core.display.HTML object>"
      ]
     },
     "metadata": {},
     "output_type": "display_data"
    }
   ],
   "source": [
    "\n",
    "#Seteo para que el máximo de columnas que muestra al levantar una base sean 500\n",
    "pd.set_option('display.max_columns',500)\n",
    "#Estos códigos hacen que la visualización de la consola abarque toda la pantalla (sin los recortes a los costados). Tambien hacen que al mostrar dataframes podamos ver todas las columnas que tiene.\n",
    "from IPython.core.display import display, HTML\n",
    "display(HTML(\"<style>.container { width:100% !important; }</style>\"))\n",
    "\n",
    "\n",
    "# Codigo para poder imprimir multiples outputs en una misma línea\n",
    "from IPython.core.interactiveshell import InteractiveShell\n",
    "InteractiveShell.ast_node_interactivity = \"all\""
   ]
  },
  {
   "cell_type": "code",
   "execution_count": 3,
   "metadata": {},
   "outputs": [],
   "source": [
    "#Seteo para que no utilice notacion cientifica\n",
    "pd.options.display.float_format = '{:.2f}'.format"
   ]
  },
  {
   "cell_type": "code",
   "execution_count": 4,
   "metadata": {},
   "outputs": [],
   "source": [
    "class FeatureSelector(BaseEstimator, TransformerMixin):\n",
    "    \"\"\"\n",
    "    Selecciona features por su nombre. Servirá para aplicar pipelines a distintos datasets\n",
    "    \"\"\"\n",
    "    def __init__(self, columns):\n",
    "        \"\"\"columns = lista de column names\"\"\"\n",
    "        self.columns = columns\n",
    "    def fit(self, X, y=None):\n",
    "        return self\n",
    "    def transform(self, X, y=None):\n",
    "        return X[self.columns]"
   ]
  },
  {
   "cell_type": "markdown",
   "metadata": {},
   "source": [
    "## Transformacion de datos\n",
    "\n",
    "#### Para la transformacion de datos implementare un pipeline de preprocesamiento luego de hacer una separacion en un Test/Train Split."
   ]
  },
  {
   "cell_type": "code",
   "execution_count": 137,
   "metadata": {},
   "outputs": [],
   "source": [
    "# Importo el dataset \n",
    "data_1 = pd.read_csv('DS_Proyecto_01_Datos_Properati.csv')"
   ]
  },
  {
   "cell_type": "code",
   "execution_count": 138,
   "metadata": {},
   "outputs": [
    {
     "data": {
      "text/html": [
       "<div>\n",
       "<style scoped>\n",
       "    .dataframe tbody tr th:only-of-type {\n",
       "        vertical-align: middle;\n",
       "    }\n",
       "\n",
       "    .dataframe tbody tr th {\n",
       "        vertical-align: top;\n",
       "    }\n",
       "\n",
       "    .dataframe thead th {\n",
       "        text-align: right;\n",
       "    }\n",
       "</style>\n",
       "<table border=\"1\" class=\"dataframe\">\n",
       "  <thead>\n",
       "    <tr style=\"text-align: right;\">\n",
       "      <th></th>\n",
       "      <th>lat</th>\n",
       "      <th>lon</th>\n",
       "      <th>l2</th>\n",
       "      <th>l3</th>\n",
       "      <th>rooms</th>\n",
       "      <th>bedrooms</th>\n",
       "      <th>bathrooms</th>\n",
       "      <th>surface_total</th>\n",
       "      <th>surface_covered</th>\n",
       "      <th>price</th>\n",
       "      <th>property_type</th>\n",
       "    </tr>\n",
       "  </thead>\n",
       "  <tbody>\n",
       "    <tr>\n",
       "      <th>0</th>\n",
       "      <td>-34.61</td>\n",
       "      <td>-58.38</td>\n",
       "      <td>Capital Federal</td>\n",
       "      <td>San Cristobal</td>\n",
       "      <td>7.00</td>\n",
       "      <td>7.00</td>\n",
       "      <td>2.00</td>\n",
       "      <td>140.00</td>\n",
       "      <td>140.00</td>\n",
       "      <td>153000.00</td>\n",
       "      <td>Departamento</td>\n",
       "    </tr>\n",
       "    <tr>\n",
       "      <th>1</th>\n",
       "      <td>-34.62</td>\n",
       "      <td>-58.41</td>\n",
       "      <td>Capital Federal</td>\n",
       "      <td>Boedo</td>\n",
       "      <td>2.00</td>\n",
       "      <td>1.00</td>\n",
       "      <td>2.00</td>\n",
       "      <td>70.00</td>\n",
       "      <td>58.00</td>\n",
       "      <td>159000.00</td>\n",
       "      <td>PH</td>\n",
       "    </tr>\n",
       "    <tr>\n",
       "      <th>2</th>\n",
       "      <td>-34.59</td>\n",
       "      <td>-58.43</td>\n",
       "      <td>Capital Federal</td>\n",
       "      <td>Palermo</td>\n",
       "      <td>2.00</td>\n",
       "      <td>1.00</td>\n",
       "      <td>1.00</td>\n",
       "      <td>45.00</td>\n",
       "      <td>45.00</td>\n",
       "      <td>125000.00</td>\n",
       "      <td>PH</td>\n",
       "    </tr>\n",
       "    <tr>\n",
       "      <th>3</th>\n",
       "      <td>-34.58</td>\n",
       "      <td>-58.44</td>\n",
       "      <td>Capital Federal</td>\n",
       "      <td>Palermo</td>\n",
       "      <td>2.00</td>\n",
       "      <td>1.00</td>\n",
       "      <td>1.00</td>\n",
       "      <td>85.00</td>\n",
       "      <td>50.00</td>\n",
       "      <td>295000.00</td>\n",
       "      <td>PH</td>\n",
       "    </tr>\n",
       "    <tr>\n",
       "      <th>4</th>\n",
       "      <td>-34.91</td>\n",
       "      <td>-57.94</td>\n",
       "      <td>Bs.As. G.B.A. Zona Sur</td>\n",
       "      <td>La Plata</td>\n",
       "      <td>2.00</td>\n",
       "      <td>1.00</td>\n",
       "      <td>1.00</td>\n",
       "      <td>50.00</td>\n",
       "      <td>35.00</td>\n",
       "      <td>40000.00</td>\n",
       "      <td>PH</td>\n",
       "    </tr>\n",
       "  </tbody>\n",
       "</table>\n",
       "</div>"
      ],
      "text/plain": [
       "     lat    lon                      l2             l3  rooms  bedrooms  \\\n",
       "0 -34.61 -58.38         Capital Federal  San Cristobal   7.00      7.00   \n",
       "1 -34.62 -58.41         Capital Federal          Boedo   2.00      1.00   \n",
       "2 -34.59 -58.43         Capital Federal        Palermo   2.00      1.00   \n",
       "3 -34.58 -58.44         Capital Federal        Palermo   2.00      1.00   \n",
       "4 -34.91 -57.94  Bs.As. G.B.A. Zona Sur       La Plata   2.00      1.00   \n",
       "\n",
       "   bathrooms  surface_total  surface_covered     price property_type  \n",
       "0       2.00         140.00           140.00 153000.00  Departamento  \n",
       "1       2.00          70.00            58.00 159000.00            PH  \n",
       "2       1.00          45.00            45.00 125000.00            PH  \n",
       "3       1.00          85.00            50.00 295000.00            PH  \n",
       "4       1.00          50.00            35.00  40000.00            PH  "
      ]
     },
     "execution_count": 138,
     "metadata": {},
     "output_type": "execute_result"
    }
   ],
   "source": [
    "# Elimino columnas que no usare\n",
    "data_1 = data_1.drop(['created_on','currency','start_date','l1','end_date','title','description','operation_type'], axis=1)\n",
    "data_1.head()"
   ]
  },
  {
   "cell_type": "code",
   "execution_count": 139,
   "metadata": {
    "scrolled": true
   },
   "outputs": [
    {
     "data": {
      "text/plain": [
       "(146660, 11)"
      ]
     },
     "execution_count": 139,
     "metadata": {},
     "output_type": "execute_result"
    }
   ],
   "source": [
    "data_1.shape"
   ]
  },
  {
   "cell_type": "markdown",
   "metadata": {},
   "source": [
    "#### Realizo un filtro por propiedades de Capital Federal y que sean Departamentos, PHs y Casas para que la comparacion con el modelo del Sprint 1 sea valida."
   ]
  },
  {
   "cell_type": "code",
   "execution_count": 311,
   "metadata": {},
   "outputs": [],
   "source": [
    "# Filtro por propiedades de Cap Fed y que sean Departamentos, PH y Casa\n",
    "data_1 = data_1[data_1.property_type.isin(['Departamento', 'PH', 'Casa']) & (data_1.l2=='Capital Federal')]"
   ]
  },
  {
   "cell_type": "markdown",
   "metadata": {},
   "source": [
    "#### Chequeo como queda distribuido el Dataset luego del primer filtro."
   ]
  },
  {
   "cell_type": "code",
   "execution_count": 146,
   "metadata": {
    "scrolled": false
   },
   "outputs": [
    {
     "data": {
      "text/html": [
       "<div>\n",
       "<style scoped>\n",
       "    .dataframe tbody tr th:only-of-type {\n",
       "        vertical-align: middle;\n",
       "    }\n",
       "\n",
       "    .dataframe tbody tr th {\n",
       "        vertical-align: top;\n",
       "    }\n",
       "\n",
       "    .dataframe thead th {\n",
       "        text-align: right;\n",
       "    }\n",
       "</style>\n",
       "<table border=\"1\" class=\"dataframe\">\n",
       "  <thead>\n",
       "    <tr style=\"text-align: right;\">\n",
       "      <th></th>\n",
       "      <th>lat</th>\n",
       "      <th>lon</th>\n",
       "      <th>rooms</th>\n",
       "      <th>bedrooms</th>\n",
       "      <th>bathrooms</th>\n",
       "      <th>surface_total</th>\n",
       "      <th>surface_covered</th>\n",
       "      <th>price</th>\n",
       "    </tr>\n",
       "  </thead>\n",
       "  <tbody>\n",
       "    <tr>\n",
       "      <th>count</th>\n",
       "      <td>86951.00</td>\n",
       "      <td>86937.00</td>\n",
       "      <td>91485.00</td>\n",
       "      <td>91485.00</td>\n",
       "      <td>89314.00</td>\n",
       "      <td>82568.00</td>\n",
       "      <td>82250.00</td>\n",
       "      <td>91485.00</td>\n",
       "    </tr>\n",
       "    <tr>\n",
       "      <th>mean</th>\n",
       "      <td>-34.60</td>\n",
       "      <td>-58.44</td>\n",
       "      <td>2.96</td>\n",
       "      <td>1.96</td>\n",
       "      <td>1.56</td>\n",
       "      <td>112.63</td>\n",
       "      <td>94.97</td>\n",
       "      <td>259500.26</td>\n",
       "    </tr>\n",
       "    <tr>\n",
       "      <th>std</th>\n",
       "      <td>0.02</td>\n",
       "      <td>0.04</td>\n",
       "      <td>1.31</td>\n",
       "      <td>1.07</td>\n",
       "      <td>0.86</td>\n",
       "      <td>980.71</td>\n",
       "      <td>778.52</td>\n",
       "      <td>322265.44</td>\n",
       "    </tr>\n",
       "    <tr>\n",
       "      <th>min</th>\n",
       "      <td>-34.70</td>\n",
       "      <td>-58.53</td>\n",
       "      <td>1.00</td>\n",
       "      <td>0.00</td>\n",
       "      <td>1.00</td>\n",
       "      <td>10.00</td>\n",
       "      <td>1.00</td>\n",
       "      <td>6000.00</td>\n",
       "    </tr>\n",
       "    <tr>\n",
       "      <th>1%</th>\n",
       "      <td>-34.66</td>\n",
       "      <td>-58.52</td>\n",
       "      <td>1.00</td>\n",
       "      <td>0.00</td>\n",
       "      <td>1.00</td>\n",
       "      <td>26.00</td>\n",
       "      <td>25.00</td>\n",
       "      <td>58000.00</td>\n",
       "    </tr>\n",
       "    <tr>\n",
       "      <th>2%</th>\n",
       "      <td>-34.65</td>\n",
       "      <td>-58.51</td>\n",
       "      <td>1.00</td>\n",
       "      <td>0.00</td>\n",
       "      <td>1.00</td>\n",
       "      <td>30.00</td>\n",
       "      <td>27.00</td>\n",
       "      <td>65000.00</td>\n",
       "    </tr>\n",
       "    <tr>\n",
       "      <th>5%</th>\n",
       "      <td>-34.64</td>\n",
       "      <td>-58.50</td>\n",
       "      <td>1.00</td>\n",
       "      <td>1.00</td>\n",
       "      <td>1.00</td>\n",
       "      <td>34.00</td>\n",
       "      <td>32.00</td>\n",
       "      <td>78771.20</td>\n",
       "    </tr>\n",
       "    <tr>\n",
       "      <th>10%</th>\n",
       "      <td>-34.63</td>\n",
       "      <td>-58.49</td>\n",
       "      <td>2.00</td>\n",
       "      <td>1.00</td>\n",
       "      <td>1.00</td>\n",
       "      <td>39.00</td>\n",
       "      <td>36.00</td>\n",
       "      <td>90000.00</td>\n",
       "    </tr>\n",
       "    <tr>\n",
       "      <th>25%</th>\n",
       "      <td>-34.61</td>\n",
       "      <td>-58.46</td>\n",
       "      <td>2.00</td>\n",
       "      <td>1.00</td>\n",
       "      <td>1.00</td>\n",
       "      <td>49.00</td>\n",
       "      <td>44.00</td>\n",
       "      <td>120000.00</td>\n",
       "    </tr>\n",
       "    <tr>\n",
       "      <th>50%</th>\n",
       "      <td>-34.60</td>\n",
       "      <td>-58.43</td>\n",
       "      <td>3.00</td>\n",
       "      <td>2.00</td>\n",
       "      <td>1.00</td>\n",
       "      <td>71.00</td>\n",
       "      <td>63.00</td>\n",
       "      <td>175000.00</td>\n",
       "    </tr>\n",
       "    <tr>\n",
       "      <th>75%</th>\n",
       "      <td>-34.58</td>\n",
       "      <td>-58.41</td>\n",
       "      <td>4.00</td>\n",
       "      <td>3.00</td>\n",
       "      <td>2.00</td>\n",
       "      <td>111.00</td>\n",
       "      <td>96.00</td>\n",
       "      <td>279000.00</td>\n",
       "    </tr>\n",
       "    <tr>\n",
       "      <th>90%</th>\n",
       "      <td>-34.57</td>\n",
       "      <td>-58.39</td>\n",
       "      <td>4.00</td>\n",
       "      <td>3.00</td>\n",
       "      <td>3.00</td>\n",
       "      <td>180.00</td>\n",
       "      <td>151.00</td>\n",
       "      <td>460000.00</td>\n",
       "    </tr>\n",
       "    <tr>\n",
       "      <th>95%</th>\n",
       "      <td>-34.56</td>\n",
       "      <td>-58.38</td>\n",
       "      <td>5.00</td>\n",
       "      <td>4.00</td>\n",
       "      <td>3.00</td>\n",
       "      <td>250.00</td>\n",
       "      <td>200.00</td>\n",
       "      <td>695000.00</td>\n",
       "    </tr>\n",
       "    <tr>\n",
       "      <th>98%</th>\n",
       "      <td>-34.55</td>\n",
       "      <td>-58.37</td>\n",
       "      <td>6.00</td>\n",
       "      <td>4.00</td>\n",
       "      <td>4.00</td>\n",
       "      <td>353.00</td>\n",
       "      <td>286.00</td>\n",
       "      <td>1200000.00</td>\n",
       "    </tr>\n",
       "    <tr>\n",
       "      <th>99%</th>\n",
       "      <td>-34.55</td>\n",
       "      <td>-58.36</td>\n",
       "      <td>7.00</td>\n",
       "      <td>5.00</td>\n",
       "      <td>5.00</td>\n",
       "      <td>431.00</td>\n",
       "      <td>360.00</td>\n",
       "      <td>1590000.00</td>\n",
       "    </tr>\n",
       "    <tr>\n",
       "      <th>max</th>\n",
       "      <td>-34.54</td>\n",
       "      <td>-58.35</td>\n",
       "      <td>26.00</td>\n",
       "      <td>15.00</td>\n",
       "      <td>14.00</td>\n",
       "      <td>126062.00</td>\n",
       "      <td>126062.00</td>\n",
       "      <td>32434232.00</td>\n",
       "    </tr>\n",
       "  </tbody>\n",
       "</table>\n",
       "</div>"
      ],
      "text/plain": [
       "           lat      lon    rooms  bedrooms  bathrooms  surface_total  \\\n",
       "count 86951.00 86937.00 91485.00  91485.00   89314.00       82568.00   \n",
       "mean    -34.60   -58.44     2.96      1.96       1.56         112.63   \n",
       "std       0.02     0.04     1.31      1.07       0.86         980.71   \n",
       "min     -34.70   -58.53     1.00      0.00       1.00          10.00   \n",
       "1%      -34.66   -58.52     1.00      0.00       1.00          26.00   \n",
       "2%      -34.65   -58.51     1.00      0.00       1.00          30.00   \n",
       "5%      -34.64   -58.50     1.00      1.00       1.00          34.00   \n",
       "10%     -34.63   -58.49     2.00      1.00       1.00          39.00   \n",
       "25%     -34.61   -58.46     2.00      1.00       1.00          49.00   \n",
       "50%     -34.60   -58.43     3.00      2.00       1.00          71.00   \n",
       "75%     -34.58   -58.41     4.00      3.00       2.00         111.00   \n",
       "90%     -34.57   -58.39     4.00      3.00       3.00         180.00   \n",
       "95%     -34.56   -58.38     5.00      4.00       3.00         250.00   \n",
       "98%     -34.55   -58.37     6.00      4.00       4.00         353.00   \n",
       "99%     -34.55   -58.36     7.00      5.00       5.00         431.00   \n",
       "max     -34.54   -58.35    26.00     15.00      14.00      126062.00   \n",
       "\n",
       "       surface_covered       price  \n",
       "count         82250.00    91485.00  \n",
       "mean             94.97   259500.26  \n",
       "std             778.52   322265.44  \n",
       "min               1.00     6000.00  \n",
       "1%               25.00    58000.00  \n",
       "2%               27.00    65000.00  \n",
       "5%               32.00    78771.20  \n",
       "10%              36.00    90000.00  \n",
       "25%              44.00   120000.00  \n",
       "50%              63.00   175000.00  \n",
       "75%              96.00   279000.00  \n",
       "90%             151.00   460000.00  \n",
       "95%             200.00   695000.00  \n",
       "98%             286.00  1200000.00  \n",
       "99%             360.00  1590000.00  \n",
       "max          126062.00 32434232.00  "
      ]
     },
     "execution_count": 146,
     "metadata": {},
     "output_type": "execute_result"
    }
   ],
   "source": [
    "per = [0.01,0.02,0.05,0.1,0.25,0.5,0.75,0.9,0.95,0.98,0.99]\n",
    "data_1.describe(percentiles=per)"
   ]
  },
  {
   "cell_type": "markdown",
   "metadata": {},
   "source": [
    "#### Dado que el 95% de las propiedades tienen un precio menor a USD695.000.- realizo un filtro en ese percentil, ya que cuando implemente el Pipeline el precio quedara en el conjunto 'Y' y no sera modificado. "
   ]
  },
  {
   "cell_type": "code",
   "execution_count": 312,
   "metadata": {},
   "outputs": [],
   "source": [
    "# Elimino prop con precio mayor a 695k\n",
    "data_1 = data_1[data_1.price <= 695000]"
   ]
  },
  {
   "cell_type": "code",
   "execution_count": 313,
   "metadata": {
    "scrolled": true
   },
   "outputs": [
    {
     "data": {
      "text/plain": [
       "(86953, 11)"
      ]
     },
     "execution_count": 313,
     "metadata": {},
     "output_type": "execute_result"
    }
   ],
   "source": [
    "# Chequeo cuantas filas quedaron.\n",
    "data_1.shape"
   ]
  },
  {
   "cell_type": "code",
   "execution_count": 207,
   "metadata": {},
   "outputs": [
    {
     "name": "stdout",
     "output_type": "stream",
     "text": [
      "Valores faltantes por columnas\n"
     ]
    },
    {
     "data": {
      "text/plain": [
       "lat                3931\n",
       "lon                3945\n",
       "l2                    0\n",
       "l3                    0\n",
       "rooms                 0\n",
       "bedrooms              0\n",
       "bathrooms          2131\n",
       "surface_total      8670\n",
       "surface_covered    8972\n",
       "price                 0\n",
       "property_type         0\n",
       "dtype: int64"
      ]
     },
     "execution_count": 207,
     "metadata": {},
     "output_type": "execute_result"
    }
   ],
   "source": [
    "# Chequeo que columnas tienen valores faltantes y cuantos son\n",
    "print('Valores faltantes por columnas')\n",
    "data_1.isnull().sum()"
   ]
  },
  {
   "cell_type": "code",
   "execution_count": 226,
   "metadata": {
    "scrolled": false
   },
   "outputs": [
    {
     "data": {
      "text/plain": [
       "<Figure size 1440x1080 with 0 Axes>"
      ]
     },
     "execution_count": 226,
     "metadata": {},
     "output_type": "execute_result"
    },
    {
     "data": {
      "text/plain": [
       "Text(0.5, 0.98, 'Boxplot de las variables: Ambientes, habitaciones, baños, superficie total, superficie cubierta, precio')"
      ]
     },
     "execution_count": 226,
     "metadata": {},
     "output_type": "execute_result"
    },
    {
     "data": {
      "text/plain": [
       "<AxesSubplot:>"
      ]
     },
     "execution_count": 226,
     "metadata": {},
     "output_type": "execute_result"
    },
    {
     "data": {
      "text/plain": [
       "<AxesSubplot:xlabel='rooms'>"
      ]
     },
     "execution_count": 226,
     "metadata": {},
     "output_type": "execute_result"
    },
    {
     "data": {
      "text/plain": [
       "Text(0.5, 0, 'Ambientes')"
      ]
     },
     "execution_count": 226,
     "metadata": {},
     "output_type": "execute_result"
    },
    {
     "data": {
      "text/plain": [
       "<AxesSubplot:>"
      ]
     },
     "execution_count": 226,
     "metadata": {},
     "output_type": "execute_result"
    },
    {
     "data": {
      "text/plain": [
       "<AxesSubplot:xlabel='bedrooms'>"
      ]
     },
     "execution_count": 226,
     "metadata": {},
     "output_type": "execute_result"
    },
    {
     "data": {
      "text/plain": [
       "Text(0.5, 0, 'Habitaciones')"
      ]
     },
     "execution_count": 226,
     "metadata": {},
     "output_type": "execute_result"
    },
    {
     "data": {
      "text/plain": [
       "<AxesSubplot:>"
      ]
     },
     "execution_count": 226,
     "metadata": {},
     "output_type": "execute_result"
    },
    {
     "data": {
      "text/plain": [
       "<AxesSubplot:xlabel='bathrooms'>"
      ]
     },
     "execution_count": 226,
     "metadata": {},
     "output_type": "execute_result"
    },
    {
     "data": {
      "text/plain": [
       "Text(0.5, 0, 'Baños')"
      ]
     },
     "execution_count": 226,
     "metadata": {},
     "output_type": "execute_result"
    },
    {
     "data": {
      "text/plain": [
       "<AxesSubplot:>"
      ]
     },
     "execution_count": 226,
     "metadata": {},
     "output_type": "execute_result"
    },
    {
     "data": {
      "text/plain": [
       "<AxesSubplot:xlabel='surface_total'>"
      ]
     },
     "execution_count": 226,
     "metadata": {},
     "output_type": "execute_result"
    },
    {
     "data": {
      "text/plain": [
       "Text(0.5, 0, 'Superficie total')"
      ]
     },
     "execution_count": 226,
     "metadata": {},
     "output_type": "execute_result"
    },
    {
     "data": {
      "text/plain": [
       "<AxesSubplot:>"
      ]
     },
     "execution_count": 226,
     "metadata": {},
     "output_type": "execute_result"
    },
    {
     "data": {
      "text/plain": [
       "<AxesSubplot:xlabel='surface_covered'>"
      ]
     },
     "execution_count": 226,
     "metadata": {},
     "output_type": "execute_result"
    },
    {
     "data": {
      "text/plain": [
       "Text(0.5, 0, 'Superficie Cubierta')"
      ]
     },
     "execution_count": 226,
     "metadata": {},
     "output_type": "execute_result"
    },
    {
     "data": {
      "text/plain": [
       "<AxesSubplot:>"
      ]
     },
     "execution_count": 226,
     "metadata": {},
     "output_type": "execute_result"
    },
    {
     "data": {
      "text/plain": [
       "<AxesSubplot:xlabel='price'>"
      ]
     },
     "execution_count": 226,
     "metadata": {},
     "output_type": "execute_result"
    },
    {
     "data": {
      "text/plain": [
       "Text(0.5, 0, 'Precio')"
      ]
     },
     "execution_count": 226,
     "metadata": {},
     "output_type": "execute_result"
    },
    {
     "name": "stdout",
     "output_type": "stream",
     "text": [
      "\n"
     ]
    },
    {
     "data": {
      "image/png": "[encoded data removed]",
      "text/plain": [
       "<Figure size 1440x1080 with 6 Axes>"
      ]
     },
     "metadata": {
      "needs_background": "light"
     },
     "output_type": "display_data"
    }
   ],
   "source": [
    "# Realizo un boxplot para identificar posibles outliers\n",
    "plt.figure(figsize= (20,15))\n",
    "plt.suptitle(\"Boxplot de las variables: Ambientes, habitaciones, baños, superficie total, superficie cubierta, precio\", weight=16, size = 16)\n",
    "\n",
    "plt.subplot(2,3,1)\n",
    "sns.boxplot(data_1.rooms)\n",
    "plt.xlabel('Ambientes')\n",
    "\n",
    "plt.subplot(2,3,2)\n",
    "sns.boxplot(data_1.bedrooms)\n",
    "plt.xlabel('Habitaciones')\n",
    "\n",
    "plt.subplot(2,3,3)\n",
    "sns.boxplot(data_1.bathrooms)\n",
    "plt.xlabel('Baños')\n",
    "\n",
    "plt.subplot(2,3,4)\n",
    "sns.boxplot(data_1.surface_total)\n",
    "plt.xlabel('Superficie total')\n",
    "\n",
    "plt.subplot(2,3,5)\n",
    "sns.boxplot(data_1.surface_covered)\n",
    "plt.xlabel('Superficie Cubierta')\n",
    "\n",
    "plt.subplot(2,3,6)\n",
    "sns.boxplot(data_1.price)\n",
    "plt.xlabel('Precio')"
   ]
  },
  {
   "cell_type": "code",
   "execution_count": 224,
   "metadata": {
    "scrolled": false
   },
   "outputs": [
    {
     "data": {
      "text/html": [
       "<div>\n",
       "<style scoped>\n",
       "    .dataframe tbody tr th:only-of-type {\n",
       "        vertical-align: middle;\n",
       "    }\n",
       "\n",
       "    .dataframe tbody tr th {\n",
       "        vertical-align: top;\n",
       "    }\n",
       "\n",
       "    .dataframe thead th {\n",
       "        text-align: right;\n",
       "    }\n",
       "</style>\n",
       "<table border=\"1\" class=\"dataframe\">\n",
       "  <thead>\n",
       "    <tr style=\"text-align: right;\">\n",
       "      <th></th>\n",
       "      <th>lat</th>\n",
       "      <th>lon</th>\n",
       "      <th>rooms</th>\n",
       "      <th>bedrooms</th>\n",
       "      <th>bathrooms</th>\n",
       "      <th>surface_total</th>\n",
       "      <th>surface_covered</th>\n",
       "      <th>price</th>\n",
       "    </tr>\n",
       "  </thead>\n",
       "  <tbody>\n",
       "    <tr>\n",
       "      <th>count</th>\n",
       "      <td>83022.00</td>\n",
       "      <td>83008.00</td>\n",
       "      <td>86953.00</td>\n",
       "      <td>86953.00</td>\n",
       "      <td>84822.00</td>\n",
       "      <td>78283.00</td>\n",
       "      <td>77981.00</td>\n",
       "      <td>86953.00</td>\n",
       "    </tr>\n",
       "    <tr>\n",
       "      <th>mean</th>\n",
       "      <td>-34.60</td>\n",
       "      <td>-58.44</td>\n",
       "      <td>2.87</td>\n",
       "      <td>1.89</td>\n",
       "      <td>1.47</td>\n",
       "      <td>103.77</td>\n",
       "      <td>86.89</td>\n",
       "      <td>206239.28</td>\n",
       "    </tr>\n",
       "    <tr>\n",
       "      <th>std</th>\n",
       "      <td>0.02</td>\n",
       "      <td>0.04</td>\n",
       "      <td>1.22</td>\n",
       "      <td>1.03</td>\n",
       "      <td>0.74</td>\n",
       "      <td>1004.56</td>\n",
       "      <td>796.87</td>\n",
       "      <td>122516.93</td>\n",
       "    </tr>\n",
       "    <tr>\n",
       "      <th>min</th>\n",
       "      <td>-34.70</td>\n",
       "      <td>-58.53</td>\n",
       "      <td>1.00</td>\n",
       "      <td>0.00</td>\n",
       "      <td>1.00</td>\n",
       "      <td>10.00</td>\n",
       "      <td>1.00</td>\n",
       "      <td>6000.00</td>\n",
       "    </tr>\n",
       "    <tr>\n",
       "      <th>1%</th>\n",
       "      <td>-34.66</td>\n",
       "      <td>-58.52</td>\n",
       "      <td>1.00</td>\n",
       "      <td>0.00</td>\n",
       "      <td>1.00</td>\n",
       "      <td>26.00</td>\n",
       "      <td>24.00</td>\n",
       "      <td>57552.00</td>\n",
       "    </tr>\n",
       "    <tr>\n",
       "      <th>2%</th>\n",
       "      <td>-34.65</td>\n",
       "      <td>-58.51</td>\n",
       "      <td>1.00</td>\n",
       "      <td>0.00</td>\n",
       "      <td>1.00</td>\n",
       "      <td>30.00</td>\n",
       "      <td>27.00</td>\n",
       "      <td>65000.00</td>\n",
       "    </tr>\n",
       "    <tr>\n",
       "      <th>3%</th>\n",
       "      <td>-34.64</td>\n",
       "      <td>-58.51</td>\n",
       "      <td>1.00</td>\n",
       "      <td>1.00</td>\n",
       "      <td>1.00</td>\n",
       "      <td>31.00</td>\n",
       "      <td>30.00</td>\n",
       "      <td>70000.00</td>\n",
       "    </tr>\n",
       "    <tr>\n",
       "      <th>5%</th>\n",
       "      <td>-34.64</td>\n",
       "      <td>-58.50</td>\n",
       "      <td>1.00</td>\n",
       "      <td>1.00</td>\n",
       "      <td>1.00</td>\n",
       "      <td>34.00</td>\n",
       "      <td>32.00</td>\n",
       "      <td>78000.00</td>\n",
       "    </tr>\n",
       "    <tr>\n",
       "      <th>10%</th>\n",
       "      <td>-34.63</td>\n",
       "      <td>-58.49</td>\n",
       "      <td>1.00</td>\n",
       "      <td>1.00</td>\n",
       "      <td>1.00</td>\n",
       "      <td>38.00</td>\n",
       "      <td>35.00</td>\n",
       "      <td>89900.00</td>\n",
       "    </tr>\n",
       "    <tr>\n",
       "      <th>25%</th>\n",
       "      <td>-34.61</td>\n",
       "      <td>-58.46</td>\n",
       "      <td>2.00</td>\n",
       "      <td>1.00</td>\n",
       "      <td>1.00</td>\n",
       "      <td>48.00</td>\n",
       "      <td>44.00</td>\n",
       "      <td>120000.00</td>\n",
       "    </tr>\n",
       "    <tr>\n",
       "      <th>50%</th>\n",
       "      <td>-34.60</td>\n",
       "      <td>-58.43</td>\n",
       "      <td>3.00</td>\n",
       "      <td>2.00</td>\n",
       "      <td>1.00</td>\n",
       "      <td>68.00</td>\n",
       "      <td>60.00</td>\n",
       "      <td>169900.00</td>\n",
       "    </tr>\n",
       "    <tr>\n",
       "      <th>75%</th>\n",
       "      <td>-34.59</td>\n",
       "      <td>-58.41</td>\n",
       "      <td>4.00</td>\n",
       "      <td>3.00</td>\n",
       "      <td>2.00</td>\n",
       "      <td>101.00</td>\n",
       "      <td>89.00</td>\n",
       "      <td>258000.00</td>\n",
       "    </tr>\n",
       "    <tr>\n",
       "      <th>90%</th>\n",
       "      <td>-34.57</td>\n",
       "      <td>-58.39</td>\n",
       "      <td>4.00</td>\n",
       "      <td>3.00</td>\n",
       "      <td>2.00</td>\n",
       "      <td>154.00</td>\n",
       "      <td>130.00</td>\n",
       "      <td>379000.00</td>\n",
       "    </tr>\n",
       "    <tr>\n",
       "      <th>95%</th>\n",
       "      <td>-34.56</td>\n",
       "      <td>-58.38</td>\n",
       "      <td>5.00</td>\n",
       "      <td>4.00</td>\n",
       "      <td>3.00</td>\n",
       "      <td>198.90</td>\n",
       "      <td>160.00</td>\n",
       "      <td>470000.00</td>\n",
       "    </tr>\n",
       "    <tr>\n",
       "      <th>98%</th>\n",
       "      <td>-34.55</td>\n",
       "      <td>-58.37</td>\n",
       "      <td>6.00</td>\n",
       "      <td>4.00</td>\n",
       "      <td>3.00</td>\n",
       "      <td>280.00</td>\n",
       "      <td>205.00</td>\n",
       "      <td>580000.00</td>\n",
       "    </tr>\n",
       "    <tr>\n",
       "      <th>99%</th>\n",
       "      <td>-34.55</td>\n",
       "      <td>-58.37</td>\n",
       "      <td>6.00</td>\n",
       "      <td>5.00</td>\n",
       "      <td>4.00</td>\n",
       "      <td>360.18</td>\n",
       "      <td>264.00</td>\n",
       "      <td>630000.00</td>\n",
       "    </tr>\n",
       "    <tr>\n",
       "      <th>max</th>\n",
       "      <td>-34.54</td>\n",
       "      <td>-58.35</td>\n",
       "      <td>21.00</td>\n",
       "      <td>15.00</td>\n",
       "      <td>14.00</td>\n",
       "      <td>126062.00</td>\n",
       "      <td>126062.00</td>\n",
       "      <td>695000.00</td>\n",
       "    </tr>\n",
       "  </tbody>\n",
       "</table>\n",
       "</div>"
      ],
      "text/plain": [
       "           lat      lon    rooms  bedrooms  bathrooms  surface_total  \\\n",
       "count 83022.00 83008.00 86953.00  86953.00   84822.00       78283.00   \n",
       "mean    -34.60   -58.44     2.87      1.89       1.47         103.77   \n",
       "std       0.02     0.04     1.22      1.03       0.74        1004.56   \n",
       "min     -34.70   -58.53     1.00      0.00       1.00          10.00   \n",
       "1%      -34.66   -58.52     1.00      0.00       1.00          26.00   \n",
       "2%      -34.65   -58.51     1.00      0.00       1.00          30.00   \n",
       "3%      -34.64   -58.51     1.00      1.00       1.00          31.00   \n",
       "5%      -34.64   -58.50     1.00      1.00       1.00          34.00   \n",
       "10%     -34.63   -58.49     1.00      1.00       1.00          38.00   \n",
       "25%     -34.61   -58.46     2.00      1.00       1.00          48.00   \n",
       "50%     -34.60   -58.43     3.00      2.00       1.00          68.00   \n",
       "75%     -34.59   -58.41     4.00      3.00       2.00         101.00   \n",
       "90%     -34.57   -58.39     4.00      3.00       2.00         154.00   \n",
       "95%     -34.56   -58.38     5.00      4.00       3.00         198.90   \n",
       "98%     -34.55   -58.37     6.00      4.00       3.00         280.00   \n",
       "99%     -34.55   -58.37     6.00      5.00       4.00         360.18   \n",
       "max     -34.54   -58.35    21.00     15.00      14.00      126062.00   \n",
       "\n",
       "       surface_covered     price  \n",
       "count         77981.00  86953.00  \n",
       "mean             86.89 206239.28  \n",
       "std             796.87 122516.93  \n",
       "min               1.00   6000.00  \n",
       "1%               24.00  57552.00  \n",
       "2%               27.00  65000.00  \n",
       "3%               30.00  70000.00  \n",
       "5%               32.00  78000.00  \n",
       "10%              35.00  89900.00  \n",
       "25%              44.00 120000.00  \n",
       "50%              60.00 169900.00  \n",
       "75%              89.00 258000.00  \n",
       "90%             130.00 379000.00  \n",
       "95%             160.00 470000.00  \n",
       "98%             205.00 580000.00  \n",
       "99%             264.00 630000.00  \n",
       "max          126062.00 695000.00  "
      ]
     },
     "execution_count": 224,
     "metadata": {},
     "output_type": "execute_result"
    }
   ],
   "source": [
    "# Realizo un describe para ver la distribucion de las variables pre Train/Test split\n",
    "per = [0.01,0.02,0.03, 0.05, 0.1,0.25,0.5,0.75,0.9,0.95,0.98,0.99]\n",
    "data_1.describe(percentiles = per)"
   ]
  },
  {
   "cell_type": "markdown",
   "metadata": {},
   "source": [
    "Para la eliminacion de outliers decido utilizar el percentil 2 y 98, quedandome con el 96% de los datos. "
   ]
  },
  {
   "cell_type": "markdown",
   "metadata": {},
   "source": [
    "#### Para la transformacion de datos primeramente imputaré los valores que faltan, luego haré un 'encoding' de las variables categoricas y por ultimo eliminare los outliers. En este caso no usare un escalado de datos ya que no es necesario (seria necesario si estuviera usando un modelo de vecinos mas cercanos) ni generare variables nuevas ya que las existentes son suficientes para el modelo que implementaré.\n",
    "\n"
   ]
  },
  {
   "cell_type": "markdown",
   "metadata": {},
   "source": [
    "## Realizo un test/train split para implementar el Pipeline"
   ]
  },
  {
   "cell_type": "code",
   "execution_count": 150,
   "metadata": {
    "scrolled": true
   },
   "outputs": [
    {
     "data": {
      "text/plain": [
       "(60867, 10)"
      ]
     },
     "execution_count": 150,
     "metadata": {},
     "output_type": "execute_result"
    },
    {
     "data": {
      "text/plain": [
       "(26086, 10)"
      ]
     },
     "execution_count": 150,
     "metadata": {},
     "output_type": "execute_result"
    },
    {
     "data": {
      "text/plain": [
       "(60867,)"
      ]
     },
     "execution_count": 150,
     "metadata": {},
     "output_type": "execute_result"
    },
    {
     "data": {
      "text/plain": [
       "(26086,)"
      ]
     },
     "execution_count": 150,
     "metadata": {},
     "output_type": "execute_result"
    }
   ],
   "source": [
    "X_train, X_test, y_train, y_test = train_test_split(\n",
    "            data_1.drop(['price'], axis=1),\n",
    "            data_1['price'], test_size=0.3, random_state=0)\n",
    "X_train.shape\n",
    "X_test.shape\n",
    "y_train.shape\n",
    "y_test.shape\n",
    "\n",
    "#X_train"
   ]
  },
  {
   "cell_type": "markdown",
   "metadata": {},
   "source": [
    "#### Valores faltantes de X_train"
   ]
  },
  {
   "cell_type": "code",
   "execution_count": 151,
   "metadata": {
    "scrolled": true
   },
   "outputs": [
    {
     "name": "stdout",
     "output_type": "stream",
     "text": [
      "Latitud: 2725\n",
      "Longitud: 2732\n",
      "Baños: 1513\n",
      "Baños: 6094\n",
      "Baños: 6291\n"
     ]
    }
   ],
   "source": [
    "# Mostramos los valores faltantes de X_train que seran reemplazados luego del pipeline\n",
    "print('Latitud:', X_train['lat'].isnull().sum())\n",
    "print('Longitud:', X_train['lon'].isnull().sum())\n",
    "print('Baños:', X_train['bathrooms'].isnull().sum())\n",
    "print('Baños:', X_train['surface_total'].isnull().sum())\n",
    "print('Baños:', X_train['surface_covered'].isnull().sum())"
   ]
  },
  {
   "cell_type": "code",
   "execution_count": 22,
   "metadata": {},
   "outputs": [
    {
     "data": {
      "text/plain": [
       "lat                float64\n",
       "lon                float64\n",
       "l2                  object\n",
       "l3                  object\n",
       "rooms              float64\n",
       "bedrooms           float64\n",
       "bathrooms          float64\n",
       "surface_total      float64\n",
       "surface_covered    float64\n",
       "property_type       object\n",
       "dtype: object"
      ]
     },
     "execution_count": 22,
     "metadata": {},
     "output_type": "execute_result"
    }
   ],
   "source": [
    "# Chequeo que el formato de cada variable sea el que corresponda\n",
    "X_train.dtypes"
   ]
  },
  {
   "cell_type": "markdown",
   "metadata": {},
   "source": [
    "## Pipeline de preprocesamiento\n",
    "* ###  Tratamiento de variables numericas\n",
    "    1. Metodo para imputar missings: mediante el MeanMedianImputer de la libreria FeatureEngine imputamos la mediana en las variables 'lat', 'lon','bathrooms','surface_total', y 'surface_covered'. \n",
    "* ###  Tratamiento de variables categoricas\n",
    "    1. Metodo para convertir en numericas las variables categoricas: mediante el MeanEncoder de la libreria FeatureEngine imputamos el promedio por grupo (barrio, zona y tipo de propiedad) en las variables categoricas 'l2', 'l3' y 'property_type'.\n",
    "* ###  Eliminacion de outliers pos imputacion de missings y encoding \n",
    "    1. Metodo para eliminar outliers en variables numericas (ya no hay variables categoricas): eliminamos outliers en percentiles 2 y 98. La eliminacion no ocurre borrando las filas sino reemplazando el valor por el valor tope establecido (capping)."
   ]
  },
  {
   "cell_type": "markdown",
   "metadata": {},
   "source": [
    "## Pipeline"
   ]
  },
  {
   "cell_type": "code",
   "execution_count": 152,
   "metadata": {},
   "outputs": [],
   "source": [
    "# Tomamos una lista con los atributos del dataframe X. Será útil para el pipel\n",
    "featnames=list(X_train.columns)\n",
    "\n",
    "# Creamos pipeline de preprocesamiento\n",
    "pipe = Pipeline([\n",
    "    # Selecciona todas las columnas disponibles en el dataframe de train\n",
    "    ('selector', FeatureSelector(columns=featnames))\n",
    "    \n",
    "    # Numerical Treatment\n",
    "    ,('median_imputer', MeanMedianImputer(imputation_method='median', variables=['lat', 'lon','bathrooms','surface_total','surface_covered'])) # Reemplaza missings por la mediana de la variable\n",
    "      \n",
    "    # Categorical Treatment\n",
    "    ,('mean_encoder', MeanEncoder(variables=['l2','l3','property_type']) ) # Metodo para imputar el promedio en las variables categoricas l2 y l3 \n",
    "      \n",
    "    # Outlier removal\n",
    "    ,('winsorizer', Winsorizer(capping_method='quantiles', tail='both', fold=0.02, missing_values='raise' )) # eliminamos outliers en los percentiles 2 y 98\n",
    "    #,('capper', ArbitraryOutlierCapper(max_capping_dict={'surface_total': 500}, min_capping_dict={'surface_total': 27}, missing_values = 'raise'))\n",
    "    #,('trimmer', OutlierTrimmer(capping_method='quantiles', tail='both', fold=0.02))\n",
    "                                 \n",
    "    #,('correlated_treatment', DropCorrelatedFeatures(method='pearson', threshold=0.8)) # Quita variables que tengan una correlación mayor a 0.8 (dropea el primer correlacionado que encuentra)\n",
    "    #,('resampling', 'passthrough') # colocamos espacio para método de resampling, si fuera necesario (útil para problemas de clasificacion con clases desbalanceadas)\n",
    "    \n",
    "    # Nothing\n",
    "    #,('nada','passthrough') # Para que el resampling no quede último ingresamos un step inútil\n",
    "])"
   ]
  },
  {
   "cell_type": "code",
   "execution_count": 153,
   "metadata": {},
   "outputs": [],
   "source": [
    "# Fiteamos el pipeline a los datos X e Y que tenemos en train (es decir, la clase ya sabrá que pasos seguir para imputar los missings, pero aún no lo ejecutará)\n",
    "pipe_fitted = pipe.fit(X_train, y_train)"
   ]
  },
  {
   "cell_type": "code",
   "execution_count": 154,
   "metadata": {},
   "outputs": [],
   "source": [
    "# Transformamos los X_train y X_test con los missings ya imputados, las variables encodeadas y los outliers removidos.\n",
    "X_train_transformado = pipe_fitted.transform(X_train)\n",
    "X_test_transformado = pipe_fitted.transform(X_test)\n"
   ]
  },
  {
   "cell_type": "code",
   "execution_count": 155,
   "metadata": {},
   "outputs": [
    {
     "data": {
      "text/plain": [
       "{'lat': -34.551015,\n",
       " 'lon': -58.3720736164,\n",
       " 'l2': 206720.67594920073,\n",
       " 'l3': 292176.0846473029,\n",
       " 'rooms': 6.0,\n",
       " 'bedrooms': 4.0,\n",
       " 'bathrooms': 3.0,\n",
       " 'surface_total': 270.0,\n",
       " 'surface_covered': 200.0,\n",
       " 'property_type': 331379.07839616993}"
      ]
     },
     "execution_count": 155,
     "metadata": {},
     "output_type": "execute_result"
    },
    {
     "data": {
      "text/plain": [
       "{'lat': -34.648100799999995,\n",
       " 'lon': -58.51402368,\n",
       " 'l2': 206720.67594920073,\n",
       " 'l3': 120042.07439613529,\n",
       " 'rooms': 1.0,\n",
       " 'bedrooms': 0.0,\n",
       " 'bathrooms': 1.0,\n",
       " 'surface_total': 30.0,\n",
       " 'surface_covered': 28.0,\n",
       " 'property_type': 201422.90723519638}"
      ]
     },
     "execution_count": 155,
     "metadata": {},
     "output_type": "execute_result"
    }
   ],
   "source": [
    "# Chequeamos los maximos y minimos de cada variable en la eliminacion de outliers.\n",
    "pipe['winsorizer'].right_tail_caps_\n",
    "pipe['winsorizer'].left_tail_caps_"
   ]
  },
  {
   "cell_type": "code",
   "execution_count": 156,
   "metadata": {},
   "outputs": [
    {
     "name": "stdout",
     "output_type": "stream",
     "text": [
      "Valores faltantes en conjunto X_train_transformado\n",
      "lat                0\n",
      "lon                0\n",
      "l2                 0\n",
      "l3                 0\n",
      "rooms              0\n",
      "bedrooms           0\n",
      "bathrooms          0\n",
      "surface_total      0\n",
      "surface_covered    0\n",
      "property_type      0\n",
      "dtype: int64\n",
      "\n",
      "Valores faltantes en conjunto X_test_transformado\n",
      "lat                0\n",
      "lon                0\n",
      "l2                 0\n",
      "l3                 0\n",
      "rooms              0\n",
      "bedrooms           0\n",
      "bathrooms          0\n",
      "surface_total      0\n",
      "surface_covered    0\n",
      "property_type      0\n",
      "dtype: int64\n"
     ]
    }
   ],
   "source": [
    "# Verificamos que no haya valores faltantes en el conjunto de train ni de test\n",
    "print('Valores faltantes en conjunto X_train_transformado')\n",
    "print(X_train_transformado.isna().sum())\n",
    "print('')\n",
    "print('Valores faltantes en conjunto X_test_transformado')\n",
    "print(X_test_transformado.isna().sum())"
   ]
  },
  {
   "cell_type": "code",
   "execution_count": 157,
   "metadata": {},
   "outputs": [
    {
     "data": {
      "text/plain": [
       "{'lat': -34.600156,\n",
       " 'lon': -58.4344515126,\n",
       " 'bathrooms': 1.0,\n",
       " 'surface_total': 68.0,\n",
       " 'surface_covered': 60.0}"
      ]
     },
     "execution_count": 157,
     "metadata": {},
     "output_type": "execute_result"
    }
   ],
   "source": [
    "# Chequeamos que valor imputo en cada variable que contenia missings\n",
    "pipe['median_imputer'].imputer_dict_"
   ]
  },
  {
   "cell_type": "code",
   "execution_count": 158,
   "metadata": {},
   "outputs": [
    {
     "data": {
      "text/plain": [
       "{'l2': {'Capital Federal': 206720.67594920073},\n",
       " 'l3': {'Abasto': 173169.23262839878,\n",
       "  'Agronomía': 181934.98979591837,\n",
       "  'Almagro': 178763.5663448798,\n",
       "  'Balvanera': 141387.1580756014,\n",
       "  'Barracas': 205756.0036900369,\n",
       "  'Barrio Norte': 254037.2793907663,\n",
       "  'Belgrano': 278961.10351244477,\n",
       "  'Boca': 116125.1287553648,\n",
       "  'Boedo': 154568.61868300152,\n",
       "  'Caballito': 207948.85883668903,\n",
       "  'Catalinas': 206666.66666666666,\n",
       "  'Centro / Microcentro': 146852.1857142857,\n",
       "  'Chacarita': 174300.25800376647,\n",
       "  'Coghlan': 211303.47073170732,\n",
       "  'Colegiales': 206281.33603603602,\n",
       "  'Congreso': 145327.34115138592,\n",
       "  'Constitución': 102401.33633633633,\n",
       "  'Flores': 177270.09249858995,\n",
       "  'Floresta': 153322.5244648318,\n",
       "  'Las Cañitas': 334886.55531914893,\n",
       "  'Liniers': 160613.80359612725,\n",
       "  'Mataderos': 173356.24807692308,\n",
       "  'Monserrat': 139942.24329159214,\n",
       "  'Monte Castro': 147694.9840909091,\n",
       "  'Nuñez': 248956.24747081712,\n",
       "  'Once': 148242.36170212767,\n",
       "  'Palermo': 245562.3422720624,\n",
       "  'Parque Avellaneda': 158164.88095238095,\n",
       "  'Parque Centenario': 200249.4676724138,\n",
       "  'Parque Chacabuco': 163638.47627118643,\n",
       "  'Parque Chas': 174981.0606060606,\n",
       "  'Parque Patricios': 148321.61095100865,\n",
       "  'Paternal': 156903.22506738544,\n",
       "  'Pompeya': 152699.61538461538,\n",
       "  'Puerto Madero': 447815.86917562725,\n",
       "  'Recoleta': 292176.0846473029,\n",
       "  'Retiro': 253340.73946360152,\n",
       "  'Saavedra': 187424.1627296588,\n",
       "  'San Cristobal': 120042.07439613527,\n",
       "  'San Nicolás': 134475.06196213426,\n",
       "  'San Telmo': 164414.41739130433,\n",
       "  'Tribunales': 141186.55462184874,\n",
       "  'Velez Sarsfield': 160572.73484848486,\n",
       "  'Versalles': 201031.6976744186,\n",
       "  'Villa Crespo': 163540.33636969564,\n",
       "  'Villa Devoto': 224361.828125,\n",
       "  'Villa General Mitre': 154475.6386861314,\n",
       "  'Villa Lugano': 126349.28611898018,\n",
       "  'Villa Luro': 153874.71212121213,\n",
       "  'Villa Ortuzar': 186777.88888888888,\n",
       "  'Villa Pueyrredón': 181455.8669201521,\n",
       "  'Villa Real': 152446.875,\n",
       "  'Villa Riachuelo': 166519.96,\n",
       "  'Villa Santa Rita': 160283.57723577236,\n",
       "  'Villa Soldati': 119491.11111111111,\n",
       "  'Villa Urquiza': 200651.380017452,\n",
       "  'Villa del Parque': 180914.52891692956},\n",
       " 'property_type': {'Casa': 331379.07839616993,\n",
       "  'Departamento': 201422.90723519638,\n",
       "  'PH': 216847.32884136518}}"
      ]
     },
     "execution_count": 158,
     "metadata": {},
     "output_type": "execute_result"
    }
   ],
   "source": [
    "# Chequeamos el encodeo que realizo a la variable 'L2', 'L3'(barrio) y 'property_type'\n",
    "pipe['mean_encoder'].encoder_dict_"
   ]
  },
  {
   "cell_type": "code",
   "execution_count": 159,
   "metadata": {},
   "outputs": [
    {
     "name": "stdout",
     "output_type": "stream",
     "text": [
      "Zona y barrio encodeado en X_train_transformado\n",
      "              l2        l3  property_type\n",
      "77260  206720.68 120042.07      201422.91\n",
      "56569  206720.68 245562.34      201422.91\n",
      "30842  206720.68 207948.86      201422.91\n",
      "66477  206720.68 120042.07      201422.91\n",
      "24229  206720.68 178763.57      201422.91\n",
      "...          ...       ...            ...\n",
      "33828  206720.68 207948.86      201422.91\n",
      "74351  206720.68 145327.34      201422.91\n",
      "69058  206720.68 254037.28      201422.91\n",
      "70547  206720.68 200249.47      201422.91\n",
      "112494 206720.68 160613.80      201422.91\n",
      "\n",
      "[60867 rows x 3 columns]\n",
      "\n",
      "Zona y barrio encodeado en X_test_transformado\n",
      "              l2        l3  property_type\n",
      "29571  206720.68 178763.57      201422.91\n",
      "47444  206720.68 207948.86      201422.91\n",
      "67460  206720.68 245562.34      201422.91\n",
      "109970 206720.68 245562.34      201422.91\n",
      "71160  206720.68 278961.10      201422.91\n",
      "...          ...       ...            ...\n",
      "97771  206720.68 211303.47      201422.91\n",
      "10476  206720.68 180914.53      201422.91\n",
      "15980  206720.68 177270.09      201422.91\n",
      "137675 206720.68 134475.06      216847.33\n",
      "85131  206720.68 178763.57      201422.91\n",
      "\n",
      "[26086 rows x 3 columns]\n"
     ]
    }
   ],
   "source": [
    "# Verificamos que se hayan encodeado las variables categoricas en X_train y X_test\n",
    "print('Zona y barrio encodeado en X_train_transformado')\n",
    "print(X_train_transformado[['l2','l3','property_type']])\n",
    "print('')\n",
    "print('Zona y barrio encodeado en X_test_transformado')\n",
    "print(X_test_transformado[['l2','l3','property_type']])"
   ]
  },
  {
   "cell_type": "code",
   "execution_count": 160,
   "metadata": {},
   "outputs": [
    {
     "name": "stdout",
     "output_type": "stream",
     "text": [
      "Conjuntos X sin transformar\n",
      "Shape de X_train: (60867, 10)\n",
      "Shape de X_test: (26086, 10)\n",
      "\n",
      "Conjuntos X transformados\n",
      "Shape de X_train transformado: (60867, 10)\n",
      "Shape de X_test transformado: (26086, 10)\n"
     ]
    }
   ],
   "source": [
    "# Chequeo el shape de los conjuntos, no deberia haber cambiado por la eliminacion de outliers \n",
    "# ya que las filas con outliers no son removidas, sino que donde se encuentra el outlier \n",
    "# se reemplaza por el valor maximo admitido en el Pipeline.\n",
    "print('Conjuntos X sin transformar')\n",
    "print('Shape de X_train:', X_train.shape)\n",
    "print('Shape de X_test:', X_test.shape)\n",
    "\n",
    "print('')\n",
    "print('Conjuntos X transformados')\n",
    "print('Shape de X_train transformado:',X_train_transformado.shape)\n",
    "print('Shape de X_test transformado:',X_test_transformado.shape)"
   ]
  },
  {
   "cell_type": "code",
   "execution_count": 161,
   "metadata": {
    "scrolled": false
   },
   "outputs": [
    {
     "data": {
      "text/html": [
       "<div>\n",
       "<style scoped>\n",
       "    .dataframe tbody tr th:only-of-type {\n",
       "        vertical-align: middle;\n",
       "    }\n",
       "\n",
       "    .dataframe tbody tr th {\n",
       "        vertical-align: top;\n",
       "    }\n",
       "\n",
       "    .dataframe thead th {\n",
       "        text-align: right;\n",
       "    }\n",
       "</style>\n",
       "<table border=\"1\" class=\"dataframe\">\n",
       "  <thead>\n",
       "    <tr style=\"text-align: right;\">\n",
       "      <th></th>\n",
       "      <th>lat</th>\n",
       "      <th>lon</th>\n",
       "      <th>rooms</th>\n",
       "      <th>bedrooms</th>\n",
       "      <th>bathrooms</th>\n",
       "      <th>surface_total</th>\n",
       "      <th>surface_covered</th>\n",
       "    </tr>\n",
       "  </thead>\n",
       "  <tbody>\n",
       "    <tr>\n",
       "      <th>count</th>\n",
       "      <td>58142.00</td>\n",
       "      <td>58135.00</td>\n",
       "      <td>60867.00</td>\n",
       "      <td>60867.00</td>\n",
       "      <td>59354.00</td>\n",
       "      <td>54773.00</td>\n",
       "      <td>54576.00</td>\n",
       "    </tr>\n",
       "    <tr>\n",
       "      <th>mean</th>\n",
       "      <td>-34.60</td>\n",
       "      <td>-58.44</td>\n",
       "      <td>2.87</td>\n",
       "      <td>1.90</td>\n",
       "      <td>1.47</td>\n",
       "      <td>107.43</td>\n",
       "      <td>88.96</td>\n",
       "    </tr>\n",
       "    <tr>\n",
       "      <th>std</th>\n",
       "      <td>0.02</td>\n",
       "      <td>0.04</td>\n",
       "      <td>1.23</td>\n",
       "      <td>1.04</td>\n",
       "      <td>0.74</td>\n",
       "      <td>1186.83</td>\n",
       "      <td>937.72</td>\n",
       "    </tr>\n",
       "    <tr>\n",
       "      <th>min</th>\n",
       "      <td>-34.70</td>\n",
       "      <td>-58.53</td>\n",
       "      <td>1.00</td>\n",
       "      <td>0.00</td>\n",
       "      <td>1.00</td>\n",
       "      <td>10.00</td>\n",
       "      <td>1.00</td>\n",
       "    </tr>\n",
       "    <tr>\n",
       "      <th>25%</th>\n",
       "      <td>-34.61</td>\n",
       "      <td>-58.46</td>\n",
       "      <td>2.00</td>\n",
       "      <td>1.00</td>\n",
       "      <td>1.00</td>\n",
       "      <td>48.00</td>\n",
       "      <td>44.00</td>\n",
       "    </tr>\n",
       "    <tr>\n",
       "      <th>50%</th>\n",
       "      <td>-34.60</td>\n",
       "      <td>-58.43</td>\n",
       "      <td>3.00</td>\n",
       "      <td>2.00</td>\n",
       "      <td>1.00</td>\n",
       "      <td>68.00</td>\n",
       "      <td>60.00</td>\n",
       "    </tr>\n",
       "    <tr>\n",
       "      <th>75%</th>\n",
       "      <td>-34.59</td>\n",
       "      <td>-58.41</td>\n",
       "      <td>4.00</td>\n",
       "      <td>3.00</td>\n",
       "      <td>2.00</td>\n",
       "      <td>102.00</td>\n",
       "      <td>89.00</td>\n",
       "    </tr>\n",
       "    <tr>\n",
       "      <th>max</th>\n",
       "      <td>-34.54</td>\n",
       "      <td>-58.35</td>\n",
       "      <td>21.00</td>\n",
       "      <td>15.00</td>\n",
       "      <td>14.00</td>\n",
       "      <td>126062.00</td>\n",
       "      <td>126062.00</td>\n",
       "    </tr>\n",
       "  </tbody>\n",
       "</table>\n",
       "</div>"
      ],
      "text/plain": [
       "           lat      lon    rooms  bedrooms  bathrooms  surface_total  \\\n",
       "count 58142.00 58135.00 60867.00  60867.00   59354.00       54773.00   \n",
       "mean    -34.60   -58.44     2.87      1.90       1.47         107.43   \n",
       "std       0.02     0.04     1.23      1.04       0.74        1186.83   \n",
       "min     -34.70   -58.53     1.00      0.00       1.00          10.00   \n",
       "25%     -34.61   -58.46     2.00      1.00       1.00          48.00   \n",
       "50%     -34.60   -58.43     3.00      2.00       1.00          68.00   \n",
       "75%     -34.59   -58.41     4.00      3.00       2.00         102.00   \n",
       "max     -34.54   -58.35    21.00     15.00      14.00      126062.00   \n",
       "\n",
       "       surface_covered  \n",
       "count         54576.00  \n",
       "mean             88.96  \n",
       "std             937.72  \n",
       "min               1.00  \n",
       "25%              44.00  \n",
       "50%              60.00  \n",
       "75%              89.00  \n",
       "max          126062.00  "
      ]
     },
     "execution_count": 161,
     "metadata": {},
     "output_type": "execute_result"
    },
    {
     "data": {
      "text/html": [
       "<div>\n",
       "<style scoped>\n",
       "    .dataframe tbody tr th:only-of-type {\n",
       "        vertical-align: middle;\n",
       "    }\n",
       "\n",
       "    .dataframe tbody tr th {\n",
       "        vertical-align: top;\n",
       "    }\n",
       "\n",
       "    .dataframe thead th {\n",
       "        text-align: right;\n",
       "    }\n",
       "</style>\n",
       "<table border=\"1\" class=\"dataframe\">\n",
       "  <thead>\n",
       "    <tr style=\"text-align: right;\">\n",
       "      <th></th>\n",
       "      <th>lat</th>\n",
       "      <th>lon</th>\n",
       "      <th>l2</th>\n",
       "      <th>l3</th>\n",
       "      <th>rooms</th>\n",
       "      <th>bedrooms</th>\n",
       "      <th>bathrooms</th>\n",
       "      <th>surface_total</th>\n",
       "      <th>surface_covered</th>\n",
       "      <th>property_type</th>\n",
       "    </tr>\n",
       "  </thead>\n",
       "  <tbody>\n",
       "    <tr>\n",
       "      <th>count</th>\n",
       "      <td>60867.00</td>\n",
       "      <td>60867.00</td>\n",
       "      <td>60867.00</td>\n",
       "      <td>60867.00</td>\n",
       "      <td>60867.00</td>\n",
       "      <td>60867.00</td>\n",
       "      <td>60867.00</td>\n",
       "      <td>60867.00</td>\n",
       "      <td>60867.00</td>\n",
       "      <td>60867.00</td>\n",
       "    </tr>\n",
       "    <tr>\n",
       "      <th>mean</th>\n",
       "      <td>-34.60</td>\n",
       "      <td>-58.44</td>\n",
       "      <td>206720.68</td>\n",
       "      <td>205075.96</td>\n",
       "      <td>2.85</td>\n",
       "      <td>1.87</td>\n",
       "      <td>1.43</td>\n",
       "      <td>82.84</td>\n",
       "      <td>71.50</td>\n",
       "      <td>206720.68</td>\n",
       "    </tr>\n",
       "    <tr>\n",
       "      <th>std</th>\n",
       "      <td>0.02</td>\n",
       "      <td>0.03</td>\n",
       "      <td>0.00</td>\n",
       "      <td>48827.17</td>\n",
       "      <td>1.14</td>\n",
       "      <td>0.95</td>\n",
       "      <td>0.65</td>\n",
       "      <td>49.66</td>\n",
       "      <td>38.16</td>\n",
       "      <td>21500.56</td>\n",
       "    </tr>\n",
       "    <tr>\n",
       "      <th>min</th>\n",
       "      <td>-34.65</td>\n",
       "      <td>-58.51</td>\n",
       "      <td>206720.68</td>\n",
       "      <td>120042.07</td>\n",
       "      <td>1.00</td>\n",
       "      <td>0.00</td>\n",
       "      <td>1.00</td>\n",
       "      <td>30.00</td>\n",
       "      <td>28.00</td>\n",
       "      <td>201422.91</td>\n",
       "    </tr>\n",
       "    <tr>\n",
       "      <th>25%</th>\n",
       "      <td>-34.61</td>\n",
       "      <td>-58.46</td>\n",
       "      <td>206720.68</td>\n",
       "      <td>163540.34</td>\n",
       "      <td>2.00</td>\n",
       "      <td>1.00</td>\n",
       "      <td>1.00</td>\n",
       "      <td>50.00</td>\n",
       "      <td>45.00</td>\n",
       "      <td>201422.91</td>\n",
       "    </tr>\n",
       "    <tr>\n",
       "      <th>50%</th>\n",
       "      <td>-34.60</td>\n",
       "      <td>-58.43</td>\n",
       "      <td>206720.68</td>\n",
       "      <td>200651.38</td>\n",
       "      <td>3.00</td>\n",
       "      <td>2.00</td>\n",
       "      <td>1.00</td>\n",
       "      <td>68.00</td>\n",
       "      <td>60.00</td>\n",
       "      <td>201422.91</td>\n",
       "    </tr>\n",
       "    <tr>\n",
       "      <th>75%</th>\n",
       "      <td>-34.59</td>\n",
       "      <td>-58.41</td>\n",
       "      <td>206720.68</td>\n",
       "      <td>245562.34</td>\n",
       "      <td>4.00</td>\n",
       "      <td>3.00</td>\n",
       "      <td>2.00</td>\n",
       "      <td>97.00</td>\n",
       "      <td>84.00</td>\n",
       "      <td>201422.91</td>\n",
       "    </tr>\n",
       "    <tr>\n",
       "      <th>max</th>\n",
       "      <td>-34.55</td>\n",
       "      <td>-58.37</td>\n",
       "      <td>206720.68</td>\n",
       "      <td>292176.08</td>\n",
       "      <td>6.00</td>\n",
       "      <td>4.00</td>\n",
       "      <td>3.00</td>\n",
       "      <td>270.00</td>\n",
       "      <td>200.00</td>\n",
       "      <td>331379.08</td>\n",
       "    </tr>\n",
       "  </tbody>\n",
       "</table>\n",
       "</div>"
      ],
      "text/plain": [
       "           lat      lon        l2        l3    rooms  bedrooms  bathrooms  \\\n",
       "count 60867.00 60867.00  60867.00  60867.00 60867.00  60867.00   60867.00   \n",
       "mean    -34.60   -58.44 206720.68 205075.96     2.85      1.87       1.43   \n",
       "std       0.02     0.03      0.00  48827.17     1.14      0.95       0.65   \n",
       "min     -34.65   -58.51 206720.68 120042.07     1.00      0.00       1.00   \n",
       "25%     -34.61   -58.46 206720.68 163540.34     2.00      1.00       1.00   \n",
       "50%     -34.60   -58.43 206720.68 200651.38     3.00      2.00       1.00   \n",
       "75%     -34.59   -58.41 206720.68 245562.34     4.00      3.00       2.00   \n",
       "max     -34.55   -58.37 206720.68 292176.08     6.00      4.00       3.00   \n",
       "\n",
       "       surface_total  surface_covered  property_type  \n",
       "count       60867.00         60867.00       60867.00  \n",
       "mean           82.84            71.50      206720.68  \n",
       "std            49.66            38.16       21500.56  \n",
       "min            30.00            28.00      201422.91  \n",
       "25%            50.00            45.00      201422.91  \n",
       "50%            68.00            60.00      201422.91  \n",
       "75%            97.00            84.00      201422.91  \n",
       "max           270.00           200.00      331379.08  "
      ]
     },
     "execution_count": 161,
     "metadata": {},
     "output_type": "execute_result"
    }
   ],
   "source": [
    "# Realizamos un describe de X_train y X_train transformado para chequear que los outliers fueron reemplazados.\n",
    "X_train.describe()\n",
    "X_train_transformado.describe()"
   ]
  },
  {
   "cell_type": "markdown",
   "metadata": {},
   "source": [
    "### Concateno el conjunto X_train e y_train para ver las correlaciones"
   ]
  },
  {
   "cell_type": "code",
   "execution_count": 164,
   "metadata": {},
   "outputs": [
    {
     "data": {
      "text/plain": [
       "(60867, 11)"
      ]
     },
     "execution_count": 164,
     "metadata": {},
     "output_type": "execute_result"
    }
   ],
   "source": [
    "conjunto_train = pd.concat([X_train_transformado, y_train], axis=1)\n",
    "conjunto_train.shape"
   ]
  },
  {
   "cell_type": "code",
   "execution_count": 165,
   "metadata": {
    "scrolled": false
   },
   "outputs": [
    {
     "data": {
      "text/plain": [
       "<Figure size 720x720 with 0 Axes>"
      ]
     },
     "execution_count": 165,
     "metadata": {},
     "output_type": "execute_result"
    },
    {
     "data": {
      "text/plain": [
       "<AxesSubplot:>"
      ]
     },
     "execution_count": 165,
     "metadata": {},
     "output_type": "execute_result"
    },
    {
     "data": {
      "text/plain": [
       "(array([ 0.5,  1.5,  2.5,  3.5,  4.5,  5.5,  6.5,  7.5,  8.5,  9.5, 10.5]),\n",
       " [Text(0.5, 0, 'lat'),\n",
       "  Text(1.5, 0, 'lon'),\n",
       "  Text(2.5, 0, 'l2'),\n",
       "  Text(3.5, 0, 'l3'),\n",
       "  Text(4.5, 0, 'rooms'),\n",
       "  Text(5.5, 0, 'bedrooms'),\n",
       "  Text(6.5, 0, 'bathrooms'),\n",
       "  Text(7.5, 0, 'surface_total'),\n",
       "  Text(8.5, 0, 'surface_covered'),\n",
       "  Text(9.5, 0, 'property_type'),\n",
       "  Text(10.5, 0, 'price')])"
      ]
     },
     "execution_count": 165,
     "metadata": {},
     "output_type": "execute_result"
    },
    {
     "data": {
      "text/plain": [
       "(array([ 0.5,  1.5,  2.5,  3.5,  4.5,  5.5,  6.5,  7.5,  8.5,  9.5, 10.5]),\n",
       " [Text(0, 0.5, 'lat'),\n",
       "  Text(0, 1.5, 'lon'),\n",
       "  Text(0, 2.5, 'l2'),\n",
       "  Text(0, 3.5, 'l3'),\n",
       "  Text(0, 4.5, 'rooms'),\n",
       "  Text(0, 5.5, 'bedrooms'),\n",
       "  Text(0, 6.5, 'bathrooms'),\n",
       "  Text(0, 7.5, 'surface_total'),\n",
       "  Text(0, 8.5, 'surface_covered'),\n",
       "  Text(0, 9.5, 'property_type'),\n",
       "  Text(0, 10.5, 'price')])"
      ]
     },
     "execution_count": 165,
     "metadata": {},
     "output_type": "execute_result"
    },
    {
     "data": {
      "text/plain": [
       "Text(0.5, 1.0, 'Heatmap de correlaciones conjunto Train')"
      ]
     },
     "execution_count": 165,
     "metadata": {},
     "output_type": "execute_result"
    },
    {
     "data": {
      "image/png": "[encoded data removed]",
      "text/plain": [
       "<Figure size 720x720 with 2 Axes>"
      ]
     },
     "metadata": {
      "needs_background": "light"
     },
     "output_type": "display_data"
    }
   ],
   "source": [
    "# Chequeo las correlaciones\n",
    "corr = conjunto_train.corr()\n",
    "plt.figure(figsize=(10,10))\n",
    "sns.heatmap(corr, cbar = True,  square = True, annot=True, fmt= '.2f',annot_kws={'size': 15},\n",
    "           cmap= 'coolwarm')\n",
    "plt.xticks(rotation = 45)\n",
    "plt.yticks(rotation = 45)\n",
    "plt.title(\"Heatmap de correlaciones conjunto Train\", size=20, pad=20)\n",
    "plt.show()\n"
   ]
  },
  {
   "cell_type": "markdown",
   "metadata": {},
   "source": [
    "A partir de analizar la tabla de correlaciones, se puede inferir que las mejores variables\n",
    "para predecir el precio de una propiedad son la superficie total y cubierta, los baños y la cantidad de ambientes que posee.\n"
   ]
  },
  {
   "cell_type": "code",
   "execution_count": 166,
   "metadata": {},
   "outputs": [
    {
     "data": {
      "text/html": [
       "<div>\n",
       "<style scoped>\n",
       "    .dataframe tbody tr th:only-of-type {\n",
       "        vertical-align: middle;\n",
       "    }\n",
       "\n",
       "    .dataframe tbody tr th {\n",
       "        vertical-align: top;\n",
       "    }\n",
       "\n",
       "    .dataframe thead th {\n",
       "        text-align: right;\n",
       "    }\n",
       "</style>\n",
       "<table border=\"1\" class=\"dataframe\">\n",
       "  <thead>\n",
       "    <tr style=\"text-align: right;\">\n",
       "      <th></th>\n",
       "      <th>lat</th>\n",
       "      <th>lon</th>\n",
       "      <th>l2</th>\n",
       "      <th>l3</th>\n",
       "      <th>rooms</th>\n",
       "      <th>bedrooms</th>\n",
       "      <th>bathrooms</th>\n",
       "      <th>surface_total</th>\n",
       "      <th>surface_covered</th>\n",
       "      <th>property_type</th>\n",
       "      <th>price</th>\n",
       "    </tr>\n",
       "  </thead>\n",
       "  <tbody>\n",
       "    <tr>\n",
       "      <th>count</th>\n",
       "      <td>60867.00</td>\n",
       "      <td>60867.00</td>\n",
       "      <td>60867.00</td>\n",
       "      <td>60867.00</td>\n",
       "      <td>60867.00</td>\n",
       "      <td>60867.00</td>\n",
       "      <td>60867.00</td>\n",
       "      <td>60867.00</td>\n",
       "      <td>60867.00</td>\n",
       "      <td>60867.00</td>\n",
       "      <td>60867.00</td>\n",
       "    </tr>\n",
       "    <tr>\n",
       "      <th>mean</th>\n",
       "      <td>-34.60</td>\n",
       "      <td>-58.44</td>\n",
       "      <td>206720.68</td>\n",
       "      <td>205075.96</td>\n",
       "      <td>2.85</td>\n",
       "      <td>1.87</td>\n",
       "      <td>1.43</td>\n",
       "      <td>82.84</td>\n",
       "      <td>71.50</td>\n",
       "      <td>206720.68</td>\n",
       "      <td>206720.68</td>\n",
       "    </tr>\n",
       "    <tr>\n",
       "      <th>std</th>\n",
       "      <td>0.02</td>\n",
       "      <td>0.03</td>\n",
       "      <td>0.00</td>\n",
       "      <td>48827.17</td>\n",
       "      <td>1.14</td>\n",
       "      <td>0.95</td>\n",
       "      <td>0.65</td>\n",
       "      <td>49.66</td>\n",
       "      <td>38.16</td>\n",
       "      <td>21500.56</td>\n",
       "      <td>123042.09</td>\n",
       "    </tr>\n",
       "    <tr>\n",
       "      <th>min</th>\n",
       "      <td>-34.65</td>\n",
       "      <td>-58.51</td>\n",
       "      <td>206720.68</td>\n",
       "      <td>120042.07</td>\n",
       "      <td>1.00</td>\n",
       "      <td>0.00</td>\n",
       "      <td>1.00</td>\n",
       "      <td>30.00</td>\n",
       "      <td>28.00</td>\n",
       "      <td>201422.91</td>\n",
       "      <td>6000.00</td>\n",
       "    </tr>\n",
       "    <tr>\n",
       "      <th>1%</th>\n",
       "      <td>-34.65</td>\n",
       "      <td>-58.51</td>\n",
       "      <td>206720.68</td>\n",
       "      <td>120042.07</td>\n",
       "      <td>1.00</td>\n",
       "      <td>0.00</td>\n",
       "      <td>1.00</td>\n",
       "      <td>30.00</td>\n",
       "      <td>28.00</td>\n",
       "      <td>201422.91</td>\n",
       "      <td>57000.00</td>\n",
       "    </tr>\n",
       "    <tr>\n",
       "      <th>2%</th>\n",
       "      <td>-34.65</td>\n",
       "      <td>-58.51</td>\n",
       "      <td>206720.68</td>\n",
       "      <td>120042.07</td>\n",
       "      <td>1.00</td>\n",
       "      <td>0.00</td>\n",
       "      <td>1.00</td>\n",
       "      <td>30.00</td>\n",
       "      <td>28.00</td>\n",
       "      <td>201422.91</td>\n",
       "      <td>65000.00</td>\n",
       "    </tr>\n",
       "    <tr>\n",
       "      <th>5%</th>\n",
       "      <td>-34.64</td>\n",
       "      <td>-58.50</td>\n",
       "      <td>206720.68</td>\n",
       "      <td>139942.24</td>\n",
       "      <td>1.00</td>\n",
       "      <td>1.00</td>\n",
       "      <td>1.00</td>\n",
       "      <td>34.00</td>\n",
       "      <td>32.00</td>\n",
       "      <td>201422.91</td>\n",
       "      <td>78000.00</td>\n",
       "    </tr>\n",
       "    <tr>\n",
       "      <th>10%</th>\n",
       "      <td>-34.63</td>\n",
       "      <td>-58.49</td>\n",
       "      <td>206720.68</td>\n",
       "      <td>146852.19</td>\n",
       "      <td>1.00</td>\n",
       "      <td>1.00</td>\n",
       "      <td>1.00</td>\n",
       "      <td>39.00</td>\n",
       "      <td>36.00</td>\n",
       "      <td>201422.91</td>\n",
       "      <td>90000.00</td>\n",
       "    </tr>\n",
       "    <tr>\n",
       "      <th>25%</th>\n",
       "      <td>-34.61</td>\n",
       "      <td>-58.46</td>\n",
       "      <td>206720.68</td>\n",
       "      <td>163540.34</td>\n",
       "      <td>2.00</td>\n",
       "      <td>1.00</td>\n",
       "      <td>1.00</td>\n",
       "      <td>50.00</td>\n",
       "      <td>45.00</td>\n",
       "      <td>201422.91</td>\n",
       "      <td>120000.00</td>\n",
       "    </tr>\n",
       "    <tr>\n",
       "      <th>50%</th>\n",
       "      <td>-34.60</td>\n",
       "      <td>-58.43</td>\n",
       "      <td>206720.68</td>\n",
       "      <td>200651.38</td>\n",
       "      <td>3.00</td>\n",
       "      <td>2.00</td>\n",
       "      <td>1.00</td>\n",
       "      <td>68.00</td>\n",
       "      <td>60.00</td>\n",
       "      <td>201422.91</td>\n",
       "      <td>170000.00</td>\n",
       "    </tr>\n",
       "    <tr>\n",
       "      <th>75%</th>\n",
       "      <td>-34.59</td>\n",
       "      <td>-58.41</td>\n",
       "      <td>206720.68</td>\n",
       "      <td>245562.34</td>\n",
       "      <td>4.00</td>\n",
       "      <td>3.00</td>\n",
       "      <td>2.00</td>\n",
       "      <td>97.00</td>\n",
       "      <td>84.00</td>\n",
       "      <td>201422.91</td>\n",
       "      <td>259000.00</td>\n",
       "    </tr>\n",
       "    <tr>\n",
       "      <th>90%</th>\n",
       "      <td>-34.57</td>\n",
       "      <td>-58.39</td>\n",
       "      <td>206720.68</td>\n",
       "      <td>278961.10</td>\n",
       "      <td>4.00</td>\n",
       "      <td>3.00</td>\n",
       "      <td>2.00</td>\n",
       "      <td>149.00</td>\n",
       "      <td>125.00</td>\n",
       "      <td>216847.33</td>\n",
       "      <td>380000.00</td>\n",
       "    </tr>\n",
       "    <tr>\n",
       "      <th>95%</th>\n",
       "      <td>-34.56</td>\n",
       "      <td>-58.38</td>\n",
       "      <td>206720.68</td>\n",
       "      <td>292176.08</td>\n",
       "      <td>5.00</td>\n",
       "      <td>4.00</td>\n",
       "      <td>3.00</td>\n",
       "      <td>190.00</td>\n",
       "      <td>157.00</td>\n",
       "      <td>216847.33</td>\n",
       "      <td>472266.00</td>\n",
       "    </tr>\n",
       "    <tr>\n",
       "      <th>98%</th>\n",
       "      <td>-34.55</td>\n",
       "      <td>-58.37</td>\n",
       "      <td>206720.68</td>\n",
       "      <td>292176.08</td>\n",
       "      <td>6.00</td>\n",
       "      <td>4.00</td>\n",
       "      <td>3.00</td>\n",
       "      <td>270.00</td>\n",
       "      <td>200.00</td>\n",
       "      <td>331379.08</td>\n",
       "      <td>580000.00</td>\n",
       "    </tr>\n",
       "    <tr>\n",
       "      <th>99%</th>\n",
       "      <td>-34.55</td>\n",
       "      <td>-58.37</td>\n",
       "      <td>206720.68</td>\n",
       "      <td>292176.08</td>\n",
       "      <td>6.00</td>\n",
       "      <td>4.00</td>\n",
       "      <td>3.00</td>\n",
       "      <td>270.00</td>\n",
       "      <td>200.00</td>\n",
       "      <td>331379.08</td>\n",
       "      <td>630000.00</td>\n",
       "    </tr>\n",
       "    <tr>\n",
       "      <th>max</th>\n",
       "      <td>-34.55</td>\n",
       "      <td>-58.37</td>\n",
       "      <td>206720.68</td>\n",
       "      <td>292176.08</td>\n",
       "      <td>6.00</td>\n",
       "      <td>4.00</td>\n",
       "      <td>3.00</td>\n",
       "      <td>270.00</td>\n",
       "      <td>200.00</td>\n",
       "      <td>331379.08</td>\n",
       "      <td>695000.00</td>\n",
       "    </tr>\n",
       "  </tbody>\n",
       "</table>\n",
       "</div>"
      ],
      "text/plain": [
       "           lat      lon        l2        l3    rooms  bedrooms  bathrooms  \\\n",
       "count 60867.00 60867.00  60867.00  60867.00 60867.00  60867.00   60867.00   \n",
       "mean    -34.60   -58.44 206720.68 205075.96     2.85      1.87       1.43   \n",
       "std       0.02     0.03      0.00  48827.17     1.14      0.95       0.65   \n",
       "min     -34.65   -58.51 206720.68 120042.07     1.00      0.00       1.00   \n",
       "1%      -34.65   -58.51 206720.68 120042.07     1.00      0.00       1.00   \n",
       "2%      -34.65   -58.51 206720.68 120042.07     1.00      0.00       1.00   \n",
       "5%      -34.64   -58.50 206720.68 139942.24     1.00      1.00       1.00   \n",
       "10%     -34.63   -58.49 206720.68 146852.19     1.00      1.00       1.00   \n",
       "25%     -34.61   -58.46 206720.68 163540.34     2.00      1.00       1.00   \n",
       "50%     -34.60   -58.43 206720.68 200651.38     3.00      2.00       1.00   \n",
       "75%     -34.59   -58.41 206720.68 245562.34     4.00      3.00       2.00   \n",
       "90%     -34.57   -58.39 206720.68 278961.10     4.00      3.00       2.00   \n",
       "95%     -34.56   -58.38 206720.68 292176.08     5.00      4.00       3.00   \n",
       "98%     -34.55   -58.37 206720.68 292176.08     6.00      4.00       3.00   \n",
       "99%     -34.55   -58.37 206720.68 292176.08     6.00      4.00       3.00   \n",
       "max     -34.55   -58.37 206720.68 292176.08     6.00      4.00       3.00   \n",
       "\n",
       "       surface_total  surface_covered  property_type     price  \n",
       "count       60867.00         60867.00       60867.00  60867.00  \n",
       "mean           82.84            71.50      206720.68 206720.68  \n",
       "std            49.66            38.16       21500.56 123042.09  \n",
       "min            30.00            28.00      201422.91   6000.00  \n",
       "1%             30.00            28.00      201422.91  57000.00  \n",
       "2%             30.00            28.00      201422.91  65000.00  \n",
       "5%             34.00            32.00      201422.91  78000.00  \n",
       "10%            39.00            36.00      201422.91  90000.00  \n",
       "25%            50.00            45.00      201422.91 120000.00  \n",
       "50%            68.00            60.00      201422.91 170000.00  \n",
       "75%            97.00            84.00      201422.91 259000.00  \n",
       "90%           149.00           125.00      216847.33 380000.00  \n",
       "95%           190.00           157.00      216847.33 472266.00  \n",
       "98%           270.00           200.00      331379.08 580000.00  \n",
       "99%           270.00           200.00      331379.08 630000.00  \n",
       "max           270.00           200.00      331379.08 695000.00  "
      ]
     },
     "execution_count": 166,
     "metadata": {},
     "output_type": "execute_result"
    }
   ],
   "source": [
    "conjunto_train.describe(percentiles = per)"
   ]
  },
  {
   "cell_type": "markdown",
   "metadata": {},
   "source": [
    "## Modelo Arbol de decision"
   ]
  },
  {
   "cell_type": "markdown",
   "metadata": {},
   "source": [
    "Reentrenamiento del modelo Arbol de decision (modelo base), para hacer su posterior comparacion con el mismo modelo optimizado del Sprint 1."
   ]
  },
  {
   "cell_type": "code",
   "execution_count": 167,
   "metadata": {
    "scrolled": false
   },
   "outputs": [
    {
     "data": {
      "text/plain": [
       "DecisionTreeRegressor(max_depth=10, random_state=42)"
      ]
     },
     "execution_count": 167,
     "metadata": {},
     "output_type": "execute_result"
    },
    {
     "name": "stdout",
     "output_type": "stream",
     "text": [
      "Modelo: Arbol de decision\n",
      "Raíz del error cuadrático medio en Train: 47086.81566698988\n",
      "Raíz del error cuadrático medio en Test: 51552.136697071604\n",
      "R2 en Train: 0.853546973059287\n",
      "R2 Test: 0.8193039946931586\n"
     ]
    },
    {
     "data": {
      "text/plain": [
       "<Figure size 1008x360 with 0 Axes>"
      ]
     },
     "execution_count": 167,
     "metadata": {},
     "output_type": "execute_result"
    },
    {
     "data": {
      "text/plain": [
       "<AxesSubplot:>"
      ]
     },
     "execution_count": 167,
     "metadata": {},
     "output_type": "execute_result"
    },
    {
     "data": {
      "text/plain": [
       "Text(0.5, 1.0, 'Distribucion de los errores')"
      ]
     },
     "execution_count": 167,
     "metadata": {},
     "output_type": "execute_result"
    },
    {
     "data": {
      "text/plain": [
       "<AxesSubplot:title={'center':'Distribucion de los errores'}, xlabel='price'>"
      ]
     },
     "execution_count": 167,
     "metadata": {},
     "output_type": "execute_result"
    },
    {
     "data": {
      "text/plain": [
       "<AxesSubplot:title={'center':'Distribucion de los errores'}, xlabel='price'>"
      ]
     },
     "execution_count": 167,
     "metadata": {},
     "output_type": "execute_result"
    },
    {
     "data": {
      "text/plain": [
       "Text(0.5, 0, 'errores')"
      ]
     },
     "execution_count": 167,
     "metadata": {},
     "output_type": "execute_result"
    },
    {
     "data": {
      "text/plain": [
       "<matplotlib.legend.Legend at 0x11ee57bb0>"
      ]
     },
     "execution_count": 167,
     "metadata": {},
     "output_type": "execute_result"
    },
    {
     "data": {
      "text/plain": [
       "Text(0.5, 1.0, 'Y_predichos vs Y_reales')"
      ]
     },
     "execution_count": 167,
     "metadata": {},
     "output_type": "execute_result"
    },
    {
     "data": {
      "text/plain": [
       "<matplotlib.collections.PathCollection at 0x3b3070f40>"
      ]
     },
     "execution_count": 167,
     "metadata": {},
     "output_type": "execute_result"
    },
    {
     "data": {
      "text/plain": [
       "[<matplotlib.lines.Line2D at 0x11eee6370>]"
      ]
     },
     "execution_count": 167,
     "metadata": {},
     "output_type": "execute_result"
    },
    {
     "data": {
      "text/plain": [
       "Text(0.5, 0, 'y (test)')"
      ]
     },
     "execution_count": 167,
     "metadata": {},
     "output_type": "execute_result"
    },
    {
     "data": {
      "text/plain": [
       "Text(0, 0.5, 'y_pred (test)')"
      ]
     },
     "execution_count": 167,
     "metadata": {},
     "output_type": "execute_result"
    },
    {
     "data": {
      "image/png": "[encoded data removed]",
      "text/plain": [
       "<Figure size 1008x360 with 2 Axes>"
      ]
     },
     "metadata": {
      "needs_background": "light"
     },
     "output_type": "display_data"
    }
   ],
   "source": [
    "# Modelo arbol de decision\n",
    "\n",
    "tree_regressor = DecisionTreeRegressor(max_depth=10, random_state=42)\n",
    "\n",
    "# Entreno el modelo arboles de decision\n",
    "tree_regressor.fit(X_train_transformado, y_train)\n",
    "\n",
    "# Predecimos sobre nuestro set\n",
    "y_train_pred_tree = tree_regressor.predict(X_train_transformado)\n",
    "y_test_pred_tree = tree_regressor.predict(X_test_transformado)\n",
    "\n",
    "# Buscamos RMSE y R2\n",
    "rmse_tree_train = np.sqrt(mean_squared_error(y_train, y_train_pred_tree))\n",
    "rmse_tree_test = np.sqrt(mean_squared_error(y_test, y_test_pred_tree))\n",
    "r2_tree_train= r2_score(y_train, y_train_pred_tree)\n",
    "r2_tree_test = r2_score(y_test, y_test_pred_tree)\n",
    "\n",
    "# Imprimo resultados\n",
    "print('Modelo: Arbol de decision')\n",
    "print(f'Raíz del error cuadrático medio en Train: {rmse_tree_train}')\n",
    "print(f'Raíz del error cuadrático medio en Test: {rmse_tree_test}')\n",
    "print(f'R2 en Train: {r2_tree_train}')\n",
    "print(f'R2 Test: {r2_tree_test}')\n",
    "\n",
    "# Grafico\n",
    "plt.figure(figsize = (14,5))\n",
    "\n",
    "plt.subplot(1,2,1)\n",
    "plt.title('Distribucion de los errores')\n",
    "sns.distplot(y_train - y_train_pred_tree, bins = 20, label = 'train')\n",
    "sns.distplot(y_test - y_test_pred_tree, bins = 20, label = 'test')\n",
    "plt.xlabel('errores')\n",
    "plt.legend()\n",
    "\n",
    "ax = plt.subplot(1,2,2)\n",
    "plt.title('Y_predichos vs Y_reales')\n",
    "ax.scatter(y_test,y_test_pred_tree, s =2)\n",
    "    \n",
    "lims = [\n",
    "    np.min([ax.get_xlim(), ax.get_ylim()]),  # min of both axes\n",
    "    np.max([ax.get_xlim(), ax.get_ylim()]),  # max of both axes]\n",
    "    ]\n",
    "    \n",
    "ax.plot(lims, lims, 'k-', alpha=0.75, zorder=0)\n",
    "plt.xlabel('y (test)')\n",
    "plt.ylabel('y_pred (test)')\n",
    "    \n",
    "plt.tight_layout()\n",
    "plt.show()\n",
    "\n"
   ]
  },
  {
   "cell_type": "code",
   "execution_count": 233,
   "metadata": {
    "scrolled": true
   },
   "outputs": [
    {
     "data": {
      "text/html": [
       "<div>\n",
       "<style scoped>\n",
       "    .dataframe tbody tr th:only-of-type {\n",
       "        vertical-align: middle;\n",
       "    }\n",
       "\n",
       "    .dataframe tbody tr th {\n",
       "        vertical-align: top;\n",
       "    }\n",
       "\n",
       "    .dataframe thead th {\n",
       "        text-align: right;\n",
       "    }\n",
       "</style>\n",
       "<table border=\"1\" class=\"dataframe\">\n",
       "  <thead>\n",
       "    <tr style=\"text-align: right;\">\n",
       "      <th></th>\n",
       "      <th>R2_train</th>\n",
       "      <th>R2_test</th>\n",
       "      <th>RMSE_Train</th>\n",
       "      <th>RMSE_Test</th>\n",
       "    </tr>\n",
       "  </thead>\n",
       "  <tbody>\n",
       "    <tr>\n",
       "      <th>Decision_Tree_Sprint_1</th>\n",
       "      <td>0.69</td>\n",
       "      <td>0.65</td>\n",
       "      <td>46148</td>\n",
       "      <td>48994</td>\n",
       "    </tr>\n",
       "    <tr>\n",
       "      <th>Decision_Tree_Sprint_2</th>\n",
       "      <td>0.85</td>\n",
       "      <td>0.82</td>\n",
       "      <td>47086</td>\n",
       "      <td>51552</td>\n",
       "    </tr>\n",
       "  </tbody>\n",
       "</table>\n",
       "</div>"
      ],
      "text/plain": [
       "                       R2_train R2_test RMSE_Train RMSE_Test\n",
       "Decision_Tree_Sprint_1     0.69    0.65      46148     48994\n",
       "Decision_Tree_Sprint_2     0.85    0.82      47086     51552"
      ]
     },
     "execution_count": 233,
     "metadata": {},
     "output_type": "execute_result"
    }
   ],
   "source": [
    "resultados_tree = pd.DataFrame([[0.69,0.65,46148,48994],['0.85','0.82','47086','51552']], columns=['R2_train','R2_test','RMSE_Train','RMSE_Test']\n",
    "                            ,index=['Decision_Tree_Sprint_1','Decision_Tree_Sprint_2'])\n",
    "\n",
    "resultados_tree"
   ]
  },
  {
   "cell_type": "markdown",
   "metadata": {},
   "source": [
    "El arbol de decision entrenado en este Sprint presenta mejores resultados que los presentados en el Sprint 1. El R2 en test (la metrica que buscamos optimizar) mejora un 26%, pasando de 0.65 a 0.82. Esto se debe principalmente a un mejor preprocesamiento de los datos, especificamente el hecho de haber 'encodeado' las variables categoricas, pudiendo utilizar como variables predictoras la latitud y el barrio ('lat' y 'l3'). \n",
    "Si bien el RMSE del modelo del Sprint 2 aumento, esta metrica no es comparable debido a que en el Sprint 1 filtramos el dataset con un precio menor al filtrado en este Sprint."
   ]
  },
  {
   "cell_type": "markdown",
   "metadata": {},
   "source": [
    "## Modelos avanzados\n",
    "Para los modelos avanzados decidi utilizar Random Forest y XGBoost.\n"
   ]
  },
  {
   "cell_type": "markdown",
   "metadata": {},
   "source": [
    "### Random forest"
   ]
  },
  {
   "cell_type": "code",
   "execution_count": 234,
   "metadata": {},
   "outputs": [
    {
     "data": {
      "text/plain": [
       "RandomForestRegressor()"
      ]
     },
     "execution_count": 234,
     "metadata": {},
     "output_type": "execute_result"
    }
   ],
   "source": [
    "#Entreno el modelo random forest por defecto\n",
    "rf = RandomForestRegressor()\n",
    "rf.fit(X_train_transformado,y_train)"
   ]
  },
  {
   "cell_type": "code",
   "execution_count": 235,
   "metadata": {
    "scrolled": false
   },
   "outputs": [
    {
     "name": "stdout",
     "output_type": "stream",
     "text": [
      "Modelo: Random Forest\n",
      "Raíz del error cuadrático medio en Train: 15211.456089360227\n",
      "Raíz del error cuadrático medio en Test: 36694.62086442799\n",
      "R2 en Train: 0.9847158502011419\n",
      "R2 Test: 0.9084496475367863\n"
     ]
    },
    {
     "data": {
      "text/plain": [
       "<Figure size 1008x360 with 0 Axes>"
      ]
     },
     "execution_count": 235,
     "metadata": {},
     "output_type": "execute_result"
    },
    {
     "data": {
      "text/plain": [
       "<AxesSubplot:>"
      ]
     },
     "execution_count": 235,
     "metadata": {},
     "output_type": "execute_result"
    },
    {
     "data": {
      "text/plain": [
       "Text(0.5, 1.0, 'Distribucion de los errores')"
      ]
     },
     "execution_count": 235,
     "metadata": {},
     "output_type": "execute_result"
    },
    {
     "data": {
      "text/plain": [
       "<AxesSubplot:title={'center':'Distribucion de los errores'}, xlabel='price'>"
      ]
     },
     "execution_count": 235,
     "metadata": {},
     "output_type": "execute_result"
    },
    {
     "data": {
      "text/plain": [
       "<AxesSubplot:title={'center':'Distribucion de los errores'}, xlabel='price'>"
      ]
     },
     "execution_count": 235,
     "metadata": {},
     "output_type": "execute_result"
    },
    {
     "data": {
      "text/plain": [
       "Text(0.5, 0, 'errores')"
      ]
     },
     "execution_count": 235,
     "metadata": {},
     "output_type": "execute_result"
    },
    {
     "data": {
      "text/plain": [
       "<matplotlib.legend.Legend at 0x6c1755eb0>"
      ]
     },
     "execution_count": 235,
     "metadata": {},
     "output_type": "execute_result"
    },
    {
     "data": {
      "text/plain": [
       "Text(0.5, 1.0, 'Y_predichos vs Y_reales')"
      ]
     },
     "execution_count": 235,
     "metadata": {},
     "output_type": "execute_result"
    },
    {
     "data": {
      "text/plain": [
       "<matplotlib.collections.PathCollection at 0x11f63aa90>"
      ]
     },
     "execution_count": 235,
     "metadata": {},
     "output_type": "execute_result"
    },
    {
     "data": {
      "text/plain": [
       "[<matplotlib.lines.Line2D at 0x11f658eb0>]"
      ]
     },
     "execution_count": 235,
     "metadata": {},
     "output_type": "execute_result"
    },
    {
     "data": {
      "text/plain": [
       "Text(0.5, 0, 'y (test)')"
      ]
     },
     "execution_count": 235,
     "metadata": {},
     "output_type": "execute_result"
    },
    {
     "data": {
      "text/plain": [
       "Text(0, 0.5, 'y_pred (test)')"
      ]
     },
     "execution_count": 235,
     "metadata": {},
     "output_type": "execute_result"
    },
    {
     "data": {
      "image/png": "[encoded data removed]",
      "text/plain": [
       "<Figure size 1008x360 with 2 Axes>"
      ]
     },
     "metadata": {
      "needs_background": "light"
     },
     "output_type": "display_data"
    }
   ],
   "source": [
    "# Predecimos sobre nuestro set\n",
    "y_train_pred_rf = rf.predict(X_train_transformado)\n",
    "y_test_pred_rf = rf.predict(X_test_transformado)\n",
    "\n",
    "# Buscamos RMSE y R2\n",
    "rmse_rf_train = np.sqrt(mean_squared_error(y_train, y_train_pred_rf))\n",
    "rmse_rf_test = np.sqrt(mean_squared_error(y_test, y_test_pred_rf))\n",
    "r2_rf_train= r2_score(y_train, y_train_pred_rf)\n",
    "r2_rf_test = r2_score(y_test, y_test_pred_rf)\n",
    "\n",
    "# Imprimimos resultados\n",
    "print('Modelo: Random Forest')\n",
    "print(f'Raíz del error cuadrático medio en Train: {rmse_rf_train}')\n",
    "print(f'Raíz del error cuadrático medio en Test: {rmse_rf_test}')\n",
    "print(f'R2 en Train: {r2_rf_train}')\n",
    "print(f'R2 Test: {r2_rf_test}')\n",
    "\n",
    "# Graficamos los errores\n",
    "plt.figure(figsize = (14,5))\n",
    "\n",
    "plt.subplot(1,2,1)\n",
    "plt.title('Distribucion de los errores')\n",
    "sns.distplot(y_train - y_train_pred_rf, bins = 20, label = 'train')\n",
    "sns.distplot(y_test - y_test_pred_rf, bins = 20, label = 'test')\n",
    "plt.xlabel('errores')\n",
    "plt.legend()\n",
    "\n",
    "ax = plt.subplot(1,2,2)\n",
    "plt.title('Y_predichos vs Y_reales')\n",
    "ax.scatter(y_test,y_test_pred_rf, s =2)\n",
    "    \n",
    "lims = [\n",
    "    np.min([ax.get_xlim(), ax.get_ylim()]),  # min of both axes\n",
    "    np.max([ax.get_xlim(), ax.get_ylim()]),  # max of both axes]\n",
    "    ]\n",
    "    \n",
    "ax.plot(lims, lims, 'k-', alpha=0.75, zorder=0)\n",
    "plt.xlabel('y (test)')\n",
    "plt.ylabel('y_pred (test)')\n",
    "    \n",
    "plt.tight_layout()\n",
    "plt.show()\n",
    "\n"
   ]
  },
  {
   "cell_type": "code",
   "execution_count": 236,
   "metadata": {},
   "outputs": [],
   "source": [
    "importances_rf = pd.DataFrame(np.transpose([X_train_transformado.columns, rf.feature_importances_]), columns = ['feature', 'importance']).sort_values(by='importance', ascending = False)"
   ]
  },
  {
   "cell_type": "code",
   "execution_count": 237,
   "metadata": {
    "scrolled": false
   },
   "outputs": [
    {
     "data": {
      "text/plain": [
       "<Figure size 1080x432 with 0 Axes>"
      ]
     },
     "execution_count": 237,
     "metadata": {},
     "output_type": "execute_result"
    },
    {
     "data": {
      "text/plain": [
       "<AxesSubplot:xlabel='feature', ylabel='importance'>"
      ]
     },
     "execution_count": 237,
     "metadata": {},
     "output_type": "execute_result"
    },
    {
     "data": {
      "text/plain": [
       "Text(0.5, 1.0, 'Importancia de las variables')"
      ]
     },
     "execution_count": 237,
     "metadata": {},
     "output_type": "execute_result"
    },
    {
     "data": {
      "text/plain": [
       "Text(0, 0.5, 'Importancia')"
      ]
     },
     "execution_count": 237,
     "metadata": {},
     "output_type": "execute_result"
    },
    {
     "data": {
      "text/plain": [
       "Text(0.5, 0, 'Variable')"
      ]
     },
     "execution_count": 237,
     "metadata": {},
     "output_type": "execute_result"
    },
    {
     "data": {
      "image/png": "[encoded data removed]",
      "text/plain": [
       "<Figure size 1080x432 with 1 Axes>"
      ]
     },
     "metadata": {
      "needs_background": "light"
     },
     "output_type": "display_data"
    }
   ],
   "source": [
    "plt.figure(figsize = (15,6))\n",
    "sns.barplot(data = importances_rf, x='feature', y='importance')\n",
    "plt.title('Importancia de las variables')\n",
    "plt.ylabel('Importancia')\n",
    "plt.xlabel('Variable')\n",
    "plt.show()"
   ]
  },
  {
   "cell_type": "markdown",
   "metadata": {},
   "source": [
    "Este grafico nos muestra como la variable mas importante es la Superficie Cubierta, seguida por el Barrio en el que se encuentra la propiedad, la cantidad de Baños y la Superficie Total. "
   ]
  },
  {
   "cell_type": "markdown",
   "metadata": {},
   "source": [
    "#### Optimizacion Grid Search y Cross Validation para Random Forest"
   ]
  },
  {
   "cell_type": "code",
   "execution_count": 172,
   "metadata": {
    "scrolled": false
   },
   "outputs": [
    {
     "name": "stdout",
     "output_type": "stream",
     "text": [
      "{'n_estimators': [300, 600, 900, 1200, 1500], 'max_features': ['auto'], 'max_depth': [200, 350, 500, 650, 800, None], 'min_samples_split': [2, 5, 10], 'min_samples_leaf': [1, 2, 4], 'bootstrap': [True, False]}\n",
      "Fitting 3 folds for each of 30 candidates, totalling 90 fits\n"
     ]
    },
    {
     "data": {
      "text/plain": [
       "RandomizedSearchCV(cv=3, estimator=RandomForestRegressor(), n_iter=30,\n",
       "                   n_jobs=-1,\n",
       "                   param_distributions={'bootstrap': [True, False],\n",
       "                                        'max_depth': [200, 350, 500, 650, 800,\n",
       "                                                      None],\n",
       "                                        'max_features': ['auto'],\n",
       "                                        'min_samples_leaf': [1, 2, 4],\n",
       "                                        'min_samples_split': [2, 5, 10],\n",
       "                                        'n_estimators': [300, 600, 900, 1200,\n",
       "                                                         1500]},\n",
       "                   random_state=42, verbose=10)"
      ]
     },
     "execution_count": 172,
     "metadata": {},
     "output_type": "execute_result"
    }
   ],
   "source": [
    "# Grilla para Randomized Search en Random Forest\n",
    "\n",
    "n_estimators = [int(x) for x in np.linspace(start = 300, stop = 1500 , num = 5)] # Cantidad de arboles.\n",
    "max_features = ['auto'] # Cantidad de features a considerar en cada split.\n",
    "max_depth = [int(x) for x in np.linspace(200, 800, num = 5)] # Max depth en cada arbol.\n",
    "max_depth.append(None)\n",
    "min_samples_split = [2,5,10] # Minima cantidad de samples requeridos para hacer el split en un nodo.\n",
    "min_samples_leaf = [1,2,4] # Minima cantidad de samples requeridos en cada nodo de la hoja.\n",
    "bootstrap = [True, False]\n",
    "\n",
    "# Armo la random grid\n",
    "random_grid = {'n_estimators' : n_estimators,\n",
    "               'max_features' : max_features,\n",
    "               'max_depth' : max_depth,\n",
    "               'min_samples_split' : min_samples_split,\n",
    "               'min_samples_leaf' : min_samples_leaf,\n",
    "               'bootstrap' : bootstrap}\n",
    "\n",
    "print(random_grid)\n",
    "\n",
    "rf = RandomForestRegressor()\n",
    "\n",
    "# Armo el modelo\n",
    "\n",
    "rf_randomgrid = RandomizedSearchCV(estimator = rf, param_distributions = random_grid, n_iter = 30, cv = 3, random_state = 42, verbose= 10, n_jobs = -1)\n",
    "\n",
    "# Fiteamos el modelo\n",
    "\n",
    "rf_randomgrid.fit(X_train_transformado, y_train)"
   ]
  },
  {
   "cell_type": "code",
   "execution_count": 173,
   "metadata": {},
   "outputs": [
    {
     "data": {
      "text/plain": [
       "RandomForestRegressor(n_estimators=1500)"
      ]
     },
     "execution_count": 173,
     "metadata": {},
     "output_type": "execute_result"
    }
   ],
   "source": [
    "# Armamos un diccionario con los mejores hiperparametros encontrados por el modelo\n",
    "rf_rg_best = rf_randomgrid.best_params_\n",
    "\n",
    "# Metemos esos hiperparametros en nuestro modelo XGB\n",
    "rf_randomgrid = rf.set_params(**rf_rg_best)\n",
    "\n",
    "# Volvemos a entrenar el modelo\n",
    "rf_randomgrid.fit(X_train_transformado, y_train)"
   ]
  },
  {
   "cell_type": "code",
   "execution_count": 174,
   "metadata": {},
   "outputs": [
    {
     "name": "stdout",
     "output_type": "stream",
     "text": [
      "Modelo: Random Forest optimizado con Random Search\n",
      "Raíz del error cuadrático medio en Train: 14908.655855926434\n",
      "Raíz del error cuadrático medio en Test: 36534.27681197602\n",
      "R2 en Train: 0.9853182883933099\n",
      "R2 Test: 0.9092479924513319\n"
     ]
    },
    {
     "data": {
      "text/plain": [
       "<Figure size 1008x360 with 0 Axes>"
      ]
     },
     "execution_count": 174,
     "metadata": {},
     "output_type": "execute_result"
    },
    {
     "data": {
      "text/plain": [
       "<AxesSubplot:>"
      ]
     },
     "execution_count": 174,
     "metadata": {},
     "output_type": "execute_result"
    },
    {
     "data": {
      "text/plain": [
       "Text(0.5, 1.0, 'Distribucion de los errores')"
      ]
     },
     "execution_count": 174,
     "metadata": {},
     "output_type": "execute_result"
    },
    {
     "data": {
      "text/plain": [
       "<AxesSubplot:title={'center':'Distribucion de los errores'}, xlabel='price'>"
      ]
     },
     "execution_count": 174,
     "metadata": {},
     "output_type": "execute_result"
    },
    {
     "data": {
      "text/plain": [
       "<AxesSubplot:title={'center':'Distribucion de los errores'}, xlabel='price'>"
      ]
     },
     "execution_count": 174,
     "metadata": {},
     "output_type": "execute_result"
    },
    {
     "data": {
      "text/plain": [
       "Text(0.5, 0, 'errores')"
      ]
     },
     "execution_count": 174,
     "metadata": {},
     "output_type": "execute_result"
    },
    {
     "data": {
      "text/plain": [
       "<matplotlib.legend.Legend at 0x3b20f6dc0>"
      ]
     },
     "execution_count": 174,
     "metadata": {},
     "output_type": "execute_result"
    },
    {
     "data": {
      "text/plain": [
       "Text(0.5, 1.0, 'Y_predichos vs Y_reales')"
      ]
     },
     "execution_count": 174,
     "metadata": {},
     "output_type": "execute_result"
    },
    {
     "data": {
      "text/plain": [
       "<matplotlib.collections.PathCollection at 0x3b836f910>"
      ]
     },
     "execution_count": 174,
     "metadata": {},
     "output_type": "execute_result"
    },
    {
     "data": {
      "text/plain": [
       "[<matplotlib.lines.Line2D at 0x3b41ae340>]"
      ]
     },
     "execution_count": 174,
     "metadata": {},
     "output_type": "execute_result"
    },
    {
     "data": {
      "text/plain": [
       "Text(0.5, 0, 'y (test)')"
      ]
     },
     "execution_count": 174,
     "metadata": {},
     "output_type": "execute_result"
    },
    {
     "data": {
      "text/plain": [
       "Text(0, 0.5, 'y_pred (test)')"
      ]
     },
     "execution_count": 174,
     "metadata": {},
     "output_type": "execute_result"
    },
    {
     "data": {
      "image/png": "[encoded data removed]",
      "text/plain": [
       "<Figure size 1008x360 with 2 Axes>"
      ]
     },
     "metadata": {
      "needs_background": "light"
     },
     "output_type": "display_data"
    }
   ],
   "source": [
    "# Armo las predicciones\n",
    "y_train_pred_rf_rgrid = rf_randomgrid.predict(X_train_transformado)\n",
    "y_test_pred_rf_rgrid = rf_randomgrid.predict(X_test_transformado)\n",
    "\n",
    "# Buscamos RMSE y R2\n",
    "rmse_rf_train_rgrid = np.sqrt(mean_squared_error(y_train, y_train_pred_rf_rgrid))\n",
    "rmse_rf_test_rgrid = np.sqrt(mean_squared_error(y_test, y_test_pred_rf_rgrid))\n",
    "r2_rf_train_rgrid = r2_score(y_train, y_train_pred_rf_rgrid)\n",
    "r2_rf_test_rgrid = r2_score(y_test, y_test_pred_rf_rgrid)\n",
    "\n",
    "# Imprimo resultados\n",
    "print('Modelo: Random Forest optimizado con Random Search')\n",
    "print(f'Raíz del error cuadrático medio en Train: {rmse_rf_train_rgrid}')\n",
    "print(f'Raíz del error cuadrático medio en Test: {rmse_rf_test_rgrid}')\n",
    "print(f'R2 en Train: {r2_rf_train_rgrid}')\n",
    "print(f'R2 Test: {r2_rf_test_rgrid}')\n",
    "\n",
    "# Graficamos los errores\n",
    "plt.figure(figsize = (14,5))\n",
    "\n",
    "plt.subplot(1,2,1)\n",
    "plt.title('Distribucion de los errores')\n",
    "sns.distplot(y_train - y_train_pred_rf_rgrid, bins = 20, label = 'train')\n",
    "sns.distplot(y_test - y_test_pred_rf_rgrid, bins = 20, label = 'test')\n",
    "plt.xlabel('errores')\n",
    "plt.legend()\n",
    "\n",
    "ax = plt.subplot(1,2,2)\n",
    "plt.title('Y_predichos vs Y_reales')\n",
    "ax.scatter(y_test,y_test_pred_rf_rgrid, s =2)\n",
    "    \n",
    "lims = [\n",
    "    np.min([ax.get_xlim(), ax.get_ylim()]),  # min of both axes\n",
    "    np.max([ax.get_xlim(), ax.get_ylim()]),  # max of both axes]\n",
    "    ]\n",
    "    \n",
    "ax.plot(lims, lims, 'k-', alpha=0.75, zorder=0)\n",
    "plt.xlabel('y (test)')\n",
    "plt.ylabel('y_pred (test)')\n",
    "    \n",
    "plt.tight_layout()\n",
    "plt.show()\n",
    "\n"
   ]
  },
  {
   "cell_type": "markdown",
   "metadata": {},
   "source": [
    "### XGBoost"
   ]
  },
  {
   "cell_type": "code",
   "execution_count": 238,
   "metadata": {},
   "outputs": [],
   "source": [
    "import xgboost as xgb"
   ]
  },
  {
   "cell_type": "code",
   "execution_count": 239,
   "metadata": {
    "scrolled": true
   },
   "outputs": [
    {
     "data": {
      "text/plain": [
       "XGBRegressor(base_score=0.5, booster='gbtree', colsample_bylevel=1,\n",
       "             colsample_bynode=1, colsample_bytree=1, gamma=0, gpu_id=-1,\n",
       "             importance_type='gain', interaction_constraints='',\n",
       "             learning_rate=0.300000012, max_delta_step=0, max_depth=6,\n",
       "             min_child_weight=1, missing=nan, monotone_constraints='()',\n",
       "             n_estimators=100, n_jobs=4, num_parallel_tree=1, random_state=0,\n",
       "             reg_alpha=0, reg_lambda=1, scale_pos_weight=1, subsample=1,\n",
       "             tree_method='exact', validate_parameters=1, verbosity=None)"
      ]
     },
     "execution_count": 239,
     "metadata": {},
     "output_type": "execute_result"
    }
   ],
   "source": [
    "# Entreno el modelo XGBoost\n",
    "xgb_rf = xgb.XGBRegressor()\n",
    "xgb_rf.fit(X_train_transformado, y_train)"
   ]
  },
  {
   "cell_type": "code",
   "execution_count": 240,
   "metadata": {
    "scrolled": false
   },
   "outputs": [
    {
     "name": "stdout",
     "output_type": "stream",
     "text": [
      "Modelo: XGBoost\n",
      "Raíz del error cuadrático medio en Train: 36492.62177187178\n",
      "Raíz del error cuadrático medio en Test: 41973.546575378045\n",
      "R2 en Train: 0.9120350133542421\n",
      "R2 Test: 0.8802138671899405\n"
     ]
    },
    {
     "data": {
      "text/plain": [
       "<Figure size 1008x360 with 0 Axes>"
      ]
     },
     "execution_count": 240,
     "metadata": {},
     "output_type": "execute_result"
    },
    {
     "data": {
      "text/plain": [
       "<AxesSubplot:>"
      ]
     },
     "execution_count": 240,
     "metadata": {},
     "output_type": "execute_result"
    },
    {
     "data": {
      "text/plain": [
       "Text(0.5, 1.0, 'Distribucion de los errores')"
      ]
     },
     "execution_count": 240,
     "metadata": {},
     "output_type": "execute_result"
    },
    {
     "data": {
      "text/plain": [
       "<AxesSubplot:title={'center':'Distribucion de los errores'}, xlabel='price'>"
      ]
     },
     "execution_count": 240,
     "metadata": {},
     "output_type": "execute_result"
    },
    {
     "data": {
      "text/plain": [
       "<AxesSubplot:title={'center':'Distribucion de los errores'}, xlabel='price'>"
      ]
     },
     "execution_count": 240,
     "metadata": {},
     "output_type": "execute_result"
    },
    {
     "data": {
      "text/plain": [
       "Text(0.5, 0, 'errores')"
      ]
     },
     "execution_count": 240,
     "metadata": {},
     "output_type": "execute_result"
    },
    {
     "data": {
      "text/plain": [
       "<matplotlib.legend.Legend at 0x3b27ca0a0>"
      ]
     },
     "execution_count": 240,
     "metadata": {},
     "output_type": "execute_result"
    },
    {
     "data": {
      "text/plain": [
       "Text(0.5, 1.0, 'Y_predichos vs Y_reales')"
      ]
     },
     "execution_count": 240,
     "metadata": {},
     "output_type": "execute_result"
    },
    {
     "data": {
      "text/plain": [
       "<matplotlib.collections.PathCollection at 0x6da949a60>"
      ]
     },
     "execution_count": 240,
     "metadata": {},
     "output_type": "execute_result"
    },
    {
     "data": {
      "text/plain": [
       "[<matplotlib.lines.Line2D at 0x6bfc62400>]"
      ]
     },
     "execution_count": 240,
     "metadata": {},
     "output_type": "execute_result"
    },
    {
     "data": {
      "text/plain": [
       "Text(0.5, 0, 'y (test)')"
      ]
     },
     "execution_count": 240,
     "metadata": {},
     "output_type": "execute_result"
    },
    {
     "data": {
      "text/plain": [
       "Text(0, 0.5, 'y_pred (test)')"
      ]
     },
     "execution_count": 240,
     "metadata": {},
     "output_type": "execute_result"
    },
    {
     "data": {
      "image/png": "[encoded data removed]",
      "text/plain": [
       "<Figure size 1008x360 with 2 Axes>"
      ]
     },
     "metadata": {
      "needs_background": "light"
     },
     "output_type": "display_data"
    }
   ],
   "source": [
    "# Predecimos sobre nuestro set\n",
    "y_train_pred_xgb = xgb_rf.predict(X_train_transformado)\n",
    "y_test_pred_xgb = xgb_rf.predict(X_test_transformado)\n",
    "\n",
    "# Buscamos RMSE y R2\n",
    "rmse_xgb_train = np.sqrt(mean_squared_error(y_train, y_train_pred_xgb))\n",
    "rmse_xgb_test = np.sqrt(mean_squared_error(y_test, y_test_pred_xgb))\n",
    "r2_xgb_train= r2_score(y_train, y_train_pred_xgb)\n",
    "r2_xgb_test = r2_score(y_test, y_test_pred_xgb)\n",
    "\n",
    "# Imprimo resultados\n",
    "print('Modelo: XGBoost')\n",
    "print(f'Raíz del error cuadrático medio en Train: {rmse_xgb_train}')\n",
    "print(f'Raíz del error cuadrático medio en Test: {rmse_xgb_test}')\n",
    "print(f'R2 en Train: {r2_xgb_train}')\n",
    "print(f'R2 Test: {r2_xgb_test}')\n",
    "\n",
    "# Graficamos los errores\n",
    "plt.figure(figsize = (14,5))\n",
    "\n",
    "plt.subplot(1,2,1)\n",
    "plt.title('Distribucion de los errores')\n",
    "sns.distplot(y_train - y_train_pred_xgb, bins = 20, label = 'train')\n",
    "sns.distplot(y_test - y_test_pred_xgb, bins = 20, label = 'test')\n",
    "plt.xlabel('errores')\n",
    "plt.legend()\n",
    "\n",
    "ax = plt.subplot(1,2,2)\n",
    "plt.title('Y_predichos vs Y_reales')\n",
    "ax.scatter(y_test,y_test_pred_xgb, s =2)\n",
    "    \n",
    "lims = [\n",
    "    np.min([ax.get_xlim(), ax.get_ylim()]),  # min of both axes\n",
    "    np.max([ax.get_xlim(), ax.get_ylim()]),  # max of both axes]\n",
    "    ]\n",
    "    \n",
    "ax.plot(lims, lims, 'k-', alpha=0.75, zorder=0)\n",
    "plt.xlabel('y (test)')\n",
    "plt.ylabel('y_pred (test)')\n",
    "    \n",
    "plt.tight_layout()\n",
    "plt.show()\n",
    "\n"
   ]
  },
  {
   "cell_type": "markdown",
   "metadata": {},
   "source": [
    "#### Optimizacion con Randomized Search y Cross Validation para XGBoost"
   ]
  },
  {
   "cell_type": "code",
   "execution_count": 271,
   "metadata": {},
   "outputs": [
    {
     "name": "stdout",
     "output_type": "stream",
     "text": [
      "Fitting 3 folds for each of 50 candidates, totalling 150 fits\n"
     ]
    },
    {
     "data": {
      "text/plain": [
       "RandomizedSearchCV(cv=3,\n",
       "                   estimator=XGBRegressor(base_score=None, booster=None,\n",
       "                                          colsample_bylevel=None,\n",
       "                                          colsample_bynode=None,\n",
       "                                          colsample_bytree=None, gamma=None,\n",
       "                                          gpu_id=None, importance_type='gain',\n",
       "                                          interaction_constraints=None,\n",
       "                                          learning_rate=None,\n",
       "                                          max_delta_step=None, max_depth=None,\n",
       "                                          min_child_weight=None, missing=nan,\n",
       "                                          monotone_constraints=None,\n",
       "                                          n_estimators=100, n...\n",
       "       0.81, 0.82, 0.83, 0.84, 0.85, 0.86, 0.87, 0.88, 0.89, 0.9 , 0.91,\n",
       "       0.92, 0.93, 0.94, 0.95, 0.96, 0.97, 0.98, 0.99, 1.  ]),\n",
       "                                        'learning_rate': [0.01, 0.1, 0.2],\n",
       "                                        'max_depth': [2, 3, 5, 7],\n",
       "                                        'n_estimators': [50, 100, 200, 500,\n",
       "                                                         1000, 1200],\n",
       "                                        'subsample': array([0.8 , 0.81, 0.82, 0.83, 0.84, 0.85, 0.86, 0.87, 0.88, 0.89, 0.9 ,\n",
       "       0.91, 0.92, 0.93, 0.94, 0.95, 0.96, 0.97, 0.98, 0.99])},\n",
       "                   random_state=42, scoring='neg_mean_squared_error',\n",
       "                   verbose=10)"
      ]
     },
     "execution_count": 271,
     "metadata": {},
     "output_type": "execute_result"
    }
   ],
   "source": [
    "# Armo la random grid\n",
    "random_grid_xgb = {'max_depth' : [2,3,5,7],\n",
    "               'learning_rate' : [0.01,0.1,0.2],\n",
    "               'subsample' : np.arange(0.8, 1, 0.01),\n",
    "               'colsample_bytree' : np.arange(0.7, 1, 0.01),\n",
    "               'colsample_bylevel' : np.arange(0.5, 1, 0.1),\n",
    "               'n_estimators' : [50,100,200,500,1000,1200]}\n",
    "\n",
    "#print(random_grid)\n",
    "\n",
    "xgb_opti = xgb.XGBRegressor()\n",
    "\n",
    "# Armo el modelo\n",
    "\n",
    "xgb_randomgrid = RandomizedSearchCV(estimator = xgb_opti, param_distributions = random_grid_xgb, scoring='neg_mean_squared_error', n_iter = 50, cv = 3, random_state = 42, n_jobs = -1, verbose=10)\n",
    "\n",
    "# Fiteamos el modelo\n",
    "\n",
    "xgb_randomgrid.fit(X_train_transformado, y_train)\n"
   ]
  },
  {
   "cell_type": "code",
   "execution_count": 272,
   "metadata": {},
   "outputs": [
    {
     "data": {
      "text/plain": [
       "XGBRegressor(base_score=0.5, booster='gbtree', colsample_bylevel=0.6,\n",
       "             colsample_bynode=1, colsample_bytree=0.9700000000000002, gamma=0,\n",
       "             gpu_id=-1, importance_type='gain', interaction_constraints='',\n",
       "             learning_rate=0.1, max_delta_step=0, max_depth=7,\n",
       "             min_child_weight=1, missing=nan, monotone_constraints='()',\n",
       "             n_estimators=1200, n_jobs=4, num_parallel_tree=1, random_state=0,\n",
       "             reg_alpha=0, reg_lambda=1, scale_pos_weight=1,\n",
       "             subsample=0.9800000000000002, tree_method='exact',\n",
       "             validate_parameters=1, verbosity=None)"
      ]
     },
     "execution_count": 272,
     "metadata": {},
     "output_type": "execute_result"
    }
   ],
   "source": [
    "# Armamos un diccionario con los mejores hiperparametros encontrados por el modelo\n",
    "xgboost_rg_best = xgb_randomgrid.best_params_\n",
    "\n",
    "# Metemos esos hiperparametros en nuestro modelo XGB\n",
    "xgb_randomgrid = xgb_opti.set_params(**xgboost_rg_best)\n",
    "\n",
    "# Volvemos a entrenar el modelo\n",
    "xgb_randomgrid.fit(X_train_transformado, y_train)"
   ]
  },
  {
   "cell_type": "code",
   "execution_count": 273,
   "metadata": {
    "scrolled": false
   },
   "outputs": [
    {
     "name": "stdout",
     "output_type": "stream",
     "text": [
      "Modelo: XGBoost optimizado con Random Search\n",
      "Raíz del error cuadrático medio en Train: 20069.223510541102\n",
      "Raíz del error cuadrático medio en Test: 35686.01010400033\n",
      "R2 en Train: 0.9733951479130137\n",
      "R2 Test: 0.913413297789693\n"
     ]
    },
    {
     "data": {
      "text/plain": [
       "<Figure size 1008x360 with 0 Axes>"
      ]
     },
     "execution_count": 273,
     "metadata": {},
     "output_type": "execute_result"
    },
    {
     "data": {
      "text/plain": [
       "<AxesSubplot:>"
      ]
     },
     "execution_count": 273,
     "metadata": {},
     "output_type": "execute_result"
    },
    {
     "data": {
      "text/plain": [
       "Text(0.5, 1.0, 'Distribucion de los errores')"
      ]
     },
     "execution_count": 273,
     "metadata": {},
     "output_type": "execute_result"
    },
    {
     "data": {
      "text/plain": [
       "<AxesSubplot:title={'center':'Distribucion de los errores'}, xlabel='price'>"
      ]
     },
     "execution_count": 273,
     "metadata": {},
     "output_type": "execute_result"
    },
    {
     "data": {
      "text/plain": [
       "<AxesSubplot:title={'center':'Distribucion de los errores'}, xlabel='price'>"
      ]
     },
     "execution_count": 273,
     "metadata": {},
     "output_type": "execute_result"
    },
    {
     "data": {
      "text/plain": [
       "Text(0.5, 0, 'errores')"
      ]
     },
     "execution_count": 273,
     "metadata": {},
     "output_type": "execute_result"
    },
    {
     "data": {
      "text/plain": [
       "<matplotlib.legend.Legend at 0x6dac1bd90>"
      ]
     },
     "execution_count": 273,
     "metadata": {},
     "output_type": "execute_result"
    },
    {
     "data": {
      "text/plain": [
       "Text(0.5, 1.0, 'Y_predichos vs Y_reales')"
      ]
     },
     "execution_count": 273,
     "metadata": {},
     "output_type": "execute_result"
    },
    {
     "data": {
      "text/plain": [
       "<matplotlib.collections.PathCollection at 0x6da666280>"
      ]
     },
     "execution_count": 273,
     "metadata": {},
     "output_type": "execute_result"
    },
    {
     "data": {
      "text/plain": [
       "[<matplotlib.lines.Line2D at 0x6da681790>]"
      ]
     },
     "execution_count": 273,
     "metadata": {},
     "output_type": "execute_result"
    },
    {
     "data": {
      "text/plain": [
       "Text(0.5, 0, 'y (test)')"
      ]
     },
     "execution_count": 273,
     "metadata": {},
     "output_type": "execute_result"
    },
    {
     "data": {
      "text/plain": [
       "Text(0, 0.5, 'y_pred (test)')"
      ]
     },
     "execution_count": 273,
     "metadata": {},
     "output_type": "execute_result"
    },
    {
     "data": {
      "image/png": "[encoded data removed]",
      "text/plain": [
       "<Figure size 1008x360 with 2 Axes>"
      ]
     },
     "metadata": {
      "needs_background": "light"
     },
     "output_type": "display_data"
    }
   ],
   "source": [
    "# Armo las predicciones\n",
    "y_train_pred_xgb_rgrid = xgb_randomgrid.predict(X_train_transformado)\n",
    "y_test_pred_xgb_rgrid = xgb_randomgrid.predict(X_test_transformado)\n",
    "\n",
    "# Buscamos RMSE y R2\n",
    "rmse_xgb_train_rgrid = np.sqrt(mean_squared_error(y_train, y_train_pred_xgb_rgrid))\n",
    "rmse_xgb_test_rgrid = np.sqrt(mean_squared_error(y_test, y_test_pred_xgb_rgrid))\n",
    "r2_xgb_train_rgrid = r2_score(y_train, y_train_pred_xgb_rgrid)\n",
    "r2_xgb_test_rgrid = r2_score(y_test, y_test_pred_xgb_rgrid)\n",
    "\n",
    "# Imprimo resultados\n",
    "print('Modelo: XGBoost optimizado con Random Search')\n",
    "print(f'Raíz del error cuadrático medio en Train: {rmse_xgb_train_rgrid}')\n",
    "print(f'Raíz del error cuadrático medio en Test: {rmse_xgb_test_rgrid}')\n",
    "print(f'R2 en Train: {r2_xgb_train_rgrid}')\n",
    "print(f'R2 Test: {r2_xgb_test_rgrid}')\n",
    "\n",
    "# Graficamos los errores\n",
    "plt.figure(figsize = (14,5))\n",
    "\n",
    "plt.subplot(1,2,1)\n",
    "plt.title('Distribucion de los errores')\n",
    "sns.distplot(y_train - y_train_pred_xgb_rgrid, bins = 20, label = 'train')\n",
    "sns.distplot(y_test - y_test_pred_xgb_rgrid, bins = 20, label = 'test')\n",
    "plt.xlabel('errores')\n",
    "plt.legend()\n",
    "\n",
    "ax = plt.subplot(1,2,2)\n",
    "plt.title('Y_predichos vs Y_reales')\n",
    "ax.scatter(y_test,y_test_pred_xgb_rgrid, s =2)\n",
    "    \n",
    "lims = [\n",
    "    np.min([ax.get_xlim(), ax.get_ylim()]),  # min of both axes\n",
    "    np.max([ax.get_xlim(), ax.get_ylim()]),  # max of both axes]\n",
    "    ]\n",
    "    \n",
    "ax.plot(lims, lims, 'k-', alpha=0.75, zorder=0)\n",
    "plt.xlabel('y (test)')\n",
    "plt.ylabel('y_pred (test)')\n",
    "    \n",
    "plt.tight_layout()\n",
    "plt.show()\n",
    "\n"
   ]
  },
  {
   "cell_type": "markdown",
   "metadata": {},
   "source": [
    "#### Gp_minimize para XGBoost (utilizo Gp_minimize para probar otro metodo de optimizacion)"
   ]
  },
  {
   "cell_type": "code",
   "execution_count": 192,
   "metadata": {},
   "outputs": [],
   "source": [
    "xgb_gp = xgb.XGBRegressor()"
   ]
  },
  {
   "cell_type": "code",
   "execution_count": 197,
   "metadata": {},
   "outputs": [],
   "source": [
    "from skopt.space import Real, Integer, Categorical\n",
    "# Definimos aquellos parámetros que queremos colocar, pero que queremos NO mover luego\n",
    "FIXED_PARAMS = {         \n",
    "                'random_state': 0,           \n",
    "                     }\n",
    "\n",
    "cant_columnas = X_train_transformado.shape[1]\n",
    "space= [          \n",
    "            Integer(2, 6, name='max_depth')\n",
    "            ,Integer(50, 1500, name='n_estimators')\n",
    "            ,Real(0.01, 0.5, name='learning_rate')\n",
    "            ,Real(0.05, 1, name='colsample_bytree')\n",
    "            ,Real(0.05, 0.1, name='colsample_bylevel') # mínima cantidad de registros para abrir una hoja\n",
    "            ]\n",
    "# listamos los nombres de los parámetros cuyo espacio de búsqueda acabamos de definir\n",
    "param_names = ['max_depth','n_estimators','learning_rate','colsample_bytree','colsample_bylevel']"
   ]
  },
  {
   "cell_type": "markdown",
   "metadata": {},
   "source": [
    "Definimos una funcion de métricas de evaluacion (para obtener RMSE)"
   ]
  },
  {
   "cell_type": "code",
   "execution_count": 198,
   "metadata": {},
   "outputs": [],
   "source": [
    "from sklearn.metrics import roc_auc_score, mean_squared_error\n",
    "def eval_metrics(y_true, y_pred):\n",
    "    rmse = mean_squared_error(y_true, y_pred, squared=False) \n",
    "    return rmse"
   ]
  },
  {
   "cell_type": "markdown",
   "metadata": {},
   "source": [
    "Lo más importante: definimos todo lo que es nuestra \"función objetivo\". Es decir, lo que queremos que se haga en cada iteración!"
   ]
  },
  {
   "cell_type": "code",
   "execution_count": 199,
   "metadata": {},
   "outputs": [],
   "source": [
    "# 6) Definimos la funcion objetivo, que se utilizará a cada iteración de la búsqueda\n",
    "# creamos una lista para guardar los resultados\n",
    "lista_results = []\n",
    "lista_test_scores_cv = []\n",
    "lista_train_scores_cv = []\n",
    "lista_test_std_cv = []\n",
    "lista_test_r2 = []\n",
    "lista_train_r2 = []\n",
    "\n",
    "from skopt.utils import use_named_args\n",
    "from sklearn.model_selection import cross_validate\n",
    "from sklearn.metrics import make_scorer\n",
    "\n",
    "@use_named_args(space)\n",
    "def objective(**params):\n",
    "\n",
    "    # seteamos los parámetros fijos\n",
    "    xgb_gp.set_params(**FIXED_PARAMS)\n",
    "    # y los parámetros de cada iteración (se setearán automáticamente así)\n",
    "    xgb_gp.set_params(**params)\n",
    "    \n",
    "    ####################################################################################\n",
    "    ############################# USAMOS CROSS VALIDATION ##############################\n",
    "    ####################################################################################\n",
    "    # Ahora en vez de eso calculamos nuestros scores de test de un cross validation\n",
    "    # Recordemos, este objeto devuelve un array de todos los test_scores y tambien de los train_scores hallados --> nuestra loss será el promedio de los test_scores\n",
    "    model_i_scores = cross_validate(xgb_gp, X_train_transformado, y_train, cv=5, scoring=  make_scorer(eval_metrics), return_train_score=True)\n",
    "    mean_test_scores = model_i_scores['test_score'].mean()\n",
    "    # Peeero tambien nos guardamos los promedios de train para poder ver si en general se estuvo overfitteando o no \n",
    "    mean_train_scores = model_i_scores['train_score'].mean()\n",
    "    # Por último, resulta interesante ver cuan volatil fueron esos test_scores. Así que tomamos su desvio standard (std)\n",
    "    std_test_scores = model_i_scores['test_score'].std()\n",
    "    \n",
    "    \n",
    "    # Calculamos el r2 de cada iteracion\n",
    "    model_i_scores_r2 = cross_validate(xgb_gp, X_train_transformado, y_train, cv=5, scoring= 'r2', return_train_score=True)\n",
    "    mean_test_scores_r2 = model_i_scores_r2['test_score'].mean()\n",
    "    # Peeero tambien nos guardamos los promedios de train para poder ver si en general se estuvo overfitteando o no \n",
    "    mean_train_scores_r2 = model_i_scores_r2['train_score'].mean()\n",
    "    \n",
    "    \n",
    "    \n",
    "    # Ahora guardamos estos datos en las listas vacias que creamos antes, así nos quedan bien guardados\n",
    "    lista_test_scores_cv.append(mean_test_scores) # test \n",
    "    lista_train_scores_cv.append(mean_train_scores) # train\n",
    "    lista_test_std_cv.append(std_test_scores) # std de test\n",
    "    \n",
    "    lista_test_r2.append(mean_test_scores_r2) # sumo r2 promedios de cada iteracion en test\n",
    "    lista_train_r2.append(mean_train_scores_r2) # sumo r2 promedio de cara iteracin en train\n",
    "    \n",
    " \n",
    "    # Definimos que la funcion de perdida sea el promedio de los scores de test\n",
    "    loss = mean_test_scores\n",
    "    ####################################################################################\n",
    "    ####################################################################################\n",
    "    ####################################################################################\n",
    "    \n",
    "    return loss "
   ]
  },
  {
   "cell_type": "code",
   "execution_count": 200,
   "metadata": {
    "scrolled": false
   },
   "outputs": [
    {
     "data": {
      "application/vnd.jupyter.widget-view+json": {
       "model_id": "55358cc8cb8d4761910dd9a12d7d5234",
       "version_major": 2,
       "version_minor": 0
      },
      "text/plain": [
       "HBox(children=(HTML(value='Gaussian Process'), FloatProgress(value=0.0, max=50.0), HTML(value='')))"
      ]
     },
     "metadata": {},
     "output_type": "display_data"
    },
    {
     "name": "stdout",
     "output_type": "stream",
     "text": [
      "Iteration No: 1 started. Evaluating function at random point.\n",
      "Iteration No: 1 ended. Evaluation done at random point.\n",
      "Time taken: 129.0650\n",
      "Function value obtained: 44408.7565\n",
      "Current minimum: 44408.7565\n",
      "Iteration No: 2 started. Evaluating function at random point.\n",
      "Iteration No: 2 ended. Evaluation done at random point.\n",
      "Time taken: 52.7130\n",
      "Function value obtained: 53397.3128\n",
      "Current minimum: 44408.7565\n",
      "Iteration No: 3 started. Evaluating function at random point.\n",
      "Iteration No: 3 ended. Evaluation done at random point.\n",
      "Time taken: 100.9067\n",
      "Function value obtained: 44893.2791\n",
      "Current minimum: 44408.7565\n",
      "Iteration No: 4 started. Evaluating function at random point.\n",
      "Iteration No: 4 ended. Evaluation done at random point.\n",
      "Time taken: 71.8722\n",
      "Function value obtained: 55989.1061\n",
      "Current minimum: 44408.7565\n",
      "Iteration No: 5 started. Evaluating function at random point.\n",
      "Iteration No: 5 ended. Evaluation done at random point.\n",
      "Time taken: 124.2323\n",
      "Function value obtained: 44980.8439\n",
      "Current minimum: 44408.7565\n",
      "Iteration No: 6 started. Evaluating function at random point.\n",
      "Iteration No: 6 ended. Evaluation done at random point.\n",
      "Time taken: 94.2312\n",
      "Function value obtained: 56532.0465\n",
      "Current minimum: 44408.7565\n",
      "Iteration No: 7 started. Evaluating function at random point.\n",
      "Iteration No: 7 ended. Evaluation done at random point.\n",
      "Time taken: 112.8644\n",
      "Function value obtained: 59001.1091\n",
      "Current minimum: 44408.7565\n",
      "Iteration No: 8 started. Evaluating function at random point.\n",
      "Iteration No: 8 ended. Evaluation done at random point.\n",
      "Time taken: 32.3890\n",
      "Function value obtained: 50948.9543\n",
      "Current minimum: 44408.7565\n",
      "Iteration No: 9 started. Evaluating function at random point.\n",
      "Iteration No: 9 ended. Evaluation done at random point.\n",
      "Time taken: 138.4130\n",
      "Function value obtained: 48364.4739\n",
      "Current minimum: 44408.7565\n",
      "Iteration No: 10 started. Evaluating function at random point.\n",
      "Iteration No: 10 ended. Evaluation done at random point.\n",
      "Time taken: 49.0684\n",
      "Function value obtained: 48544.4688\n",
      "Current minimum: 44408.7565\n",
      "Iteration No: 11 started. Searching for the next optimal point.\n",
      "\n",
      "Iteration No: 11 ended. Search finished for the next optimal point.\n",
      "Time taken: 147.7726\n",
      "Function value obtained: 42774.1074\n",
      "Current minimum: 42774.1074\n",
      "Iteration No: 12 started. Searching for the next optimal point.\n",
      "Iteration No: 12 ended. Search finished for the next optimal point.\n",
      "Time taken: 221.9572\n",
      "Function value obtained: 50089.8268\n",
      "Current minimum: 42774.1074\n",
      "Iteration No: 13 started. Searching for the next optimal point.\n",
      "Iteration No: 13 ended. Search finished for the next optimal point.\n",
      "Time taken: 152.7259\n",
      "Function value obtained: 42715.1049\n",
      "Current minimum: 42715.1049\n",
      "Iteration No: 14 started. Searching for the next optimal point.\n",
      "Iteration No: 14 ended. Search finished for the next optimal point.\n",
      "Time taken: 142.0941\n",
      "Function value obtained: 43123.2705\n",
      "Current minimum: 42715.1049\n",
      "Iteration No: 15 started. Searching for the next optimal point.\n",
      "Iteration No: 15 ended. Search finished for the next optimal point.\n",
      "Time taken: 181.4282\n",
      "Function value obtained: 42508.5215\n",
      "Current minimum: 42508.5215\n",
      "Iteration No: 16 started. Searching for the next optimal point.\n",
      "Iteration No: 16 ended. Search finished for the next optimal point.\n",
      "Time taken: 208.3167\n",
      "Function value obtained: 42427.9426\n",
      "Current minimum: 42427.9426\n",
      "Iteration No: 17 started. Searching for the next optimal point.\n",
      "Iteration No: 17 ended. Search finished for the next optimal point.\n",
      "Time taken: 189.0730\n",
      "Function value obtained: 42408.8324\n",
      "Current minimum: 42408.8324\n",
      "Iteration No: 18 started. Searching for the next optimal point.\n",
      "Iteration No: 18 ended. Search finished for the next optimal point.\n",
      "Time taken: 202.7437\n",
      "Function value obtained: 42372.8826\n",
      "Current minimum: 42372.8826\n",
      "Iteration No: 19 started. Searching for the next optimal point.\n",
      "Iteration No: 19 ended. Search finished for the next optimal point.\n",
      "Time taken: 185.7508\n",
      "Function value obtained: 42466.1210\n",
      "Current minimum: 42372.8826\n",
      "Iteration No: 20 started. Searching for the next optimal point.\n",
      "Iteration No: 20 ended. Search finished for the next optimal point.\n",
      "Time taken: 189.4726\n",
      "Function value obtained: 42466.1210\n",
      "Current minimum: 42372.8826\n",
      "Iteration No: 21 started. Searching for the next optimal point.\n",
      "Iteration No: 21 ended. Search finished for the next optimal point.\n",
      "Time taken: 197.3786\n",
      "Function value obtained: 42265.0394\n",
      "Current minimum: 42265.0394\n",
      "Iteration No: 22 started. Searching for the next optimal point.\n",
      "Iteration No: 22 ended. Search finished for the next optimal point.\n",
      "Time taken: 202.6225\n",
      "Function value obtained: 42456.3103\n",
      "Current minimum: 42265.0394\n",
      "Iteration No: 23 started. Searching for the next optimal point.\n",
      "Iteration No: 23 ended. Search finished for the next optimal point.\n",
      "Time taken: 210.2387\n",
      "Function value obtained: 42498.3722\n",
      "Current minimum: 42265.0394\n",
      "Iteration No: 24 started. Searching for the next optimal point.\n",
      "Iteration No: 24 ended. Search finished for the next optimal point.\n",
      "Time taken: 202.0803\n",
      "Function value obtained: 42305.7311\n",
      "Current minimum: 42265.0394\n",
      "Iteration No: 25 started. Searching for the next optimal point.\n",
      "Iteration No: 25 ended. Search finished for the next optimal point.\n",
      "Time taken: 226.6503\n",
      "Function value obtained: 42278.9946\n",
      "Current minimum: 42265.0394\n",
      "Iteration No: 26 started. Searching for the next optimal point.\n",
      "Iteration No: 26 ended. Search finished for the next optimal point.\n",
      "Time taken: 236.4461\n",
      "Function value obtained: 42420.1999\n",
      "Current minimum: 42265.0394\n",
      "Iteration No: 27 started. Searching for the next optimal point.\n",
      "Iteration No: 27 ended. Search finished for the next optimal point.\n",
      "Time taken: 192.5887\n",
      "Function value obtained: 42398.9151\n",
      "Current minimum: 42265.0394\n",
      "Iteration No: 28 started. Searching for the next optimal point.\n",
      "Iteration No: 28 ended. Search finished for the next optimal point.\n",
      "Time taken: 194.8373\n",
      "Function value obtained: 42323.8264\n",
      "Current minimum: 42265.0394\n",
      "Iteration No: 29 started. Searching for the next optimal point.\n",
      "Iteration No: 29 ended. Search finished for the next optimal point.\n",
      "Time taken: 209.8708\n",
      "Function value obtained: 42193.9454\n",
      "Current minimum: 42193.9454\n",
      "Iteration No: 30 started. Searching for the next optimal point.\n",
      "Iteration No: 30 ended. Search finished for the next optimal point.\n",
      "Time taken: 195.1174\n",
      "Function value obtained: 42337.6518\n",
      "Current minimum: 42193.9454\n",
      "Iteration No: 31 started. Searching for the next optimal point.\n",
      "Iteration No: 31 ended. Search finished for the next optimal point.\n",
      "Time taken: 196.3575\n",
      "Function value obtained: 42291.2044\n",
      "Current minimum: 42193.9454\n",
      "Iteration No: 32 started. Searching for the next optimal point.\n",
      "Iteration No: 32 ended. Search finished for the next optimal point.\n",
      "Time taken: 240.7016\n",
      "Function value obtained: 42399.4750\n",
      "Current minimum: 42193.9454\n",
      "Iteration No: 33 started. Searching for the next optimal point.\n",
      "Iteration No: 33 ended. Search finished for the next optimal point.\n",
      "Time taken: 222.5968\n",
      "Function value obtained: 42247.0911\n",
      "Current minimum: 42193.9454\n",
      "Iteration No: 34 started. Searching for the next optimal point.\n",
      "Iteration No: 34 ended. Search finished for the next optimal point.\n",
      "Time taken: 184.3320\n",
      "Function value obtained: 42184.2744\n",
      "Current minimum: 42184.2744\n",
      "Iteration No: 35 started. Searching for the next optimal point.\n",
      "Iteration No: 35 ended. Search finished for the next optimal point.\n",
      "Time taken: 177.6488\n",
      "Function value obtained: 42343.7076\n",
      "Current minimum: 42184.2744\n",
      "Iteration No: 36 started. Searching for the next optimal point.\n",
      "Iteration No: 36 ended. Search finished for the next optimal point.\n",
      "Time taken: 186.4311\n",
      "Function value obtained: 42286.3957\n",
      "Current minimum: 42184.2744\n",
      "Iteration No: 37 started. Searching for the next optimal point.\n",
      "Iteration No: 37 ended. Search finished for the next optimal point.\n",
      "Time taken: 192.0365\n",
      "Function value obtained: 42393.6542\n",
      "Current minimum: 42184.2744\n",
      "Iteration No: 38 started. Searching for the next optimal point.\n",
      "Iteration No: 38 ended. Search finished for the next optimal point.\n",
      "Time taken: 183.9648\n",
      "Function value obtained: 42330.8033\n",
      "Current minimum: 42184.2744\n",
      "Iteration No: 39 started. Searching for the next optimal point.\n",
      "Iteration No: 39 ended. Search finished for the next optimal point.\n",
      "Time taken: 176.6072\n",
      "Function value obtained: 42386.6998\n",
      "Current minimum: 42184.2744\n",
      "Iteration No: 40 started. Searching for the next optimal point.\n"
     ]
    },
    {
     "name": "stdout",
     "output_type": "stream",
     "text": [
      "Iteration No: 40 ended. Search finished for the next optimal point.\n",
      "Time taken: 173.8537\n",
      "Function value obtained: 42277.8270\n",
      "Current minimum: 42184.2744\n",
      "Iteration No: 41 started. Searching for the next optimal point.\n",
      "Iteration No: 41 ended. Search finished for the next optimal point.\n",
      "Time taken: 174.3225\n",
      "Function value obtained: 42296.4758\n",
      "Current minimum: 42184.2744\n",
      "Iteration No: 42 started. Searching for the next optimal point.\n",
      "Iteration No: 42 ended. Search finished for the next optimal point.\n",
      "Time taken: 174.6919\n",
      "Function value obtained: 42352.5359\n",
      "Current minimum: 42184.2744\n",
      "Iteration No: 43 started. Searching for the next optimal point.\n",
      "Iteration No: 43 ended. Search finished for the next optimal point.\n",
      "Time taken: 174.6143\n",
      "Function value obtained: 42382.9137\n",
      "Current minimum: 42184.2744\n",
      "Iteration No: 44 started. Searching for the next optimal point.\n",
      "Iteration No: 44 ended. Search finished for the next optimal point.\n",
      "Time taken: 175.1325\n",
      "Function value obtained: 42338.8968\n",
      "Current minimum: 42184.2744\n",
      "Iteration No: 45 started. Searching for the next optimal point.\n",
      "Iteration No: 45 ended. Search finished for the next optimal point.\n",
      "Time taken: 239.7665\n",
      "Function value obtained: 42247.6308\n",
      "Current minimum: 42184.2744\n",
      "Iteration No: 46 started. Searching for the next optimal point.\n",
      "Iteration No: 46 ended. Search finished for the next optimal point.\n",
      "Time taken: 204.0858\n",
      "Function value obtained: 42311.1349\n",
      "Current minimum: 42184.2744\n",
      "Iteration No: 47 started. Searching for the next optimal point.\n",
      "Iteration No: 47 ended. Search finished for the next optimal point.\n",
      "Time taken: 202.4978\n",
      "Function value obtained: 42267.5461\n",
      "Current minimum: 42184.2744\n",
      "Iteration No: 48 started. Searching for the next optimal point.\n",
      "Iteration No: 48 ended. Search finished for the next optimal point.\n",
      "Time taken: 207.1634\n",
      "Function value obtained: 42341.2163\n",
      "Current minimum: 42184.2744\n",
      "Iteration No: 49 started. Searching for the next optimal point.\n",
      "Iteration No: 49 ended. Search finished for the next optimal point.\n",
      "Time taken: 216.1106\n",
      "Function value obtained: 42421.1118\n",
      "Current minimum: 42184.2744\n",
      "Iteration No: 50 started. Searching for the next optimal point.\n",
      "Iteration No: 50 ended. Search finished for the next optimal point.\n",
      "Time taken: 176.0997\n",
      "Function value obtained: 42286.9499\n",
      "Current minimum: 42184.2744\n"
     ]
    }
   ],
   "source": [
    "# 7) Ejecutamos la búsqueda de los hiperparámetros \n",
    "\n",
    "from skopt import gp_minimize, forest_minimize, dump\n",
    "# import joblib\n",
    "from tqdm.notebook import tqdm\n",
    "\n",
    "# Armamos una calse con tqdm para poder ver el progreso de la búsqueda\n",
    "class tqdm_skopt(object):\n",
    "    def __init__(self, **kwargs):\n",
    "        self._bar = tqdm(**kwargs)\n",
    "    def __call__(self, res):\n",
    "        self._bar.update()\n",
    "        \n",
    "# Cantidad de iteraciones para la búsqueda (utilizar muchas, aqui usamos 50 solo por probar)\n",
    "cantidad_iteraciones = 50\n",
    "\n",
    "# Búsqueda\n",
    "res = gp_minimize(\n",
    "                    objective\n",
    "                    ,space\n",
    "                    ,n_calls = cantidad_iteraciones\n",
    "                    ,n_initial_points = int(round(cantidad_iteraciones*0.2)) # Cantidad de iteraciones iniciales random (20% es significativo, pero dando mucho espacio para que el algoritmo optimice)\n",
    "                    ,n_jobs=1\n",
    "                    ,random_state = 0\n",
    "                    ,verbose=1\n",
    "                    ,callback=[tqdm_skopt(total=cantidad_iteraciones, desc=\"Gaussian Process\")]\n",
    "                    )"
   ]
  },
  {
   "cell_type": "code",
   "execution_count": 201,
   "metadata": {
    "scrolled": true
   },
   "outputs": [
    {
     "data": {
      "text/plain": [
       "[5, 1500, 0.433562930233844, 0.7945937952095075, 0.05]"
      ]
     },
     "execution_count": 201,
     "metadata": {},
     "output_type": "execute_result"
    }
   ],
   "source": [
    "res.x"
   ]
  },
  {
   "cell_type": "code",
   "execution_count": 202,
   "metadata": {
    "scrolled": true
   },
   "outputs": [
    {
     "data": {
      "text/html": [
       "<div>\n",
       "<style scoped>\n",
       "    .dataframe tbody tr th:only-of-type {\n",
       "        vertical-align: middle;\n",
       "    }\n",
       "\n",
       "    .dataframe tbody tr th {\n",
       "        vertical-align: top;\n",
       "    }\n",
       "\n",
       "    .dataframe thead th {\n",
       "        text-align: right;\n",
       "    }\n",
       "</style>\n",
       "<table border=\"1\" class=\"dataframe\">\n",
       "  <thead>\n",
       "    <tr style=\"text-align: right;\">\n",
       "      <th></th>\n",
       "      <th>max_depth</th>\n",
       "      <th>n_estimators</th>\n",
       "      <th>learning_rate</th>\n",
       "      <th>colsample_bytree</th>\n",
       "      <th>colsample_bylevel</th>\n",
       "      <th>funcion_costo</th>\n",
       "      <th>numero_de_iteracion</th>\n",
       "      <th>score_train</th>\n",
       "      <th>score_test</th>\n",
       "      <th>dif_train_test</th>\n",
       "      <th>std_test</th>\n",
       "      <th>score_train_r2</th>\n",
       "      <th>score_test_r2</th>\n",
       "    </tr>\n",
       "  </thead>\n",
       "  <tbody>\n",
       "    <tr>\n",
       "      <th>33</th>\n",
       "      <td>5</td>\n",
       "      <td>1500</td>\n",
       "      <td>0.43</td>\n",
       "      <td>0.79</td>\n",
       "      <td>0.05</td>\n",
       "      <td>42184.27</td>\n",
       "      <td>33</td>\n",
       "      <td>30072.11</td>\n",
       "      <td>42184.27</td>\n",
       "      <td>12112.17</td>\n",
       "      <td>535.89</td>\n",
       "      <td>0.94</td>\n",
       "      <td>0.88</td>\n",
       "    </tr>\n",
       "    <tr>\n",
       "      <th>28</th>\n",
       "      <td>5</td>\n",
       "      <td>1500</td>\n",
       "      <td>0.43</td>\n",
       "      <td>0.80</td>\n",
       "      <td>0.05</td>\n",
       "      <td>42193.95</td>\n",
       "      <td>28</td>\n",
       "      <td>29952.48</td>\n",
       "      <td>42193.95</td>\n",
       "      <td>12241.46</td>\n",
       "      <td>515.36</td>\n",
       "      <td>0.94</td>\n",
       "      <td>0.88</td>\n",
       "    </tr>\n",
       "    <tr>\n",
       "      <th>32</th>\n",
       "      <td>5</td>\n",
       "      <td>1500</td>\n",
       "      <td>0.44</td>\n",
       "      <td>0.80</td>\n",
       "      <td>0.05</td>\n",
       "      <td>42247.09</td>\n",
       "      <td>32</td>\n",
       "      <td>29970.12</td>\n",
       "      <td>42247.09</td>\n",
       "      <td>12276.97</td>\n",
       "      <td>556.06</td>\n",
       "      <td>0.94</td>\n",
       "      <td>0.88</td>\n",
       "    </tr>\n",
       "    <tr>\n",
       "      <th>44</th>\n",
       "      <td>5</td>\n",
       "      <td>1500</td>\n",
       "      <td>0.44</td>\n",
       "      <td>0.80</td>\n",
       "      <td>0.05</td>\n",
       "      <td>42247.63</td>\n",
       "      <td>44</td>\n",
       "      <td>29950.81</td>\n",
       "      <td>42247.63</td>\n",
       "      <td>12296.82</td>\n",
       "      <td>698.57</td>\n",
       "      <td>0.94</td>\n",
       "      <td>0.88</td>\n",
       "    </tr>\n",
       "    <tr>\n",
       "      <th>20</th>\n",
       "      <td>5</td>\n",
       "      <td>1500</td>\n",
       "      <td>0.44</td>\n",
       "      <td>0.79</td>\n",
       "      <td>0.07</td>\n",
       "      <td>42265.04</td>\n",
       "      <td>20</td>\n",
       "      <td>29862.03</td>\n",
       "      <td>42265.04</td>\n",
       "      <td>12403.01</td>\n",
       "      <td>482.73</td>\n",
       "      <td>0.94</td>\n",
       "      <td>0.88</td>\n",
       "    </tr>\n",
       "    <tr>\n",
       "      <th>46</th>\n",
       "      <td>5</td>\n",
       "      <td>1500</td>\n",
       "      <td>0.44</td>\n",
       "      <td>0.79</td>\n",
       "      <td>0.05</td>\n",
       "      <td>42267.55</td>\n",
       "      <td>46</td>\n",
       "      <td>30079.69</td>\n",
       "      <td>42267.55</td>\n",
       "      <td>12187.86</td>\n",
       "      <td>603.30</td>\n",
       "      <td>0.94</td>\n",
       "      <td>0.88</td>\n",
       "    </tr>\n",
       "    <tr>\n",
       "      <th>39</th>\n",
       "      <td>5</td>\n",
       "      <td>1500</td>\n",
       "      <td>0.43</td>\n",
       "      <td>0.80</td>\n",
       "      <td>0.05</td>\n",
       "      <td>42277.83</td>\n",
       "      <td>39</td>\n",
       "      <td>30046.69</td>\n",
       "      <td>42277.83</td>\n",
       "      <td>12231.13</td>\n",
       "      <td>594.31</td>\n",
       "      <td>0.94</td>\n",
       "      <td>0.88</td>\n",
       "    </tr>\n",
       "    <tr>\n",
       "      <th>24</th>\n",
       "      <td>5</td>\n",
       "      <td>1500</td>\n",
       "      <td>0.43</td>\n",
       "      <td>0.80</td>\n",
       "      <td>0.05</td>\n",
       "      <td>42278.99</td>\n",
       "      <td>24</td>\n",
       "      <td>30035.39</td>\n",
       "      <td>42278.99</td>\n",
       "      <td>12243.60</td>\n",
       "      <td>474.55</td>\n",
       "      <td>0.94</td>\n",
       "      <td>0.88</td>\n",
       "    </tr>\n",
       "    <tr>\n",
       "      <th>35</th>\n",
       "      <td>5</td>\n",
       "      <td>1500</td>\n",
       "      <td>0.43</td>\n",
       "      <td>0.79</td>\n",
       "      <td>0.05</td>\n",
       "      <td>42286.40</td>\n",
       "      <td>35</td>\n",
       "      <td>29995.57</td>\n",
       "      <td>42286.40</td>\n",
       "      <td>12290.83</td>\n",
       "      <td>723.80</td>\n",
       "      <td>0.94</td>\n",
       "      <td>0.88</td>\n",
       "    </tr>\n",
       "    <tr>\n",
       "      <th>49</th>\n",
       "      <td>5</td>\n",
       "      <td>1500</td>\n",
       "      <td>0.44</td>\n",
       "      <td>0.80</td>\n",
       "      <td>0.05</td>\n",
       "      <td>42286.95</td>\n",
       "      <td>49</td>\n",
       "      <td>29879.08</td>\n",
       "      <td>42286.95</td>\n",
       "      <td>12407.87</td>\n",
       "      <td>483.62</td>\n",
       "      <td>0.94</td>\n",
       "      <td>0.88</td>\n",
       "    </tr>\n",
       "    <tr>\n",
       "      <th>30</th>\n",
       "      <td>5</td>\n",
       "      <td>1500</td>\n",
       "      <td>0.44</td>\n",
       "      <td>0.80</td>\n",
       "      <td>0.05</td>\n",
       "      <td>42291.20</td>\n",
       "      <td>30</td>\n",
       "      <td>29986.82</td>\n",
       "      <td>42291.20</td>\n",
       "      <td>12304.39</td>\n",
       "      <td>630.37</td>\n",
       "      <td>0.94</td>\n",
       "      <td>0.88</td>\n",
       "    </tr>\n",
       "    <tr>\n",
       "      <th>40</th>\n",
       "      <td>5</td>\n",
       "      <td>1500</td>\n",
       "      <td>0.43</td>\n",
       "      <td>0.79</td>\n",
       "      <td>0.05</td>\n",
       "      <td>42296.48</td>\n",
       "      <td>40</td>\n",
       "      <td>30016.79</td>\n",
       "      <td>42296.48</td>\n",
       "      <td>12279.69</td>\n",
       "      <td>434.58</td>\n",
       "      <td>0.94</td>\n",
       "      <td>0.88</td>\n",
       "    </tr>\n",
       "    <tr>\n",
       "      <th>23</th>\n",
       "      <td>5</td>\n",
       "      <td>1500</td>\n",
       "      <td>0.43</td>\n",
       "      <td>0.80</td>\n",
       "      <td>0.05</td>\n",
       "      <td>42305.73</td>\n",
       "      <td>23</td>\n",
       "      <td>29957.05</td>\n",
       "      <td>42305.73</td>\n",
       "      <td>12348.68</td>\n",
       "      <td>465.04</td>\n",
       "      <td>0.94</td>\n",
       "      <td>0.88</td>\n",
       "    </tr>\n",
       "    <tr>\n",
       "      <th>45</th>\n",
       "      <td>5</td>\n",
       "      <td>1500</td>\n",
       "      <td>0.44</td>\n",
       "      <td>0.79</td>\n",
       "      <td>0.05</td>\n",
       "      <td>42311.13</td>\n",
       "      <td>45</td>\n",
       "      <td>29982.65</td>\n",
       "      <td>42311.13</td>\n",
       "      <td>12328.49</td>\n",
       "      <td>595.46</td>\n",
       "      <td>0.94</td>\n",
       "      <td>0.88</td>\n",
       "    </tr>\n",
       "    <tr>\n",
       "      <th>27</th>\n",
       "      <td>5</td>\n",
       "      <td>1500</td>\n",
       "      <td>0.44</td>\n",
       "      <td>0.80</td>\n",
       "      <td>0.05</td>\n",
       "      <td>42323.83</td>\n",
       "      <td>27</td>\n",
       "      <td>29924.51</td>\n",
       "      <td>42323.83</td>\n",
       "      <td>12399.32</td>\n",
       "      <td>677.64</td>\n",
       "      <td>0.94</td>\n",
       "      <td>0.88</td>\n",
       "    </tr>\n",
       "    <tr>\n",
       "      <th>37</th>\n",
       "      <td>5</td>\n",
       "      <td>1500</td>\n",
       "      <td>0.43</td>\n",
       "      <td>0.80</td>\n",
       "      <td>0.05</td>\n",
       "      <td>42330.80</td>\n",
       "      <td>37</td>\n",
       "      <td>30026.04</td>\n",
       "      <td>42330.80</td>\n",
       "      <td>12304.76</td>\n",
       "      <td>645.85</td>\n",
       "      <td>0.94</td>\n",
       "      <td>0.88</td>\n",
       "    </tr>\n",
       "    <tr>\n",
       "      <th>29</th>\n",
       "      <td>5</td>\n",
       "      <td>1500</td>\n",
       "      <td>0.43</td>\n",
       "      <td>0.80</td>\n",
       "      <td>0.05</td>\n",
       "      <td>42337.65</td>\n",
       "      <td>29</td>\n",
       "      <td>30037.30</td>\n",
       "      <td>42337.65</td>\n",
       "      <td>12300.35</td>\n",
       "      <td>724.41</td>\n",
       "      <td>0.94</td>\n",
       "      <td>0.88</td>\n",
       "    </tr>\n",
       "    <tr>\n",
       "      <th>43</th>\n",
       "      <td>5</td>\n",
       "      <td>1500</td>\n",
       "      <td>0.44</td>\n",
       "      <td>0.80</td>\n",
       "      <td>0.05</td>\n",
       "      <td>42338.90</td>\n",
       "      <td>43</td>\n",
       "      <td>29971.71</td>\n",
       "      <td>42338.90</td>\n",
       "      <td>12367.19</td>\n",
       "      <td>689.58</td>\n",
       "      <td>0.94</td>\n",
       "      <td>0.88</td>\n",
       "    </tr>\n",
       "    <tr>\n",
       "      <th>47</th>\n",
       "      <td>5</td>\n",
       "      <td>1500</td>\n",
       "      <td>0.44</td>\n",
       "      <td>0.79</td>\n",
       "      <td>0.05</td>\n",
       "      <td>42341.22</td>\n",
       "      <td>47</td>\n",
       "      <td>30052.43</td>\n",
       "      <td>42341.22</td>\n",
       "      <td>12288.79</td>\n",
       "      <td>619.03</td>\n",
       "      <td>0.94</td>\n",
       "      <td>0.88</td>\n",
       "    </tr>\n",
       "    <tr>\n",
       "      <th>34</th>\n",
       "      <td>5</td>\n",
       "      <td>1500</td>\n",
       "      <td>0.43</td>\n",
       "      <td>0.79</td>\n",
       "      <td>0.05</td>\n",
       "      <td>42343.71</td>\n",
       "      <td>34</td>\n",
       "      <td>30123.20</td>\n",
       "      <td>42343.71</td>\n",
       "      <td>12220.51</td>\n",
       "      <td>548.59</td>\n",
       "      <td>0.94</td>\n",
       "      <td>0.88</td>\n",
       "    </tr>\n",
       "    <tr>\n",
       "      <th>41</th>\n",
       "      <td>5</td>\n",
       "      <td>1500</td>\n",
       "      <td>0.43</td>\n",
       "      <td>0.79</td>\n",
       "      <td>0.05</td>\n",
       "      <td>42352.54</td>\n",
       "      <td>41</td>\n",
       "      <td>29926.66</td>\n",
       "      <td>42352.54</td>\n",
       "      <td>12425.88</td>\n",
       "      <td>656.14</td>\n",
       "      <td>0.94</td>\n",
       "      <td>0.88</td>\n",
       "    </tr>\n",
       "    <tr>\n",
       "      <th>17</th>\n",
       "      <td>5</td>\n",
       "      <td>1500</td>\n",
       "      <td>0.49</td>\n",
       "      <td>0.79</td>\n",
       "      <td>0.07</td>\n",
       "      <td>42372.88</td>\n",
       "      <td>17</td>\n",
       "      <td>29191.95</td>\n",
       "      <td>42372.88</td>\n",
       "      <td>13180.93</td>\n",
       "      <td>394.83</td>\n",
       "      <td>0.94</td>\n",
       "      <td>0.88</td>\n",
       "    </tr>\n",
       "    <tr>\n",
       "      <th>42</th>\n",
       "      <td>5</td>\n",
       "      <td>1500</td>\n",
       "      <td>0.44</td>\n",
       "      <td>0.79</td>\n",
       "      <td>0.05</td>\n",
       "      <td>42382.91</td>\n",
       "      <td>42</td>\n",
       "      <td>29988.67</td>\n",
       "      <td>42382.91</td>\n",
       "      <td>12394.24</td>\n",
       "      <td>619.74</td>\n",
       "      <td>0.94</td>\n",
       "      <td>0.88</td>\n",
       "    </tr>\n",
       "    <tr>\n",
       "      <th>38</th>\n",
       "      <td>5</td>\n",
       "      <td>1500</td>\n",
       "      <td>0.43</td>\n",
       "      <td>0.80</td>\n",
       "      <td>0.05</td>\n",
       "      <td>42386.70</td>\n",
       "      <td>38</td>\n",
       "      <td>30025.31</td>\n",
       "      <td>42386.70</td>\n",
       "      <td>12361.39</td>\n",
       "      <td>650.56</td>\n",
       "      <td>0.94</td>\n",
       "      <td>0.88</td>\n",
       "    </tr>\n",
       "    <tr>\n",
       "      <th>36</th>\n",
       "      <td>5</td>\n",
       "      <td>1500</td>\n",
       "      <td>0.43</td>\n",
       "      <td>0.79</td>\n",
       "      <td>0.05</td>\n",
       "      <td>42393.65</td>\n",
       "      <td>36</td>\n",
       "      <td>30094.88</td>\n",
       "      <td>42393.65</td>\n",
       "      <td>12298.78</td>\n",
       "      <td>564.56</td>\n",
       "      <td>0.94</td>\n",
       "      <td>0.88</td>\n",
       "    </tr>\n",
       "    <tr>\n",
       "      <th>26</th>\n",
       "      <td>5</td>\n",
       "      <td>1500</td>\n",
       "      <td>0.43</td>\n",
       "      <td>0.79</td>\n",
       "      <td>0.05</td>\n",
       "      <td>42398.92</td>\n",
       "      <td>26</td>\n",
       "      <td>30095.76</td>\n",
       "      <td>42398.92</td>\n",
       "      <td>12303.15</td>\n",
       "      <td>582.37</td>\n",
       "      <td>0.94</td>\n",
       "      <td>0.88</td>\n",
       "    </tr>\n",
       "    <tr>\n",
       "      <th>31</th>\n",
       "      <td>5</td>\n",
       "      <td>1500</td>\n",
       "      <td>0.44</td>\n",
       "      <td>0.80</td>\n",
       "      <td>0.05</td>\n",
       "      <td>42399.48</td>\n",
       "      <td>31</td>\n",
       "      <td>30005.25</td>\n",
       "      <td>42399.48</td>\n",
       "      <td>12394.23</td>\n",
       "      <td>426.44</td>\n",
       "      <td>0.94</td>\n",
       "      <td>0.88</td>\n",
       "    </tr>\n",
       "    <tr>\n",
       "      <th>16</th>\n",
       "      <td>5</td>\n",
       "      <td>1500</td>\n",
       "      <td>0.48</td>\n",
       "      <td>0.79</td>\n",
       "      <td>0.07</td>\n",
       "      <td>42408.83</td>\n",
       "      <td>16</td>\n",
       "      <td>29402.83</td>\n",
       "      <td>42408.83</td>\n",
       "      <td>13006.00</td>\n",
       "      <td>541.18</td>\n",
       "      <td>0.94</td>\n",
       "      <td>0.88</td>\n",
       "    </tr>\n",
       "    <tr>\n",
       "      <th>25</th>\n",
       "      <td>5</td>\n",
       "      <td>1500</td>\n",
       "      <td>0.43</td>\n",
       "      <td>0.80</td>\n",
       "      <td>0.05</td>\n",
       "      <td>42420.20</td>\n",
       "      <td>25</td>\n",
       "      <td>30387.59</td>\n",
       "      <td>42420.20</td>\n",
       "      <td>12032.61</td>\n",
       "      <td>492.23</td>\n",
       "      <td>0.94</td>\n",
       "      <td>0.88</td>\n",
       "    </tr>\n",
       "    <tr>\n",
       "      <th>48</th>\n",
       "      <td>5</td>\n",
       "      <td>1500</td>\n",
       "      <td>0.44</td>\n",
       "      <td>0.79</td>\n",
       "      <td>0.05</td>\n",
       "      <td>42421.11</td>\n",
       "      <td>48</td>\n",
       "      <td>30067.61</td>\n",
       "      <td>42421.11</td>\n",
       "      <td>12353.50</td>\n",
       "      <td>704.79</td>\n",
       "      <td>0.94</td>\n",
       "      <td>0.88</td>\n",
       "    </tr>\n",
       "    <tr>\n",
       "      <th>15</th>\n",
       "      <td>5</td>\n",
       "      <td>1478</td>\n",
       "      <td>0.43</td>\n",
       "      <td>0.79</td>\n",
       "      <td>0.07</td>\n",
       "      <td>42427.94</td>\n",
       "      <td>15</td>\n",
       "      <td>30190.90</td>\n",
       "      <td>42427.94</td>\n",
       "      <td>12237.04</td>\n",
       "      <td>587.29</td>\n",
       "      <td>0.94</td>\n",
       "      <td>0.88</td>\n",
       "    </tr>\n",
       "    <tr>\n",
       "      <th>21</th>\n",
       "      <td>5</td>\n",
       "      <td>1500</td>\n",
       "      <td>0.41</td>\n",
       "      <td>0.79</td>\n",
       "      <td>0.10</td>\n",
       "      <td>42456.31</td>\n",
       "      <td>21</td>\n",
       "      <td>30424.46</td>\n",
       "      <td>42456.31</td>\n",
       "      <td>12031.85</td>\n",
       "      <td>665.02</td>\n",
       "      <td>0.94</td>\n",
       "      <td>0.88</td>\n",
       "    </tr>\n",
       "    <tr>\n",
       "      <th>19</th>\n",
       "      <td>5</td>\n",
       "      <td>1500</td>\n",
       "      <td>0.50</td>\n",
       "      <td>0.79</td>\n",
       "      <td>0.08</td>\n",
       "      <td>42466.12</td>\n",
       "      <td>19</td>\n",
       "      <td>29197.92</td>\n",
       "      <td>42466.12</td>\n",
       "      <td>13268.20</td>\n",
       "      <td>570.40</td>\n",
       "      <td>0.94</td>\n",
       "      <td>0.88</td>\n",
       "    </tr>\n",
       "    <tr>\n",
       "      <th>18</th>\n",
       "      <td>5</td>\n",
       "      <td>1500</td>\n",
       "      <td>0.50</td>\n",
       "      <td>0.78</td>\n",
       "      <td>0.08</td>\n",
       "      <td>42466.12</td>\n",
       "      <td>18</td>\n",
       "      <td>29197.92</td>\n",
       "      <td>42466.12</td>\n",
       "      <td>13268.20</td>\n",
       "      <td>570.40</td>\n",
       "      <td>0.94</td>\n",
       "      <td>0.88</td>\n",
       "    </tr>\n",
       "    <tr>\n",
       "      <th>22</th>\n",
       "      <td>5</td>\n",
       "      <td>1500</td>\n",
       "      <td>0.32</td>\n",
       "      <td>0.79</td>\n",
       "      <td>0.05</td>\n",
       "      <td>42498.37</td>\n",
       "      <td>22</td>\n",
       "      <td>31914.03</td>\n",
       "      <td>42498.37</td>\n",
       "      <td>10584.34</td>\n",
       "      <td>564.14</td>\n",
       "      <td>0.93</td>\n",
       "      <td>0.88</td>\n",
       "    </tr>\n",
       "    <tr>\n",
       "      <th>14</th>\n",
       "      <td>5</td>\n",
       "      <td>1386</td>\n",
       "      <td>0.39</td>\n",
       "      <td>0.80</td>\n",
       "      <td>0.08</td>\n",
       "      <td>42508.52</td>\n",
       "      <td>14</td>\n",
       "      <td>31384.85</td>\n",
       "      <td>42508.52</td>\n",
       "      <td>11123.67</td>\n",
       "      <td>689.71</td>\n",
       "      <td>0.93</td>\n",
       "      <td>0.88</td>\n",
       "    </tr>\n",
       "    <tr>\n",
       "      <th>12</th>\n",
       "      <td>5</td>\n",
       "      <td>1220</td>\n",
       "      <td>0.38</td>\n",
       "      <td>0.80</td>\n",
       "      <td>0.08</td>\n",
       "      <td>42715.10</td>\n",
       "      <td>12</td>\n",
       "      <td>32639.47</td>\n",
       "      <td>42715.10</td>\n",
       "      <td>10075.63</td>\n",
       "      <td>536.00</td>\n",
       "      <td>0.93</td>\n",
       "      <td>0.88</td>\n",
       "    </tr>\n",
       "    <tr>\n",
       "      <th>10</th>\n",
       "      <td>5</td>\n",
       "      <td>1251</td>\n",
       "      <td>0.36</td>\n",
       "      <td>0.80</td>\n",
       "      <td>0.08</td>\n",
       "      <td>42774.11</td>\n",
       "      <td>10</td>\n",
       "      <td>32735.56</td>\n",
       "      <td>42774.11</td>\n",
       "      <td>10038.54</td>\n",
       "      <td>547.18</td>\n",
       "      <td>0.93</td>\n",
       "      <td>0.88</td>\n",
       "    </tr>\n",
       "    <tr>\n",
       "      <th>13</th>\n",
       "      <td>5</td>\n",
       "      <td>1069</td>\n",
       "      <td>0.39</td>\n",
       "      <td>0.80</td>\n",
       "      <td>0.08</td>\n",
       "      <td>43123.27</td>\n",
       "      <td>13</td>\n",
       "      <td>33224.63</td>\n",
       "      <td>43123.27</td>\n",
       "      <td>9898.64</td>\n",
       "      <td>510.21</td>\n",
       "      <td>0.93</td>\n",
       "      <td>0.88</td>\n",
       "    </tr>\n",
       "    <tr>\n",
       "      <th>0</th>\n",
       "      <td>4</td>\n",
       "      <td>1274</td>\n",
       "      <td>0.43</td>\n",
       "      <td>0.85</td>\n",
       "      <td>0.08</td>\n",
       "      <td>44408.76</td>\n",
       "      <td>0</td>\n",
       "      <td>36951.74</td>\n",
       "      <td>44408.76</td>\n",
       "      <td>7457.02</td>\n",
       "      <td>564.57</td>\n",
       "      <td>0.91</td>\n",
       "      <td>0.87</td>\n",
       "    </tr>\n",
       "    <tr>\n",
       "      <th>2</th>\n",
       "      <td>5</td>\n",
       "      <td>746</td>\n",
       "      <td>0.20</td>\n",
       "      <td>0.84</td>\n",
       "      <td>0.07</td>\n",
       "      <td>44893.28</td>\n",
       "      <td>2</td>\n",
       "      <td>39798.44</td>\n",
       "      <td>44893.28</td>\n",
       "      <td>5094.83</td>\n",
       "      <td>592.59</td>\n",
       "      <td>0.90</td>\n",
       "      <td>0.87</td>\n",
       "    </tr>\n",
       "    <tr>\n",
       "      <th>4</th>\n",
       "      <td>4</td>\n",
       "      <td>1211</td>\n",
       "      <td>0.27</td>\n",
       "      <td>0.69</td>\n",
       "      <td>0.09</td>\n",
       "      <td>44980.84</td>\n",
       "      <td>4</td>\n",
       "      <td>39583.83</td>\n",
       "      <td>44980.84</td>\n",
       "      <td>5397.01</td>\n",
       "      <td>562.33</td>\n",
       "      <td>0.90</td>\n",
       "      <td>0.87</td>\n",
       "    </tr>\n",
       "    <tr>\n",
       "      <th>8</th>\n",
       "      <td>4</td>\n",
       "      <td>1358</td>\n",
       "      <td>0.06</td>\n",
       "      <td>0.97</td>\n",
       "      <td>0.08</td>\n",
       "      <td>48364.47</td>\n",
       "      <td>8</td>\n",
       "      <td>46283.68</td>\n",
       "      <td>48364.47</td>\n",
       "      <td>2080.80</td>\n",
       "      <td>460.79</td>\n",
       "      <td>0.86</td>\n",
       "      <td>0.85</td>\n",
       "    </tr>\n",
       "    <tr>\n",
       "      <th>9</th>\n",
       "      <td>3</td>\n",
       "      <td>569</td>\n",
       "      <td>0.38</td>\n",
       "      <td>0.63</td>\n",
       "      <td>0.07</td>\n",
       "      <td>48544.47</td>\n",
       "      <td>9</td>\n",
       "      <td>46361.52</td>\n",
       "      <td>48544.47</td>\n",
       "      <td>2182.95</td>\n",
       "      <td>451.67</td>\n",
       "      <td>0.86</td>\n",
       "      <td>0.84</td>\n",
       "    </tr>\n",
       "    <tr>\n",
       "      <th>11</th>\n",
       "      <td>6</td>\n",
       "      <td>1500</td>\n",
       "      <td>0.01</td>\n",
       "      <td>0.80</td>\n",
       "      <td>0.05</td>\n",
       "      <td>50089.83</td>\n",
       "      <td>11</td>\n",
       "      <td>48546.28</td>\n",
       "      <td>50089.83</td>\n",
       "      <td>1543.54</td>\n",
       "      <td>517.43</td>\n",
       "      <td>0.84</td>\n",
       "      <td>0.83</td>\n",
       "    </tr>\n",
       "    <tr>\n",
       "      <th>7</th>\n",
       "      <td>3</td>\n",
       "      <td>372</td>\n",
       "      <td>0.20</td>\n",
       "      <td>0.91</td>\n",
       "      <td>0.07</td>\n",
       "      <td>50948.95</td>\n",
       "      <td>7</td>\n",
       "      <td>49961.76</td>\n",
       "      <td>50948.95</td>\n",
       "      <td>987.20</td>\n",
       "      <td>510.13</td>\n",
       "      <td>0.84</td>\n",
       "      <td>0.83</td>\n",
       "    </tr>\n",
       "    <tr>\n",
       "      <th>1</th>\n",
       "      <td>4</td>\n",
       "      <td>481</td>\n",
       "      <td>0.04</td>\n",
       "      <td>0.31</td>\n",
       "      <td>0.07</td>\n",
       "      <td>53397.31</td>\n",
       "      <td>1</td>\n",
       "      <td>52732.88</td>\n",
       "      <td>53397.31</td>\n",
       "      <td>664.44</td>\n",
       "      <td>570.97</td>\n",
       "      <td>0.82</td>\n",
       "      <td>0.81</td>\n",
       "    </tr>\n",
       "    <tr>\n",
       "      <th>3</th>\n",
       "      <td>5</td>\n",
       "      <td>584</td>\n",
       "      <td>0.48</td>\n",
       "      <td>0.18</td>\n",
       "      <td>0.09</td>\n",
       "      <td>55989.11</td>\n",
       "      <td>3</td>\n",
       "      <td>51594.61</td>\n",
       "      <td>55989.11</td>\n",
       "      <td>4394.50</td>\n",
       "      <td>600.43</td>\n",
       "      <td>0.82</td>\n",
       "      <td>0.79</td>\n",
       "    </tr>\n",
       "    <tr>\n",
       "      <th>5</th>\n",
       "      <td>4</td>\n",
       "      <td>829</td>\n",
       "      <td>0.38</td>\n",
       "      <td>0.15</td>\n",
       "      <td>0.07</td>\n",
       "      <td>56532.05</td>\n",
       "      <td>5</td>\n",
       "      <td>53172.04</td>\n",
       "      <td>56532.05</td>\n",
       "      <td>3360.00</td>\n",
       "      <td>626.46</td>\n",
       "      <td>0.81</td>\n",
       "      <td>0.79</td>\n",
       "    </tr>\n",
       "    <tr>\n",
       "      <th>6</th>\n",
       "      <td>3</td>\n",
       "      <td>1119</td>\n",
       "      <td>0.12</td>\n",
       "      <td>0.18</td>\n",
       "      <td>0.07</td>\n",
       "      <td>59001.11</td>\n",
       "      <td>6</td>\n",
       "      <td>57808.43</td>\n",
       "      <td>59001.11</td>\n",
       "      <td>1192.68</td>\n",
       "      <td>570.60</td>\n",
       "      <td>0.78</td>\n",
       "      <td>0.77</td>\n",
       "    </tr>\n",
       "  </tbody>\n",
       "</table>\n",
       "</div>"
      ],
      "text/plain": [
       "    max_depth  n_estimators  learning_rate  colsample_bytree  \\\n",
       "33          5          1500           0.43              0.79   \n",
       "28          5          1500           0.43              0.80   \n",
       "32          5          1500           0.44              0.80   \n",
       "44          5          1500           0.44              0.80   \n",
       "20          5          1500           0.44              0.79   \n",
       "46          5          1500           0.44              0.79   \n",
       "39          5          1500           0.43              0.80   \n",
       "24          5          1500           0.43              0.80   \n",
       "35          5          1500           0.43              0.79   \n",
       "49          5          1500           0.44              0.80   \n",
       "30          5          1500           0.44              0.80   \n",
       "40          5          1500           0.43              0.79   \n",
       "23          5          1500           0.43              0.80   \n",
       "45          5          1500           0.44              0.79   \n",
       "27          5          1500           0.44              0.80   \n",
       "37          5          1500           0.43              0.80   \n",
       "29          5          1500           0.43              0.80   \n",
       "43          5          1500           0.44              0.80   \n",
       "47          5          1500           0.44              0.79   \n",
       "34          5          1500           0.43              0.79   \n",
       "41          5          1500           0.43              0.79   \n",
       "17          5          1500           0.49              0.79   \n",
       "42          5          1500           0.44              0.79   \n",
       "38          5          1500           0.43              0.80   \n",
       "36          5          1500           0.43              0.79   \n",
       "26          5          1500           0.43              0.79   \n",
       "31          5          1500           0.44              0.80   \n",
       "16          5          1500           0.48              0.79   \n",
       "25          5          1500           0.43              0.80   \n",
       "48          5          1500           0.44              0.79   \n",
       "15          5          1478           0.43              0.79   \n",
       "21          5          1500           0.41              0.79   \n",
       "19          5          1500           0.50              0.79   \n",
       "18          5          1500           0.50              0.78   \n",
       "22          5          1500           0.32              0.79   \n",
       "14          5          1386           0.39              0.80   \n",
       "12          5          1220           0.38              0.80   \n",
       "10          5          1251           0.36              0.80   \n",
       "13          5          1069           0.39              0.80   \n",
       "0           4          1274           0.43              0.85   \n",
       "2           5           746           0.20              0.84   \n",
       "4           4          1211           0.27              0.69   \n",
       "8           4          1358           0.06              0.97   \n",
       "9           3           569           0.38              0.63   \n",
       "11          6          1500           0.01              0.80   \n",
       "7           3           372           0.20              0.91   \n",
       "1           4           481           0.04              0.31   \n",
       "3           5           584           0.48              0.18   \n",
       "5           4           829           0.38              0.15   \n",
       "6           3          1119           0.12              0.18   \n",
       "\n",
       "    colsample_bylevel  funcion_costo  numero_de_iteracion  score_train  \\\n",
       "33               0.05       42184.27                   33     30072.11   \n",
       "28               0.05       42193.95                   28     29952.48   \n",
       "32               0.05       42247.09                   32     29970.12   \n",
       "44               0.05       42247.63                   44     29950.81   \n",
       "20               0.07       42265.04                   20     29862.03   \n",
       "46               0.05       42267.55                   46     30079.69   \n",
       "39               0.05       42277.83                   39     30046.69   \n",
       "24               0.05       42278.99                   24     30035.39   \n",
       "35               0.05       42286.40                   35     29995.57   \n",
       "49               0.05       42286.95                   49     29879.08   \n",
       "30               0.05       42291.20                   30     29986.82   \n",
       "40               0.05       42296.48                   40     30016.79   \n",
       "23               0.05       42305.73                   23     29957.05   \n",
       "45               0.05       42311.13                   45     29982.65   \n",
       "27               0.05       42323.83                   27     29924.51   \n",
       "37               0.05       42330.80                   37     30026.04   \n",
       "29               0.05       42337.65                   29     30037.30   \n",
       "43               0.05       42338.90                   43     29971.71   \n",
       "47               0.05       42341.22                   47     30052.43   \n",
       "34               0.05       42343.71                   34     30123.20   \n",
       "41               0.05       42352.54                   41     29926.66   \n",
       "17               0.07       42372.88                   17     29191.95   \n",
       "42               0.05       42382.91                   42     29988.67   \n",
       "38               0.05       42386.70                   38     30025.31   \n",
       "36               0.05       42393.65                   36     30094.88   \n",
       "26               0.05       42398.92                   26     30095.76   \n",
       "31               0.05       42399.48                   31     30005.25   \n",
       "16               0.07       42408.83                   16     29402.83   \n",
       "25               0.05       42420.20                   25     30387.59   \n",
       "48               0.05       42421.11                   48     30067.61   \n",
       "15               0.07       42427.94                   15     30190.90   \n",
       "21               0.10       42456.31                   21     30424.46   \n",
       "19               0.08       42466.12                   19     29197.92   \n",
       "18               0.08       42466.12                   18     29197.92   \n",
       "22               0.05       42498.37                   22     31914.03   \n",
       "14               0.08       42508.52                   14     31384.85   \n",
       "12               0.08       42715.10                   12     32639.47   \n",
       "10               0.08       42774.11                   10     32735.56   \n",
       "13               0.08       43123.27                   13     33224.63   \n",
       "0                0.08       44408.76                    0     36951.74   \n",
       "2                0.07       44893.28                    2     39798.44   \n",
       "4                0.09       44980.84                    4     39583.83   \n",
       "8                0.08       48364.47                    8     46283.68   \n",
       "9                0.07       48544.47                    9     46361.52   \n",
       "11               0.05       50089.83                   11     48546.28   \n",
       "7                0.07       50948.95                    7     49961.76   \n",
       "1                0.07       53397.31                    1     52732.88   \n",
       "3                0.09       55989.11                    3     51594.61   \n",
       "5                0.07       56532.05                    5     53172.04   \n",
       "6                0.07       59001.11                    6     57808.43   \n",
       "\n",
       "    score_test  dif_train_test  std_test  score_train_r2  score_test_r2  \n",
       "33    42184.27        12112.17    535.89            0.94           0.88  \n",
       "28    42193.95        12241.46    515.36            0.94           0.88  \n",
       "32    42247.09        12276.97    556.06            0.94           0.88  \n",
       "44    42247.63        12296.82    698.57            0.94           0.88  \n",
       "20    42265.04        12403.01    482.73            0.94           0.88  \n",
       "46    42267.55        12187.86    603.30            0.94           0.88  \n",
       "39    42277.83        12231.13    594.31            0.94           0.88  \n",
       "24    42278.99        12243.60    474.55            0.94           0.88  \n",
       "35    42286.40        12290.83    723.80            0.94           0.88  \n",
       "49    42286.95        12407.87    483.62            0.94           0.88  \n",
       "30    42291.20        12304.39    630.37            0.94           0.88  \n",
       "40    42296.48        12279.69    434.58            0.94           0.88  \n",
       "23    42305.73        12348.68    465.04            0.94           0.88  \n",
       "45    42311.13        12328.49    595.46            0.94           0.88  \n",
       "27    42323.83        12399.32    677.64            0.94           0.88  \n",
       "37    42330.80        12304.76    645.85            0.94           0.88  \n",
       "29    42337.65        12300.35    724.41            0.94           0.88  \n",
       "43    42338.90        12367.19    689.58            0.94           0.88  \n",
       "47    42341.22        12288.79    619.03            0.94           0.88  \n",
       "34    42343.71        12220.51    548.59            0.94           0.88  \n",
       "41    42352.54        12425.88    656.14            0.94           0.88  \n",
       "17    42372.88        13180.93    394.83            0.94           0.88  \n",
       "42    42382.91        12394.24    619.74            0.94           0.88  \n",
       "38    42386.70        12361.39    650.56            0.94           0.88  \n",
       "36    42393.65        12298.78    564.56            0.94           0.88  \n",
       "26    42398.92        12303.15    582.37            0.94           0.88  \n",
       "31    42399.48        12394.23    426.44            0.94           0.88  \n",
       "16    42408.83        13006.00    541.18            0.94           0.88  \n",
       "25    42420.20        12032.61    492.23            0.94           0.88  \n",
       "48    42421.11        12353.50    704.79            0.94           0.88  \n",
       "15    42427.94        12237.04    587.29            0.94           0.88  \n",
       "21    42456.31        12031.85    665.02            0.94           0.88  \n",
       "19    42466.12        13268.20    570.40            0.94           0.88  \n",
       "18    42466.12        13268.20    570.40            0.94           0.88  \n",
       "22    42498.37        10584.34    564.14            0.93           0.88  \n",
       "14    42508.52        11123.67    689.71            0.93           0.88  \n",
       "12    42715.10        10075.63    536.00            0.93           0.88  \n",
       "10    42774.11        10038.54    547.18            0.93           0.88  \n",
       "13    43123.27         9898.64    510.21            0.93           0.88  \n",
       "0     44408.76         7457.02    564.57            0.91           0.87  \n",
       "2     44893.28         5094.83    592.59            0.90           0.87  \n",
       "4     44980.84         5397.01    562.33            0.90           0.87  \n",
       "8     48364.47         2080.80    460.79            0.86           0.85  \n",
       "9     48544.47         2182.95    451.67            0.86           0.84  \n",
       "11    50089.83         1543.54    517.43            0.84           0.83  \n",
       "7     50948.95          987.20    510.13            0.84           0.83  \n",
       "1     53397.31          664.44    570.97            0.82           0.81  \n",
       "3     55989.11         4394.50    600.43            0.82           0.79  \n",
       "5     56532.05         3360.00    626.46            0.81           0.79  \n",
       "6     59001.11         1192.68    570.60            0.78           0.77  "
      ]
     },
     "execution_count": 202,
     "metadata": {},
     "output_type": "execute_result"
    }
   ],
   "source": [
    "df_vemos_que_paso = pd.DataFrame(res.x_iters)\n",
    "df_vemos_que_paso.columns = param_names\n",
    "df_vemos_que_paso['funcion_costo'] = res.func_vals\n",
    "df_vemos_que_paso['numero_de_iteracion'] = df_vemos_que_paso.reset_index()['index']\n",
    "df_vemos_que_paso['score_train'] = lista_train_scores_cv\n",
    "df_vemos_que_paso['score_test'] = lista_test_scores_cv\n",
    "df_vemos_que_paso['dif_train_test'] = df_vemos_que_paso['score_test'] - df_vemos_que_paso['score_train']\n",
    "df_vemos_que_paso['std_test'] = lista_test_std_cv\n",
    "df_vemos_que_paso['score_train_r2'] = lista_train_r2\n",
    "df_vemos_que_paso['score_test_r2'] = lista_test_r2\n",
    "df_vemos_que_paso.sort_values('funcion_costo', ascending=True, inplace=True)\n",
    "df_vemos_que_paso"
   ]
  },
  {
   "cell_type": "markdown",
   "metadata": {},
   "source": [
    "#### Luego de ver los resultados e hiperparametros de los modelos pasados realizo un XGBoost optimizando manualmente para maximizar R2 en Test con la menor distancia posible de R2 en Train."
   ]
  },
  {
   "cell_type": "code",
   "execution_count": 275,
   "metadata": {
    "scrolled": false
   },
   "outputs": [
    {
     "data": {
      "text/plain": [
       "XGBRegressor(base_score=0.5, booster='gbtree', colsample_bylevel=0.1,\n",
       "             colsample_bynode=1, colsample_bytree=0.64, gamma=0, gpu_id=-1,\n",
       "             importance_type='gain', interaction_constraints='',\n",
       "             learning_rate=0.1, max_delta_step=0, max_depth=7,\n",
       "             min_child_weight=1, missing=nan, monotone_constraints='()',\n",
       "             n_estimators=1200, n_jobs=4, num_parallel_tree=1, random_state=42,\n",
       "             reg_alpha=0, reg_lambda=1, scale_pos_weight=1, subsample=1,\n",
       "             tree_method='exact', validate_parameters=1, verbosity=None)"
      ]
     },
     "execution_count": 275,
     "metadata": {},
     "output_type": "execute_result"
    },
    {
     "name": "stdout",
     "output_type": "stream",
     "text": [
      "Modelo: XGBoost\n",
      "Raíz del error cuadrático medio en Train: 33962.13473820299\n",
      "Raíz del error cuadrático medio en Test: 40396.31659260141\n",
      "R2 en Train: 0.9238114566144203\n",
      "R2 Test: 0.8890470776855323\n"
     ]
    },
    {
     "data": {
      "text/plain": [
       "<Figure size 1008x360 with 0 Axes>"
      ]
     },
     "execution_count": 275,
     "metadata": {},
     "output_type": "execute_result"
    },
    {
     "data": {
      "text/plain": [
       "<AxesSubplot:>"
      ]
     },
     "execution_count": 275,
     "metadata": {},
     "output_type": "execute_result"
    },
    {
     "data": {
      "text/plain": [
       "Text(0.5, 1.0, 'Distribucion de los errores')"
      ]
     },
     "execution_count": 275,
     "metadata": {},
     "output_type": "execute_result"
    },
    {
     "data": {
      "text/plain": [
       "<AxesSubplot:title={'center':'Distribucion de los errores'}, xlabel='price'>"
      ]
     },
     "execution_count": 275,
     "metadata": {},
     "output_type": "execute_result"
    },
    {
     "data": {
      "text/plain": [
       "<AxesSubplot:title={'center':'Distribucion de los errores'}, xlabel='price'>"
      ]
     },
     "execution_count": 275,
     "metadata": {},
     "output_type": "execute_result"
    },
    {
     "data": {
      "text/plain": [
       "Text(0.5, 0, 'errores')"
      ]
     },
     "execution_count": 275,
     "metadata": {},
     "output_type": "execute_result"
    },
    {
     "data": {
      "text/plain": [
       "<matplotlib.legend.Legend at 0x6dbaa4e20>"
      ]
     },
     "execution_count": 275,
     "metadata": {},
     "output_type": "execute_result"
    },
    {
     "data": {
      "text/plain": [
       "Text(0.5, 1.0, 'Y_predichos vs Y_reales')"
      ]
     },
     "execution_count": 275,
     "metadata": {},
     "output_type": "execute_result"
    },
    {
     "data": {
      "text/plain": [
       "<matplotlib.collections.PathCollection at 0x6db3db130>"
      ]
     },
     "execution_count": 275,
     "metadata": {},
     "output_type": "execute_result"
    },
    {
     "data": {
      "text/plain": [
       "[<matplotlib.lines.Line2D at 0x6dbc085e0>]"
      ]
     },
     "execution_count": 275,
     "metadata": {},
     "output_type": "execute_result"
    },
    {
     "data": {
      "text/plain": [
       "Text(0.5, 0, 'y (test)')"
      ]
     },
     "execution_count": 275,
     "metadata": {},
     "output_type": "execute_result"
    },
    {
     "data": {
      "text/plain": [
       "Text(0, 0.5, 'y_pred (test)')"
      ]
     },
     "execution_count": 275,
     "metadata": {},
     "output_type": "execute_result"
    },
    {
     "data": {
      "image/png": "[encoded data removed]",
      "text/plain": [
       "<Figure size 1008x360 with 2 Axes>"
      ]
     },
     "metadata": {
      "needs_background": "light"
     },
     "output_type": "display_data"
    }
   ],
   "source": [
    "\n",
    "# Entreno el modelo XGBoost con optimizacion manual\n",
    "xgb_man_opt = xgb.XGBRegressor(n_estimators=1200, max_depth=7, learning_rate=0.1, colsample_bytree=0.64, reg_lambda=1, colsample_bylevel=0.1, random_state=42)\n",
    "xgb_man_opt.fit(X_train_transformado, y_train)\n",
    "\n",
    "# Predecimos sobre nuestro set\n",
    "y_train_pred_xgb_man_opt = xgb_man_opt.predict(X_train_transformado)\n",
    "y_test_pred_xgb_man_opt = xgb_man_opt.predict(X_test_transformado)\n",
    "\n",
    "# Buscamos RMSE y R2\n",
    "rmse_xgb_man_opt_train = np.sqrt(mean_squared_error(y_train, y_train_pred_xgb_man_opt))\n",
    "rmse_xgb_man_opt_test = np.sqrt(mean_squared_error(y_test, y_test_pred_xgb_man_opt))\n",
    "r2_xgb_man_opt_train= r2_score(y_train, y_train_pred_xgb_man_opt)\n",
    "r2_xgb_man_opt_test = r2_score(y_test, y_test_pred_xgb_man_opt)\n",
    "\n",
    "# Imprimo resultados\n",
    "print('Modelo: XGBoost')\n",
    "print(f'Raíz del error cuadrático medio en Train: {rmse_xgb_gp_opt_train}')\n",
    "print(f'Raíz del error cuadrático medio en Test: {rmse_xgb_gp_opt_test}')\n",
    "print(f'R2 en Train: {r2_xgb_gp_opt_train}')\n",
    "print(f'R2 Test: {r2_xgb_gp_opt_test}')\n",
    "\n",
    "# Graficamos los errores\n",
    "plt.figure(figsize = (14,5))\n",
    "\n",
    "plt.subplot(1,2,1)\n",
    "plt.title('Distribucion de los errores')\n",
    "sns.distplot(y_train - y_train_pred_xgb_man_opt, bins = 20, label = 'train')\n",
    "sns.distplot(y_test - y_test_pred_xgb_man_opt, bins = 20, label = 'test')\n",
    "plt.xlabel('errores')\n",
    "plt.legend()\n",
    "\n",
    "ax = plt.subplot(1,2,2)\n",
    "plt.title('Y_predichos vs Y_reales')\n",
    "ax.scatter(y_test,y_test_pred_xgb_rgrid, s =2)\n",
    "    \n",
    "lims = [\n",
    "    np.min([ax.get_xlim(), ax.get_ylim()]),  # min of both axes\n",
    "    np.max([ax.get_xlim(), ax.get_ylim()]),  # max of both axes]\n",
    "    ]\n",
    "    \n",
    "ax.plot(lims, lims, 'k-', alpha=0.75, zorder=0)\n",
    "plt.xlabel('y (test)')\n",
    "plt.ylabel('y_pred (test)')\n",
    "    \n",
    "plt.tight_layout()\n",
    "plt.show()"
   ]
  },
  {
   "cell_type": "code",
   "execution_count": 291,
   "metadata": {},
   "outputs": [],
   "source": [
    "import shap"
   ]
  },
  {
   "cell_type": "code",
   "execution_count": 292,
   "metadata": {},
   "outputs": [
    {
     "data": {
      "image/png": "[encoded data removed]",
      "text/plain": [
       "<Figure size 576x396 with 1 Axes>"
      ]
     },
     "metadata": {
      "needs_background": "light"
     },
     "output_type": "display_data"
    }
   ],
   "source": [
    "# Utilizamos el explicador de SHAP\n",
    "shap_values = shap.TreeExplainer(xgb_man_opt).shap_values(X_train_transformado)\n",
    "shap.summary_plot(shap_values, X_train_transformado, plot_type=\"bar\")"
   ]
  },
  {
   "cell_type": "markdown",
   "metadata": {},
   "source": [
    "## Comparacion de modelos"
   ]
  },
  {
   "cell_type": "code",
   "execution_count": 278,
   "metadata": {
    "scrolled": false
   },
   "outputs": [
    {
     "data": {
      "text/html": [
       "<div>\n",
       "<style scoped>\n",
       "    .dataframe tbody tr th:only-of-type {\n",
       "        vertical-align: middle;\n",
       "    }\n",
       "\n",
       "    .dataframe tbody tr th {\n",
       "        vertical-align: top;\n",
       "    }\n",
       "\n",
       "    .dataframe thead th {\n",
       "        text-align: right;\n",
       "    }\n",
       "</style>\n",
       "<table border=\"1\" class=\"dataframe\">\n",
       "  <thead>\n",
       "    <tr style=\"text-align: right;\">\n",
       "      <th></th>\n",
       "      <th>R2_train</th>\n",
       "      <th>R2_test</th>\n",
       "      <th>RMSE_Train</th>\n",
       "      <th>RMSE_Test</th>\n",
       "    </tr>\n",
       "  </thead>\n",
       "  <tbody>\n",
       "    <tr>\n",
       "      <th>Decision_Tree_Sprint_1</th>\n",
       "      <td>0.69</td>\n",
       "      <td>0.65</td>\n",
       "      <td>46148</td>\n",
       "      <td>48994</td>\n",
       "    </tr>\n",
       "    <tr>\n",
       "      <th>Decision_tree_Sprint_2</th>\n",
       "      <td>0.85</td>\n",
       "      <td>0.82</td>\n",
       "      <td>47086</td>\n",
       "      <td>51552</td>\n",
       "    </tr>\n",
       "    <tr>\n",
       "      <th>Random_Forest</th>\n",
       "      <td>0.98</td>\n",
       "      <td>0.91</td>\n",
       "      <td>15193</td>\n",
       "      <td>36696</td>\n",
       "    </tr>\n",
       "    <tr>\n",
       "      <th>Random_Forest_RndmSearch_opt</th>\n",
       "      <td>0.98</td>\n",
       "      <td>0.91</td>\n",
       "      <td>14908</td>\n",
       "      <td>36534</td>\n",
       "    </tr>\n",
       "    <tr>\n",
       "      <th>XGBoost</th>\n",
       "      <td>0.91</td>\n",
       "      <td>0.88</td>\n",
       "      <td>36492</td>\n",
       "      <td>41973</td>\n",
       "    </tr>\n",
       "    <tr>\n",
       "      <th>XGBoost_RandmSearch_opt</th>\n",
       "      <td>0.97</td>\n",
       "      <td>0.91</td>\n",
       "      <td>20069</td>\n",
       "      <td>35686</td>\n",
       "    </tr>\n",
       "    <tr>\n",
       "      <th>XGBoost_GpMinimize_opt</th>\n",
       "      <td>0.94</td>\n",
       "      <td>0.88</td>\n",
       "      <td>30072</td>\n",
       "      <td>42184</td>\n",
       "    </tr>\n",
       "    <tr>\n",
       "      <th>XGBoost_Manual_opt</th>\n",
       "      <td>0.92</td>\n",
       "      <td>0.89</td>\n",
       "      <td>33962</td>\n",
       "      <td>40396</td>\n",
       "    </tr>\n",
       "  </tbody>\n",
       "</table>\n",
       "</div>"
      ],
      "text/plain": [
       "                             R2_train R2_test RMSE_Train RMSE_Test\n",
       "Decision_Tree_Sprint_1           0.69    0.65      46148     48994\n",
       "Decision_tree_Sprint_2           0.85    0.82      47086     51552\n",
       "Random_Forest                    0.98    0.91      15193     36696\n",
       "Random_Forest_RndmSearch_opt     0.98    0.91      14908     36534\n",
       "XGBoost                          0.91    0.88      36492     41973\n",
       "XGBoost_RandmSearch_opt          0.97    0.91      20069     35686\n",
       "XGBoost_GpMinimize_opt           0.94    0.88      30072     42184\n",
       "XGBoost_Manual_opt               0.92    0.89      33962     40396"
      ]
     },
     "execution_count": 278,
     "metadata": {},
     "output_type": "execute_result"
    }
   ],
   "source": [
    "resultados = pd.DataFrame([[0.69,0.65,46148,48994],['0.85','0.82','47086','51552'],['0.98','0.91','15193','36696'],['0.98','0.91','14908','36534'],\n",
    "                          ['0.91','0.88','36492','41973'],['0.97','0.91','20069','35686'],['0.94','0.88','30072','42184'],['0.92','0.89','33962','40396']], \n",
    "                            columns=['R2_train','R2_test','RMSE_Train','RMSE_Test']\n",
    "                            ,index=['Decision_Tree_Sprint_1','Decision_tree_Sprint_2','Random_Forest','Random_Forest_RndmSearch_opt'\n",
    "                            ,'XGBoost','XGBoost_RandmSearch_opt','XGBoost_GpMinimize_opt','XGBoost_Manual_opt'])\n",
    "resultados"
   ]
  },
  {
   "cell_type": "markdown",
   "metadata": {},
   "source": [
    "#### Luego de entrenar y testear todos los modelos se pueden realizar algunas afirmaciones:\n",
    "1. El arbol de decision del Sprint 2 mejora las metricas sensiblemente (R2 26% mejor) respecto del arbol de decision del Sprint \n",
    "2. Los modelos avanzados performan mucho mejor que los arboles de decision clasicos:\n",
    "\n",
    "#### En los modelos avanzados hay una clara diferencia sobre cual es el mejor:\n",
    "1. Si bien el Random Forest obtiene los mejores R2 en Train y Test, y los menores errores cuadraticos medios; tiende a hacer 'Overfitting', es decir, ajustarse a los datos de entrenamiento demasiado bien, para luego, cuando lleguen los datos de testeo, no performar de la mejor manera. La diferencia que se aprecia entre el R2 en Train y Test en ambos modelos (RF con hiperparametros por defectos y RF optimizado) es de 0.07 puntos; y la diferencia entre el RMSE de Train y Test es de USD21.500.- aproximadamente en ambos modelos.\n",
    "    \n",
    "2. En XGBoost probe diferentes optimizaciones hasta lograr, optimizando manualmente luego de ver los valores de las optimizaciones hechas, poder maximizar el R2 en Test minimizando su distancia con el R2 de Train. Asi, logre obtener un modelo (Xgb_manual_opt) con un RMSE en Train de USD33.963 y en Test de USD40.396 (solo USD6.434 de diferencia) y con un R2 en Train de 0.92 y en Test de 0.89 (solo 0.02 puntos inferior al modelo con mejor Score en Test: 0.91) pero mucho mas estable con ingresos de datos nuevos.\n",
    "3. Para el modelo elegido, visualice las importancias de las variables con la libreria SHAP y se puede ver que las 3 variables que mas explican el precio son la superficie cubierta y total, y el barrio al cual pertence la propiedad, lo cual tiene todo el sentido ya que cuanto mas grande sea la propiedad y mas caro sea el precio por m2 en el barrio en el cual se encuentra la propiedad mas alto sera su precio final."
   ]
  },
  {
   "cell_type": "markdown",
   "metadata": {},
   "source": [
    "### Analisis de errores de 'Y' predichas por barrio"
   ]
  },
  {
   "cell_type": "code",
   "execution_count": 293,
   "metadata": {},
   "outputs": [],
   "source": [
    "# Resto error de conjunto test (precios reales de propiedades) menos el conjunto predicho en test del RF sin opt\n",
    "y_error = y_test - y_test_pred_xgb_man_opt"
   ]
  },
  {
   "cell_type": "code",
   "execution_count": 324,
   "metadata": {},
   "outputs": [],
   "source": [
    "# Transformo en Dataframe\n",
    "y_error = pd.DataFrame(y_error)"
   ]
  },
  {
   "cell_type": "code",
   "execution_count": 326,
   "metadata": {
    "scrolled": false
   },
   "outputs": [
    {
     "data": {
      "text/html": [
       "<div>\n",
       "<style scoped>\n",
       "    .dataframe tbody tr th:only-of-type {\n",
       "        vertical-align: middle;\n",
       "    }\n",
       "\n",
       "    .dataframe tbody tr th {\n",
       "        vertical-align: top;\n",
       "    }\n",
       "\n",
       "    .dataframe thead th {\n",
       "        text-align: right;\n",
       "    }\n",
       "</style>\n",
       "<table border=\"1\" class=\"dataframe\">\n",
       "  <thead>\n",
       "    <tr style=\"text-align: right;\">\n",
       "      <th></th>\n",
       "      <th>price_error</th>\n",
       "    </tr>\n",
       "  </thead>\n",
       "  <tbody>\n",
       "    <tr>\n",
       "      <th>29571</th>\n",
       "      <td>17566.70</td>\n",
       "    </tr>\n",
       "    <tr>\n",
       "      <th>47444</th>\n",
       "      <td>-64756.75</td>\n",
       "    </tr>\n",
       "    <tr>\n",
       "      <th>67460</th>\n",
       "      <td>-529.86</td>\n",
       "    </tr>\n",
       "    <tr>\n",
       "      <th>109970</th>\n",
       "      <td>-22029.31</td>\n",
       "    </tr>\n",
       "    <tr>\n",
       "      <th>71160</th>\n",
       "      <td>24642.75</td>\n",
       "    </tr>\n",
       "  </tbody>\n",
       "</table>\n",
       "</div>"
      ],
      "text/plain": [
       "        price_error\n",
       "29571      17566.70\n",
       "47444     -64756.75\n",
       "67460       -529.86\n",
       "109970    -22029.31\n",
       "71160      24642.75"
      ]
     },
     "execution_count": 326,
     "metadata": {},
     "output_type": "execute_result"
    }
   ],
   "source": [
    "y_error.head()"
   ]
  },
  {
   "cell_type": "code",
   "execution_count": 296,
   "metadata": {},
   "outputs": [],
   "source": [
    "# Renombro la columna para que tenga nombre diferente del conjunto original\n",
    "y_error = y_error.rename(columns={'price':'price_error'})\n"
   ]
  },
  {
   "cell_type": "code",
   "execution_count": 297,
   "metadata": {},
   "outputs": [
    {
     "data": {
      "text/plain": [
       "(26086, 11)"
      ]
     },
     "execution_count": 297,
     "metadata": {},
     "output_type": "execute_result"
    }
   ],
   "source": [
    "# Concateno el conjunto X_test_transformados (sin missings, encodeados y con outliers capeados) con los y_test (precios originales)\n",
    "conjunto_test = pd.concat([X_test_transformado, y_test], axis=1)\n",
    "conjunto_test.shape"
   ]
  },
  {
   "cell_type": "code",
   "execution_count": 298,
   "metadata": {},
   "outputs": [
    {
     "data": {
      "text/plain": [
       "(26086, 12)"
      ]
     },
     "execution_count": 298,
     "metadata": {},
     "output_type": "execute_result"
    }
   ],
   "source": [
    "# Concateno el conjunto test con el error de los Y\n",
    "conjunto_test = pd.concat([conjunto_test, y_error], axis=1)\n",
    "conjunto_test.shape\n"
   ]
  },
  {
   "cell_type": "code",
   "execution_count": 299,
   "metadata": {
    "scrolled": true
   },
   "outputs": [
    {
     "data": {
      "text/html": [
       "<div>\n",
       "<style scoped>\n",
       "    .dataframe tbody tr th:only-of-type {\n",
       "        vertical-align: middle;\n",
       "    }\n",
       "\n",
       "    .dataframe tbody tr th {\n",
       "        vertical-align: top;\n",
       "    }\n",
       "\n",
       "    .dataframe thead th {\n",
       "        text-align: right;\n",
       "    }\n",
       "</style>\n",
       "<table border=\"1\" class=\"dataframe\">\n",
       "  <thead>\n",
       "    <tr style=\"text-align: right;\">\n",
       "      <th></th>\n",
       "      <th>lat</th>\n",
       "      <th>lon</th>\n",
       "      <th>l2</th>\n",
       "      <th>l3</th>\n",
       "      <th>rooms</th>\n",
       "      <th>bedrooms</th>\n",
       "      <th>bathrooms</th>\n",
       "      <th>surface_total</th>\n",
       "      <th>surface_covered</th>\n",
       "      <th>property_type</th>\n",
       "      <th>price</th>\n",
       "      <th>price_error</th>\n",
       "    </tr>\n",
       "  </thead>\n",
       "  <tbody>\n",
       "    <tr>\n",
       "      <th>29571</th>\n",
       "      <td>-34.60</td>\n",
       "      <td>-58.43</td>\n",
       "      <td>206720.68</td>\n",
       "      <td>178763.57</td>\n",
       "      <td>3.00</td>\n",
       "      <td>2.00</td>\n",
       "      <td>2.00</td>\n",
       "      <td>68.00</td>\n",
       "      <td>60.00</td>\n",
       "      <td>201422.91</td>\n",
       "      <td>235000.00</td>\n",
       "      <td>17566.70</td>\n",
       "    </tr>\n",
       "    <tr>\n",
       "      <th>47444</th>\n",
       "      <td>-34.62</td>\n",
       "      <td>-58.43</td>\n",
       "      <td>206720.68</td>\n",
       "      <td>207948.86</td>\n",
       "      <td>3.00</td>\n",
       "      <td>2.00</td>\n",
       "      <td>2.00</td>\n",
       "      <td>109.00</td>\n",
       "      <td>109.00</td>\n",
       "      <td>201422.91</td>\n",
       "      <td>230000.00</td>\n",
       "      <td>-64756.75</td>\n",
       "    </tr>\n",
       "    <tr>\n",
       "      <th>67460</th>\n",
       "      <td>-34.59</td>\n",
       "      <td>-58.43</td>\n",
       "      <td>206720.68</td>\n",
       "      <td>245562.34</td>\n",
       "      <td>3.00</td>\n",
       "      <td>2.00</td>\n",
       "      <td>1.00</td>\n",
       "      <td>63.00</td>\n",
       "      <td>55.00</td>\n",
       "      <td>201422.91</td>\n",
       "      <td>165000.00</td>\n",
       "      <td>-529.86</td>\n",
       "    </tr>\n",
       "    <tr>\n",
       "      <th>109970</th>\n",
       "      <td>-34.60</td>\n",
       "      <td>-58.42</td>\n",
       "      <td>206720.68</td>\n",
       "      <td>245562.34</td>\n",
       "      <td>2.00</td>\n",
       "      <td>1.00</td>\n",
       "      <td>1.00</td>\n",
       "      <td>48.00</td>\n",
       "      <td>45.00</td>\n",
       "      <td>201422.91</td>\n",
       "      <td>130000.00</td>\n",
       "      <td>-22029.31</td>\n",
       "    </tr>\n",
       "    <tr>\n",
       "      <th>71160</th>\n",
       "      <td>-34.56</td>\n",
       "      <td>-58.44</td>\n",
       "      <td>206720.68</td>\n",
       "      <td>278961.10</td>\n",
       "      <td>3.00</td>\n",
       "      <td>2.00</td>\n",
       "      <td>2.00</td>\n",
       "      <td>80.00</td>\n",
       "      <td>80.00</td>\n",
       "      <td>201422.91</td>\n",
       "      <td>335000.00</td>\n",
       "      <td>24642.75</td>\n",
       "    </tr>\n",
       "  </tbody>\n",
       "</table>\n",
       "</div>"
      ],
      "text/plain": [
       "          lat    lon        l2        l3  rooms  bedrooms  bathrooms  \\\n",
       "29571  -34.60 -58.43 206720.68 178763.57   3.00      2.00       2.00   \n",
       "47444  -34.62 -58.43 206720.68 207948.86   3.00      2.00       2.00   \n",
       "67460  -34.59 -58.43 206720.68 245562.34   3.00      2.00       1.00   \n",
       "109970 -34.60 -58.42 206720.68 245562.34   2.00      1.00       1.00   \n",
       "71160  -34.56 -58.44 206720.68 278961.10   3.00      2.00       2.00   \n",
       "\n",
       "        surface_total  surface_covered  property_type     price  price_error  \n",
       "29571           68.00            60.00      201422.91 235000.00     17566.70  \n",
       "47444          109.00           109.00      201422.91 230000.00    -64756.75  \n",
       "67460           63.00            55.00      201422.91 165000.00      -529.86  \n",
       "109970          48.00            45.00      201422.91 130000.00    -22029.31  \n",
       "71160           80.00            80.00      201422.91 335000.00     24642.75  "
      ]
     },
     "execution_count": 299,
     "metadata": {},
     "output_type": "execute_result"
    }
   ],
   "source": [
    "conjunto_test.head()"
   ]
  },
  {
   "cell_type": "code",
   "execution_count": 300,
   "metadata": {},
   "outputs": [],
   "source": [
    "# Calculo el promedio y la cantaidad de errores filtrando por barrio\n",
    "error_barrio = conjunto_test.groupby('l3').agg({'price_error' : ['mean','count']})"
   ]
  },
  {
   "cell_type": "code",
   "execution_count": 301,
   "metadata": {},
   "outputs": [],
   "source": [
    "# Convierto a DataFrame error_barrio\n",
    "error_barrio = pd.DataFrame(error_barrio)"
   ]
  },
  {
   "cell_type": "code",
   "execution_count": 302,
   "metadata": {},
   "outputs": [],
   "source": [
    "# Calculo el promedio y la cantidad de errores filtrando por tipo de propiedad\n",
    "error_tipo_propiedad = conjunto_test.groupby('property_type').agg({'price_error' : ['mean','count']})"
   ]
  },
  {
   "cell_type": "code",
   "execution_count": 303,
   "metadata": {},
   "outputs": [],
   "source": [
    "# Convierto a DataFrame error_tipo_propiedad\n",
    "error_tipo_propiedad = pd.DataFrame(error_tipo_propiedad)"
   ]
  },
  {
   "cell_type": "code",
   "execution_count": 304,
   "metadata": {
    "scrolled": false
   },
   "outputs": [
    {
     "data": {
      "text/plain": [
       "{'l2': {'Capital Federal': 206720.67594920073},\n",
       " 'l3': {'Abasto': 173169.23262839878,\n",
       "  'Agronomía': 181934.98979591837,\n",
       "  'Almagro': 178763.5663448798,\n",
       "  'Balvanera': 141387.1580756014,\n",
       "  'Barracas': 205756.0036900369,\n",
       "  'Barrio Norte': 254037.2793907663,\n",
       "  'Belgrano': 278961.10351244477,\n",
       "  'Boca': 116125.1287553648,\n",
       "  'Boedo': 154568.61868300152,\n",
       "  'Caballito': 207948.85883668903,\n",
       "  'Catalinas': 206666.66666666666,\n",
       "  'Centro / Microcentro': 146852.1857142857,\n",
       "  'Chacarita': 174300.25800376647,\n",
       "  'Coghlan': 211303.47073170732,\n",
       "  'Colegiales': 206281.33603603602,\n",
       "  'Congreso': 145327.34115138592,\n",
       "  'Constitución': 102401.33633633633,\n",
       "  'Flores': 177270.09249858995,\n",
       "  'Floresta': 153322.5244648318,\n",
       "  'Las Cañitas': 334886.55531914893,\n",
       "  'Liniers': 160613.80359612725,\n",
       "  'Mataderos': 173356.24807692308,\n",
       "  'Monserrat': 139942.24329159214,\n",
       "  'Monte Castro': 147694.9840909091,\n",
       "  'Nuñez': 248956.24747081712,\n",
       "  'Once': 148242.36170212767,\n",
       "  'Palermo': 245562.3422720624,\n",
       "  'Parque Avellaneda': 158164.88095238095,\n",
       "  'Parque Centenario': 200249.4676724138,\n",
       "  'Parque Chacabuco': 163638.47627118643,\n",
       "  'Parque Chas': 174981.0606060606,\n",
       "  'Parque Patricios': 148321.61095100865,\n",
       "  'Paternal': 156903.22506738544,\n",
       "  'Pompeya': 152699.61538461538,\n",
       "  'Puerto Madero': 447815.86917562725,\n",
       "  'Recoleta': 292176.0846473029,\n",
       "  'Retiro': 253340.73946360152,\n",
       "  'Saavedra': 187424.1627296588,\n",
       "  'San Cristobal': 120042.07439613527,\n",
       "  'San Nicolás': 134475.06196213426,\n",
       "  'San Telmo': 164414.41739130433,\n",
       "  'Tribunales': 141186.55462184874,\n",
       "  'Velez Sarsfield': 160572.73484848486,\n",
       "  'Versalles': 201031.6976744186,\n",
       "  'Villa Crespo': 163540.33636969564,\n",
       "  'Villa Devoto': 224361.828125,\n",
       "  'Villa General Mitre': 154475.6386861314,\n",
       "  'Villa Lugano': 126349.28611898018,\n",
       "  'Villa Luro': 153874.71212121213,\n",
       "  'Villa Ortuzar': 186777.88888888888,\n",
       "  'Villa Pueyrredón': 181455.8669201521,\n",
       "  'Villa Real': 152446.875,\n",
       "  'Villa Riachuelo': 166519.96,\n",
       "  'Villa Santa Rita': 160283.57723577236,\n",
       "  'Villa Soldati': 119491.11111111111,\n",
       "  'Villa Urquiza': 200651.380017452,\n",
       "  'Villa del Parque': 180914.52891692956},\n",
       " 'property_type': {'Casa': 331379.07839616993,\n",
       "  'Departamento': 201422.90723519638,\n",
       "  'PH': 216847.32884136518}}"
      ]
     },
     "execution_count": 304,
     "metadata": {},
     "output_type": "execute_result"
    }
   ],
   "source": [
    "# Chequeo los categoricos encodeados \n",
    "pipe['mean_encoder'].encoder_dict_"
   ]
  },
  {
   "cell_type": "code",
   "execution_count": 305,
   "metadata": {
    "scrolled": false
   },
   "outputs": [],
   "source": [
    "# Renombro las columnas\n",
    "error_barrio.columns = ['mean','count']"
   ]
  },
  {
   "cell_type": "code",
   "execution_count": 314,
   "metadata": {},
   "outputs": [
    {
     "data": {
      "text/html": [
       "<div>\n",
       "<style scoped>\n",
       "    .dataframe tbody tr th:only-of-type {\n",
       "        vertical-align: middle;\n",
       "    }\n",
       "\n",
       "    .dataframe tbody tr th {\n",
       "        vertical-align: top;\n",
       "    }\n",
       "\n",
       "    .dataframe thead th {\n",
       "        text-align: right;\n",
       "    }\n",
       "</style>\n",
       "<table border=\"1\" class=\"dataframe\">\n",
       "  <thead>\n",
       "    <tr style=\"text-align: right;\">\n",
       "      <th></th>\n",
       "      <th>mean</th>\n",
       "      <th>count</th>\n",
       "    </tr>\n",
       "    <tr>\n",
       "      <th>l3</th>\n",
       "      <th></th>\n",
       "      <th></th>\n",
       "    </tr>\n",
       "  </thead>\n",
       "  <tbody>\n",
       "    <tr>\n",
       "      <th>245562.34</th>\n",
       "      <td>-1011.84</td>\n",
       "      <td>3564</td>\n",
       "    </tr>\n",
       "    <tr>\n",
       "      <th>178763.57</th>\n",
       "      <td>375.53</td>\n",
       "      <td>2210</td>\n",
       "    </tr>\n",
       "    <tr>\n",
       "      <th>207948.86</th>\n",
       "      <td>-1290.95</td>\n",
       "      <td>2045</td>\n",
       "    </tr>\n",
       "    <tr>\n",
       "      <th>292176.08</th>\n",
       "      <td>308.30</td>\n",
       "      <td>1911</td>\n",
       "    </tr>\n",
       "    <tr>\n",
       "      <th>163540.34</th>\n",
       "      <td>151.53</td>\n",
       "      <td>1908</td>\n",
       "    </tr>\n",
       "    <tr>\n",
       "      <th>278961.10</th>\n",
       "      <td>-108.24</td>\n",
       "      <td>1868</td>\n",
       "    </tr>\n",
       "    <tr>\n",
       "      <th>200651.38</th>\n",
       "      <td>340.15</td>\n",
       "      <td>1017</td>\n",
       "    </tr>\n",
       "    <tr>\n",
       "      <th>254037.28</th>\n",
       "      <td>-712.10</td>\n",
       "      <td>920</td>\n",
       "    </tr>\n",
       "    <tr>\n",
       "      <th>141387.16</th>\n",
       "      <td>-360.65</td>\n",
       "      <td>898</td>\n",
       "    </tr>\n",
       "    <tr>\n",
       "      <th>177270.09</th>\n",
       "      <td>776.13</td>\n",
       "      <td>747</td>\n",
       "    </tr>\n",
       "    <tr>\n",
       "      <th>120042.07</th>\n",
       "      <td>-787.18</td>\n",
       "      <td>737</td>\n",
       "    </tr>\n",
       "    <tr>\n",
       "      <th>248956.25</th>\n",
       "      <td>-1576.18</td>\n",
       "      <td>565</td>\n",
       "    </tr>\n",
       "    <tr>\n",
       "      <th>206281.34</th>\n",
       "      <td>2851.95</td>\n",
       "      <td>442</td>\n",
       "    </tr>\n",
       "    <tr>\n",
       "      <th>224361.83</th>\n",
       "      <td>-2852.73</td>\n",
       "      <td>411</td>\n",
       "    </tr>\n",
       "    <tr>\n",
       "      <th>180914.53</th>\n",
       "      <td>-6724.68</td>\n",
       "      <td>389</td>\n",
       "    </tr>\n",
       "    <tr>\n",
       "      <th>200249.47</th>\n",
       "      <td>900.79</td>\n",
       "      <td>387</td>\n",
       "    </tr>\n",
       "    <tr>\n",
       "      <th>187424.16</th>\n",
       "      <td>1586.85</td>\n",
       "      <td>340</td>\n",
       "    </tr>\n",
       "    <tr>\n",
       "      <th>164414.42</th>\n",
       "      <td>-3630.75</td>\n",
       "      <td>326</td>\n",
       "    </tr>\n",
       "    <tr>\n",
       "      <th>160613.80</th>\n",
       "      <td>-2703.27</td>\n",
       "      <td>311</td>\n",
       "    </tr>\n",
       "    <tr>\n",
       "      <th>156903.23</th>\n",
       "      <td>4146.18</td>\n",
       "      <td>298</td>\n",
       "    </tr>\n",
       "    <tr>\n",
       "      <th>153322.52</th>\n",
       "      <td>-3606.95</td>\n",
       "      <td>277</td>\n",
       "    </tr>\n",
       "    <tr>\n",
       "      <th>153874.71</th>\n",
       "      <td>231.91</td>\n",
       "      <td>266</td>\n",
       "    </tr>\n",
       "    <tr>\n",
       "      <th>154568.62</th>\n",
       "      <td>1167.84</td>\n",
       "      <td>262</td>\n",
       "    </tr>\n",
       "    <tr>\n",
       "      <th>148242.36</th>\n",
       "      <td>1024.29</td>\n",
       "      <td>257</td>\n",
       "    </tr>\n",
       "    <tr>\n",
       "      <th>139942.24</th>\n",
       "      <td>-1040.36</td>\n",
       "      <td>253</td>\n",
       "    </tr>\n",
       "    <tr>\n",
       "      <th>134475.06</th>\n",
       "      <td>-8576.32</td>\n",
       "      <td>229</td>\n",
       "    </tr>\n",
       "    <tr>\n",
       "      <th>163638.48</th>\n",
       "      <td>-1417.38</td>\n",
       "      <td>226</td>\n",
       "    </tr>\n",
       "    <tr>\n",
       "      <th>253340.74</th>\n",
       "      <td>-4356.51</td>\n",
       "      <td>214</td>\n",
       "    </tr>\n",
       "    <tr>\n",
       "      <th>173356.25</th>\n",
       "      <td>-3171.18</td>\n",
       "      <td>213</td>\n",
       "    </tr>\n",
       "    <tr>\n",
       "      <th>174300.26</th>\n",
       "      <td>-1426.37</td>\n",
       "      <td>210</td>\n",
       "    </tr>\n",
       "    <tr>\n",
       "      <th>145327.34</th>\n",
       "      <td>3157.26</td>\n",
       "      <td>202</td>\n",
       "    </tr>\n",
       "    <tr>\n",
       "      <th>205756.00</th>\n",
       "      <td>-4475.92</td>\n",
       "      <td>201</td>\n",
       "    </tr>\n",
       "    <tr>\n",
       "      <th>147694.98</th>\n",
       "      <td>688.35</td>\n",
       "      <td>194</td>\n",
       "    </tr>\n",
       "    <tr>\n",
       "      <th>181455.87</th>\n",
       "      <td>-277.68</td>\n",
       "      <td>179</td>\n",
       "    </tr>\n",
       "    <tr>\n",
       "      <th>211303.47</th>\n",
       "      <td>2545.03</td>\n",
       "      <td>165</td>\n",
       "    </tr>\n",
       "    <tr>\n",
       "      <th>126349.29</th>\n",
       "      <td>2231.27</td>\n",
       "      <td>151</td>\n",
       "    </tr>\n",
       "    <tr>\n",
       "      <th>146852.19</th>\n",
       "      <td>557.05</td>\n",
       "      <td>151</td>\n",
       "    </tr>\n",
       "    <tr>\n",
       "      <th>154475.64</th>\n",
       "      <td>1095.58</td>\n",
       "      <td>148</td>\n",
       "    </tr>\n",
       "    <tr>\n",
       "      <th>173169.23</th>\n",
       "      <td>-2402.72</td>\n",
       "      <td>129</td>\n",
       "    </tr>\n",
       "    <tr>\n",
       "      <th>148321.61</th>\n",
       "      <td>6850.10</td>\n",
       "      <td>128</td>\n",
       "    </tr>\n",
       "    <tr>\n",
       "      <th>160283.58</th>\n",
       "      <td>5023.44</td>\n",
       "      <td>101</td>\n",
       "    </tr>\n",
       "    <tr>\n",
       "      <th>186777.89</th>\n",
       "      <td>9734.40</td>\n",
       "      <td>95</td>\n",
       "    </tr>\n",
       "    <tr>\n",
       "      <th>158164.88</th>\n",
       "      <td>1898.04</td>\n",
       "      <td>91</td>\n",
       "    </tr>\n",
       "    <tr>\n",
       "      <th>174981.06</th>\n",
       "      <td>176.21</td>\n",
       "      <td>90</td>\n",
       "    </tr>\n",
       "    <tr>\n",
       "      <th>201031.70</th>\n",
       "      <td>-6369.02</td>\n",
       "      <td>67</td>\n",
       "    </tr>\n",
       "    <tr>\n",
       "      <th>152699.62</th>\n",
       "      <td>-6945.50</td>\n",
       "      <td>66</td>\n",
       "    </tr>\n",
       "    <tr>\n",
       "      <th>181934.99</th>\n",
       "      <td>964.35</td>\n",
       "      <td>63</td>\n",
       "    </tr>\n",
       "    <tr>\n",
       "      <th>160572.73</th>\n",
       "      <td>-6973.13</td>\n",
       "      <td>55</td>\n",
       "    </tr>\n",
       "    <tr>\n",
       "      <th>141186.55</th>\n",
       "      <td>-2930.02</td>\n",
       "      <td>46</td>\n",
       "    </tr>\n",
       "    <tr>\n",
       "      <th>152446.88</th>\n",
       "      <td>-1526.26</td>\n",
       "      <td>45</td>\n",
       "    </tr>\n",
       "    <tr>\n",
       "      <th>166519.96</th>\n",
       "      <td>5462.12</td>\n",
       "      <td>16</td>\n",
       "    </tr>\n",
       "    <tr>\n",
       "      <th>206666.67</th>\n",
       "      <td>-11824.66</td>\n",
       "      <td>2</td>\n",
       "    </tr>\n",
       "  </tbody>\n",
       "</table>\n",
       "</div>"
      ],
      "text/plain": [
       "               mean  count\n",
       "l3                        \n",
       "245562.34  -1011.84   3564\n",
       "178763.57    375.53   2210\n",
       "207948.86  -1290.95   2045\n",
       "292176.08    308.30   1911\n",
       "163540.34    151.53   1908\n",
       "278961.10   -108.24   1868\n",
       "200651.38    340.15   1017\n",
       "254037.28   -712.10    920\n",
       "141387.16   -360.65    898\n",
       "177270.09    776.13    747\n",
       "120042.07   -787.18    737\n",
       "248956.25  -1576.18    565\n",
       "206281.34   2851.95    442\n",
       "224361.83  -2852.73    411\n",
       "180914.53  -6724.68    389\n",
       "200249.47    900.79    387\n",
       "187424.16   1586.85    340\n",
       "164414.42  -3630.75    326\n",
       "160613.80  -2703.27    311\n",
       "156903.23   4146.18    298\n",
       "153322.52  -3606.95    277\n",
       "153874.71    231.91    266\n",
       "154568.62   1167.84    262\n",
       "148242.36   1024.29    257\n",
       "139942.24  -1040.36    253\n",
       "134475.06  -8576.32    229\n",
       "163638.48  -1417.38    226\n",
       "253340.74  -4356.51    214\n",
       "173356.25  -3171.18    213\n",
       "174300.26  -1426.37    210\n",
       "145327.34   3157.26    202\n",
       "205756.00  -4475.92    201\n",
       "147694.98    688.35    194\n",
       "181455.87   -277.68    179\n",
       "211303.47   2545.03    165\n",
       "126349.29   2231.27    151\n",
       "146852.19    557.05    151\n",
       "154475.64   1095.58    148\n",
       "173169.23  -2402.72    129\n",
       "148321.61   6850.10    128\n",
       "160283.58   5023.44    101\n",
       "186777.89   9734.40     95\n",
       "158164.88   1898.04     91\n",
       "174981.06    176.21     90\n",
       "201031.70  -6369.02     67\n",
       "152699.62  -6945.50     66\n",
       "181934.99    964.35     63\n",
       "160572.73  -6973.13     55\n",
       "141186.55  -2930.02     46\n",
       "152446.88  -1526.26     45\n",
       "166519.96   5462.12     16\n",
       "206666.67 -11824.66      2"
      ]
     },
     "execution_count": 314,
     "metadata": {},
     "output_type": "execute_result"
    }
   ],
   "source": [
    "error_barrio.sort_values(by = 'count', ascending = False)"
   ]
  },
  {
   "cell_type": "markdown",
   "metadata": {},
   "source": [
    "Como era esperable, los barrios con mayor cantidad de errores en las predicciones son los barrios con mas cantidad de propiedades: Palermo, Almagro, Caballito y Recoleta.\n",
    "\n",
    "Sin embargo, los barrios con un promedio mayor de error en las predicciones (promedio del precio real de las propiedades del barrio vs promedio del precio predicho de las propiedades) fueron Catalinas, Villa Ortuzar, San Nicolas y Parque Patricios."
   ]
  },
  {
   "cell_type": "markdown",
   "metadata": {},
   "source": [
    "### Conclusiones"
   ]
  },
  {
   "cell_type": "markdown",
   "metadata": {},
   "source": [
    "En el proyecto del primer Sprint no teniamos todas las variables a disposicion y muchas contenian missings, por otro lado los modelos que utilizamos no eran lo suficientemente profundos. Todo eso generaba que el entrenamiento y testeo de esos modelos arrojaran metricas no muy buenas y modelos pocos estables.\n",
    "\n",
    "Con las transformaciones implementadas a principio de este proyecto ya nos garantizamos un Dataset mucho mas robusto, lo cual queda evidenciado poniendo en practica el mismo Arbol de decision del proyecto pasado y obteniendo metricas mejores. Los dos modelos avanzados implementados y optimizados de la manera correcta logran que podamos encontrar un modelo que se ajuste lo mas posible a estos datos sin caer en Overfitting para que pueda ser confiable y estable en el tiempo con la ingesta de datos nuevos.\n",
    "\n"
   ]
  },
  {
   "cell_type": "code",
   "execution_count": null,
   "metadata": {},
   "outputs": [],
   "source": []
  }
 ],
 "metadata": {
  "kernelspec": {
   "display_name": "Python 3",
   "language": "python",
   "name": "python3"
  },
  "language_info": {
   "codemirror_mode": {
    "name": "ipython",
    "version": 3
   },
   "file_extension": ".py",
   "mimetype": "text/x-python",
   "name": "python",
   "nbconvert_exporter": "python",
   "pygments_lexer": "ipython3",
   "version": "3.8.5"
  }
 },
 "nbformat": 4,
 "nbformat_minor": 4
}
